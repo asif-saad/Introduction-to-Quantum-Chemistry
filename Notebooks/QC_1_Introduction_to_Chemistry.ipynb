{
 "cells": [
  {
   "cell_type": "markdown",
   "id": "af363996",
   "metadata": {},
   "source": [
    "<a href=\"https://qworld.net\" target=\"_blank\" align=\"left\"><img src=\"../qworld/images/header.jpg\"  align=\"left\"></a>"
   ]
  },
  {
   "cell_type": "markdown",
   "id": "2ce73c16",
   "metadata": {},
   "source": [
    "# Introduction to Chemistry\n",
    "_prepared by Ajay Kumar_"
   ]
  },
  {
   "cell_type": "markdown",
   "id": "bd89b893",
   "metadata": {},
   "source": [
    "## Atoms "
   ]
  },
  {
   "cell_type": "markdown",
   "id": "d00be755",
   "metadata": {},
   "source": [
    "<h3> What is an atom?"
   ]
  },
  {
   "cell_type": "markdown",
   "id": "46f0d0c7",
   "metadata": {},
   "source": [
    " An atom a fundamental piece of matter. (Matter is anything that can be touched physically.) Everything in the universe (except energy) is made of matter, and, so, everything in the universe is made of atoms."
   ]
  },
  {
   "cell_type": "markdown",
   "id": "ca6a54d2",
   "metadata": {},
   "source": [
    "An atom itself is made up of three tiny kinds of particles called subatomic particles: protons, neutrons, and electrons.  <img src='../pictures/atom.png' width=\"50%\" align=\"center\"> The protons and the neutrons make up the center of the atom called the nucleus and the electrons fly around above the nucleus in a small cloud. The electrons carry a negative charge and the protons carry a positive charge. In a normal (neutral) atom the number of protons and the number of electrons are equal. Often, but not always, the number of neutrons is the same, too."
   ]
  },
  {
   "cell_type": "markdown",
   "id": "1f68cba7",
   "metadata": {},
   "source": [
    "<h3> Electronic Configuration of the different atoms"
   ]
  },
  {
   "cell_type": "markdown",
   "id": "b5734a7f",
   "metadata": {},
   "source": [
    "The following image describes the electronic configuration of the given elements which is one of the properties that determine the characteristics of the element.\n",
    "<img src='../pictures/Electron_Shells.jpg' width=\"50%\" align=\"center\">\n",
    "\n",
    "-   The hydrogen (H) atom is the most fundametal atom. It has one proton as a nucleus and one electron bounded to the nucleus by Coulomb force.\n",
    "\n",
    "-  The helium (He) atom has 2 protons and 2 neutrons at the nucleus and 2 electrons bound to the nucleus by Coulomb force.\n",
    "-  The carbon has (C) 6 protons and 6 neutrons at the nucleus and 6 electrons bound to the nucleus.\n",
    "-  The neon (Ne) has 10 protons and neutrons at the nucleus and 10 electrons bound to the nucleus. "
   ]
  },
  {
   "cell_type": "markdown",
   "id": "ceedbde4",
   "metadata": {},
   "source": [
    "<h2> Molecules"
   ]
  },
  {
   "cell_type": "markdown",
   "id": "1cbcb59a",
   "metadata": {},
   "source": [
    "<h3> What is a molecule?"
   ]
  },
  {
   "cell_type": "markdown",
   "id": "21608300",
   "metadata": {},
   "source": [
    "Molecule, a group of two or more atoms that form the smallest identifiable unit into which a pure substance can be divided and still retain the composition and chemical properties of that substance."
   ]
  },
  {
   "cell_type": "markdown",
   "id": "5773157b",
   "metadata": {},
   "source": [
    "Most often, the term “molecules” refers to multiple atoms. A molecule may be composed of a single chemical element, as with oxygen O2, or of multiple elements, such as water (H2O)."
   ]
  },
  {
   "cell_type": "markdown",
   "id": "e656e751",
   "metadata": {},
   "source": [
    "<img src = \"https://upload.wikimedia.org/wikipedia/commons/8/83/Water_Molecule_Structure_.png\" align = \"center\" width = \"500\" />"
   ]
  },
  {
   "cell_type": "markdown",
   "id": "551b6faa",
   "metadata": {},
   "source": [
    "-  Molecules are neutral and they do not carry any charge.\n",
    "-  Compound when two or more different atoms are held together by a covalent bond. All compounds are molecules but not all molecules are compounds.\n",
    "-  Covalent when 2 or more nonmetallic atoms are bound together by sharing electrons.\n",
    "-  Isomer Molecules with the same number of atoms in different geometric arrangements."
   ]
  },
  {
   "cell_type": "markdown",
   "id": "2e2735b2",
   "metadata": {},
   "source": [
    "<h2> Orbitals"
   ]
  },
  {
   "cell_type": "markdown",
   "id": "ead3a1d6",
   "metadata": {},
   "source": [
    "<h3> What are orbitals?"
   ]
  },
  {
   "cell_type": "markdown",
   "id": "658455fb",
   "metadata": {},
   "source": [
    "<p> Orbitals are the regions of space in which electrons are most likely to be found. </p>\n",
    "\n",
    "<p> Each orbital is denoted by a number and a letter.</p>\n",
    "\n",
    "The number denotes the energy level of the electron in the orbital. Thus 1 refers to the energy level closest to the nucleus; 2 refers to the next energy level further out, and so on.\n",
    "\n",
    "The letter refers to the shape of the orbital. The letters go in the order s, p, d, f, g, h, i, j, etc. The letters s, p, d, and f were assigned for historical reasons that need not concern us. All we have to do is remember the shapes that correspond to each letter.\n",
    "\n",
    "Since an electron can theoretically occupy all space, it is impossible to draw an orbital. All we can do is draw a shape that will include the electron most of the time, say 95% of the time. We call this shape the 95% contour."
   ]
  },
  {
   "cell_type": "markdown",
   "id": "50ef8b4a",
   "metadata": {},
   "source": [
    "<h4> s Orbital"
   ]
  },
  {
   "cell_type": "markdown",
   "id": "a6fbf135",
   "metadata": {},
   "source": [
    "An s orbital is spherically symmetric around the nucleus of the atom, like a hollow ball made of rather fluffy material with the nucleus at its centre. As the energy levels increase, the electrons are located further from the nucleus, so the orbitals get bigger. The order of size is 1s < 2s < 3s < …, as shown below.\n",
    "\n",
    "<img src = \"http://images2.wikia.nocookie.net/__cb20121230104309/ellesmere-chemistry/images/thumb/5/54/S-orbitals_3-up.jpg/250px-S-orbitals_3-up.jpg\" align = \"center\" width = \"300\" />"
   ]
  },
  {
   "cell_type": "markdown",
   "id": "31587e26",
   "metadata": {},
   "source": [
    "Now, let’s look at a cross-section of these orbitals.\n",
    "\n",
    "<img src = \"https://upload.wikimedia.org/wikipedia/commons/5/5c/S_orbitals.png\" align = \"center\" width = \"500\" />\n",
    "\n",
    "If you look carefully, you will notice that a 1s orbital has very little electron density near the nucleus, but it builds up to a maximum as you get further from the nucleus and then decreases beyond the contour. It is sort of like a hollow tennis ball.\n",
    "\n",
    "A 2s orbital is similar to a 1s orbital, but it has sphere of electron density inside the outer sphere, like one tennis ball inside another. There is a surface between the two balls where there is zero probability of finding an electron. We call this surface a node or a nodal surface.\n",
    "\n",
    "A 3s orbital is even larger, and it has three nodes."
   ]
  },
  {
   "cell_type": "markdown",
   "id": "52d76fe2",
   "metadata": {},
   "source": [
    "<h4> p Orbital"
   ]
  },
  {
   "cell_type": "markdown",
   "id": "31413de6",
   "metadata": {},
   "source": [
    "Not all electrons inhabit s orbitals. At the first energy level, the only orbital available to electrons is the 1s orbital. However, at the second level, there are also orbitals called 2p orbitals in addition to the 2s orbital.\n",
    "\n",
    "Unlike an s orbital, a p orbital points in a particular direction. The one shown below points up and down the page.\n",
    "\n",
    "<img src = \"http://media-3.web.britannica.com/eb-media/54/3254-004-DAE1AA41.jpg\" align = \"center\" width = \"500\" />"
   ]
  },
  {
   "cell_type": "markdown",
   "id": "2ef9483d",
   "metadata": {},
   "source": [
    "At any one energy level, we have three absolutely equivalent p orbitals pointing mutually at right angles to each other. These are arbitrarily given the symbols px, py and pz. This is simply for convenience, because what you might think of as the x, y or z direction changes constantly as the atom tumbles in space.\n",
    "\n",
    "The p orbitals at the second energy level are called 2px, 2py and 2pz. There are similar orbitals at subsequent levels: 3px, 3py, 3pz, 4px, 4py, 4pz and so on.\n",
    "All levels except the first have p orbitals.\n",
    "\n",
    "<img src =\"https://useruploads.socratic.org/EGl8JIeSTASuUUBzzesk_800px-Px_py_pz_orbitals.png\" align = \"center\" width = \"500\"/>"
   ]
  },
  {
   "cell_type": "markdown",
   "id": "c0756a8e",
   "metadata": {},
   "source": [
    "<h4> d Orbitals"
   ]
  },
  {
   "cell_type": "markdown",
   "id": "e6abb8dc",
   "metadata": {},
   "source": [
    "In addition to s and p orbitals, there are two other sets of orbitals which become available for electrons to inhabit at higher energy levels. At the third level, there is a set of five d orbitals (with complicated shapes and names) as well as the 3s and 3p orbitals (3px, 3py, 3pz). At the third level there are a total of nine orbitals altogether.\n",
    "\n",
    "The five 3d orbitals are called\n",
    "3dxy\n",
    "3dxz\n",
    "3dyz\n",
    "3dx² - y²\n",
    "3dz²\n",
    "\n",
    "<img src = \"http://upload.wikimedia.org/wikipedia/commons/5/58/D_orbitals.png\" align = \"center\" width = \"500\" />\n",
    "\n",
    "To make sense of the names, we need to look at them in two groups. The first group contains the 3dxy, 3dxz and 3dyz orbitals. The names tell you that these orbitals lie in the x-y plane, the x-z plane, and the y-z plane, respectively. Each orbital has four lobes, and each of the lobes is pointing between two of the axes, not along them.\n",
    "\n",
    "The second group contains the 3dx² - y² and 3dz² orbitals. Their lobes point along the various axes.\n",
    "\n",
    "The 3dx² - y² orbital looks exactly like the first group, except that that the lobes are pointing along the x and y axes, not between them.\n",
    "\n",
    "The 3dz² looks like a p orbital wearing a doughnut around its waist.\n",
    "\n"
   ]
  },
  {
   "cell_type": "markdown",
   "id": "35d1d70b",
   "metadata": {},
   "source": [
    "<h4> f Orbitals"
   ]
  },
  {
   "cell_type": "markdown",
   "id": "a11a5734",
   "metadata": {},
   "source": [
    "At the fourth and higher levels, there are seven f orbitals in addition to the 4s, 4p, and 4d orbitals.\n",
    "\n",
    "<img src = \"http://chemistry.caddell.org/4f-electron-orbitals-cubic-set.jpg\" slign = \"center\" width = \"500\">\n",
    "\n",
    "Counting the 4s, 4p, and 4d orbitals, this makes a total of 16 orbitals in the fourth level. They have even more complicated shapes. s, p, d, and f orbitals are available at all higher energy levels as well. Fortunately, you will probably not have to memorize the shapes of the f orbitals. Just remember that there seven f orbitals in each level from level 4 and onwards."
   ]
  },
  {
   "cell_type": "markdown",
   "id": "fc35bc2a",
   "metadata": {},
   "source": [
    "<h3> Atomic and Molecular orbitals"
   ]
  },
  {
   "cell_type": "markdown",
   "id": "e15e8c56",
   "metadata": {},
   "source": [
    "<h4> What are atomic orbitals?"
   ]
  },
  {
   "cell_type": "markdown",
   "id": "a9ed7765",
   "metadata": {},
   "source": [
    "- The positions surrounding an atom’s nucleus where the electrons are most likely to be at any given moment are atomic orbitals.\n",
    "\n",
    "- It is a mathematical feature that defines either one electron or a pair of electrons’ wave-like behaviour in an atom.\n",
    "\n",
    "- Electrons occupy orbitals of low energy (closer to the nucleus) until they enter those of higher energy."
   ]
  },
  {
   "cell_type": "code",
   "execution_count": 5,
   "id": "bc058d3c",
   "metadata": {},
   "outputs": [
    {
     "name": "stdout",
     "output_type": "stream",
     "text": [
      "H : 1s1\n",
      "He: 1s2\n",
      "Li: 1s2.2s1\n",
      "Be: 1s2.2s2\n",
      "B : 1s2.2s2.2p1\n",
      "C : 1s2.2s2.2p2\n",
      "N : 1s2.2s2.2p3\n",
      "O : 1s2.2s2.2p4\n",
      "F : 1s2.2s2.2p5\n",
      "Ne: 1s2.2s2.2p6\n",
      "Na: 1s2.2s2.2p6.3s1\n",
      "Mg: 1s2.2s2.2p6.3s2\n",
      "Al: 1s2.2s2.2p6.3s2.3p1\n",
      "Si: 1s2.2s2.2p6.3s2.3p2\n",
      "P : 1s2.2s2.2p6.3s2.3p3\n",
      "S : 1s2.2s2.2p6.3s2.3p4\n",
      "Cl: 1s2.2s2.2p6.3s2.3p5\n",
      "Ar: 1s2.2s2.2p6.3s2.3p6\n",
      "K : 1s2.2s2.2p6.3s2.3p6.4s1\n",
      "Ca: 1s2.2s2.2p6.3s2.3p6.4s2\n",
      "Sc: 1s2.2s2.2p6.3s2.3p6.4s2.3d1\n",
      "Ti: 1s2.2s2.2p6.3s2.3p6.4s2.3d2\n",
      "V : 1s2.2s2.2p6.3s2.3p6.4s2.3d3\n",
      "Cr: 1s2.2s2.2p6.3s2.3p6.4s2.3d4\n",
      "Mn: 1s2.2s2.2p6.3s2.3p6.4s2.3d5\n",
      "Fe: 1s2.2s2.2p6.3s2.3p6.4s2.3d6\n",
      "Co: 1s2.2s2.2p6.3s2.3p6.4s2.3d7\n",
      "Ni: 1s2.2s2.2p6.3s2.3p6.4s2.3d8\n",
      "Cu: 1s2.2s2.2p6.3s2.3p6.4s2.3d9\n",
      "Zn: 1s2.2s2.2p6.3s2.3p6.4s2.3d10\n",
      "Ga: 1s2.2s2.2p6.3s2.3p6.4s2.3d10.4p1\n",
      "Ge: 1s2.2s2.2p6.3s2.3p6.4s2.3d10.4p2\n",
      "As: 1s2.2s2.2p6.3s2.3p6.4s2.3d10.4p3\n",
      "Se: 1s2.2s2.2p6.3s2.3p6.4s2.3d10.4p4\n",
      "Br: 1s2.2s2.2p6.3s2.3p6.4s2.3d10.4p5\n",
      "Kr: 1s2.2s2.2p6.3s2.3p6.4s2.3d10.4p6\n",
      "Rb: 1s2.2s2.2p6.3s2.3p6.4s2.3d10.4p6.5s1\n",
      "Sr: 1s2.2s2.2p6.3s2.3p6.4s2.3d10.4p6.5s2\n",
      "Y : 1s2.2s2.2p6.3s2.3p6.4s2.3d10.4p6.5s2.4d1\n",
      "Zr: 1s2.2s2.2p6.3s2.3p6.4s2.3d10.4p6.5s2.4d2\n",
      "Nb: 1s2.2s2.2p6.3s2.3p6.4s2.3d10.4p6.5s2.4d3\n",
      "Mo: 1s2.2s2.2p6.3s2.3p6.4s2.3d10.4p6.5s2.4d4\n",
      "Tc: 1s2.2s2.2p6.3s2.3p6.4s2.3d10.4p6.5s2.4d5\n",
      "Ru: 1s2.2s2.2p6.3s2.3p6.4s2.3d10.4p6.5s2.4d6\n",
      "Rh: 1s2.2s2.2p6.3s2.3p6.4s2.3d10.4p6.5s2.4d7\n",
      "Pd: 1s2.2s2.2p6.3s2.3p6.4s2.3d10.4p6.5s2.4d8\n",
      "Ag: 1s2.2s2.2p6.3s2.3p6.4s2.3d10.4p6.5s2.4d9\n",
      "Cd: 1s2.2s2.2p6.3s2.3p6.4s2.3d10.4p6.5s2.4d10\n",
      "In: 1s2.2s2.2p6.3s2.3p6.4s2.3d10.4p6.5s2.4d10.5p1\n",
      "Sn: 1s2.2s2.2p6.3s2.3p6.4s2.3d10.4p6.5s2.4d10.5p2\n",
      "Sb: 1s2.2s2.2p6.3s2.3p6.4s2.3d10.4p6.5s2.4d10.5p3\n",
      "Te: 1s2.2s2.2p6.3s2.3p6.4s2.3d10.4p6.5s2.4d10.5p4\n",
      "I : 1s2.2s2.2p6.3s2.3p6.4s2.3d10.4p6.5s2.4d10.5p5\n",
      "Xe: 1s2.2s2.2p6.3s2.3p6.4s2.3d10.4p6.5s2.4d10.5p6\n",
      "Cs: 1s2.2s2.2p6.3s2.3p6.4s2.3d10.4p6.5s2.4d10.5p6.6s1\n",
      "Ba: 1s2.2s2.2p6.3s2.3p6.4s2.3d10.4p6.5s2.4d10.5p6.6s2\n",
      "La: 1s2.2s2.2p6.3s2.3p6.4s2.3d10.4p6.5s2.4d10.5p6.6s2.4f1\n",
      "Ce: 1s2.2s2.2p6.3s2.3p6.4s2.3d10.4p6.5s2.4d10.5p6.6s2.4f2\n",
      "Pr: 1s2.2s2.2p6.3s2.3p6.4s2.3d10.4p6.5s2.4d10.5p6.6s2.4f3\n",
      "Nd: 1s2.2s2.2p6.3s2.3p6.4s2.3d10.4p6.5s2.4d10.5p6.6s2.4f4\n",
      "Pm: 1s2.2s2.2p6.3s2.3p6.4s2.3d10.4p6.5s2.4d10.5p6.6s2.4f5\n",
      "Sm: 1s2.2s2.2p6.3s2.3p6.4s2.3d10.4p6.5s2.4d10.5p6.6s2.4f6\n",
      "Eu: 1s2.2s2.2p6.3s2.3p6.4s2.3d10.4p6.5s2.4d10.5p6.6s2.4f7\n",
      "Gd: 1s2.2s2.2p6.3s2.3p6.4s2.3d10.4p6.5s2.4d10.5p6.6s2.4f8\n",
      "Tb: 1s2.2s2.2p6.3s2.3p6.4s2.3d10.4p6.5s2.4d10.5p6.6s2.4f9\n",
      "Dy: 1s2.2s2.2p6.3s2.3p6.4s2.3d10.4p6.5s2.4d10.5p6.6s2.4f10\n",
      "Ho: 1s2.2s2.2p6.3s2.3p6.4s2.3d10.4p6.5s2.4d10.5p6.6s2.4f11\n",
      "Er: 1s2.2s2.2p6.3s2.3p6.4s2.3d10.4p6.5s2.4d10.5p6.6s2.4f12\n",
      "Tm: 1s2.2s2.2p6.3s2.3p6.4s2.3d10.4p6.5s2.4d10.5p6.6s2.4f13\n",
      "Yb: 1s2.2s2.2p6.3s2.3p6.4s2.3d10.4p6.5s2.4d10.5p6.6s2.4f14\n",
      "Lu: 1s2.2s2.2p6.3s2.3p6.4s2.3d10.4p6.5s2.4d10.5p6.6s2.4f14.5d1\n",
      "Hf: 1s2.2s2.2p6.3s2.3p6.4s2.3d10.4p6.5s2.4d10.5p6.6s2.4f14.5d2\n",
      "Ta: 1s2.2s2.2p6.3s2.3p6.4s2.3d10.4p6.5s2.4d10.5p6.6s2.4f14.5d3\n",
      "W : 1s2.2s2.2p6.3s2.3p6.4s2.3d10.4p6.5s2.4d10.5p6.6s2.4f14.5d4\n",
      "Re: 1s2.2s2.2p6.3s2.3p6.4s2.3d10.4p6.5s2.4d10.5p6.6s2.4f14.5d5\n",
      "Os: 1s2.2s2.2p6.3s2.3p6.4s2.3d10.4p6.5s2.4d10.5p6.6s2.4f14.5d6\n",
      "Ir: 1s2.2s2.2p6.3s2.3p6.4s2.3d10.4p6.5s2.4d10.5p6.6s2.4f14.5d7\n",
      "Pt: 1s2.2s2.2p6.3s2.3p6.4s2.3d10.4p6.5s2.4d10.5p6.6s2.4f14.5d8\n",
      "Au: 1s2.2s2.2p6.3s2.3p6.4s2.3d10.4p6.5s2.4d10.5p6.6s2.4f14.5d9\n",
      "Hg: 1s2.2s2.2p6.3s2.3p6.4s2.3d10.4p6.5s2.4d10.5p6.6s2.4f14.5d10\n",
      "Tl: 1s2.2s2.2p6.3s2.3p6.4s2.3d10.4p6.5s2.4d10.5p6.6s2.4f14.5d10.6p1\n",
      "Pb: 1s2.2s2.2p6.3s2.3p6.4s2.3d10.4p6.5s2.4d10.5p6.6s2.4f14.5d10.6p2\n",
      "Bi: 1s2.2s2.2p6.3s2.3p6.4s2.3d10.4p6.5s2.4d10.5p6.6s2.4f14.5d10.6p3\n",
      "Po: 1s2.2s2.2p6.3s2.3p6.4s2.3d10.4p6.5s2.4d10.5p6.6s2.4f14.5d10.6p4\n",
      "At: 1s2.2s2.2p6.3s2.3p6.4s2.3d10.4p6.5s2.4d10.5p6.6s2.4f14.5d10.6p5\n",
      "Rn: 1s2.2s2.2p6.3s2.3p6.4s2.3d10.4p6.5s2.4d10.5p6.6s2.4f14.5d10.6p6\n",
      "Fr: 1s2.2s2.2p6.3s2.3p6.4s2.3d10.4p6.5s2.4d10.5p6.6s2.4f14.5d10.6p6.7s1\n",
      "Ra: 1s2.2s2.2p6.3s2.3p6.4s2.3d10.4p6.5s2.4d10.5p6.6s2.4f14.5d10.6p6.7s2\n",
      "Ac: 1s2.2s2.2p6.3s2.3p6.4s2.3d10.4p6.5s2.4d10.5p6.6s2.4f14.5d10.6p6.7s2.5f1\n",
      "Th: 1s2.2s2.2p6.3s2.3p6.4s2.3d10.4p6.5s2.4d10.5p6.6s2.4f14.5d10.6p6.7s2.5f2\n",
      "Pa: 1s2.2s2.2p6.3s2.3p6.4s2.3d10.4p6.5s2.4d10.5p6.6s2.4f14.5d10.6p6.7s2.5f3\n",
      "U : 1s2.2s2.2p6.3s2.3p6.4s2.3d10.4p6.5s2.4d10.5p6.6s2.4f14.5d10.6p6.7s2.5f4\n",
      "Np: 1s2.2s2.2p6.3s2.3p6.4s2.3d10.4p6.5s2.4d10.5p6.6s2.4f14.5d10.6p6.7s2.5f5\n",
      "Pu: 1s2.2s2.2p6.3s2.3p6.4s2.3d10.4p6.5s2.4d10.5p6.6s2.4f14.5d10.6p6.7s2.5f6\n",
      "Am: 1s2.2s2.2p6.3s2.3p6.4s2.3d10.4p6.5s2.4d10.5p6.6s2.4f14.5d10.6p6.7s2.5f7\n",
      "Cm: 1s2.2s2.2p6.3s2.3p6.4s2.3d10.4p6.5s2.4d10.5p6.6s2.4f14.5d10.6p6.7s2.5f8\n",
      "Bk: 1s2.2s2.2p6.3s2.3p6.4s2.3d10.4p6.5s2.4d10.5p6.6s2.4f14.5d10.6p6.7s2.5f9\n",
      "Cf: 1s2.2s2.2p6.3s2.3p6.4s2.3d10.4p6.5s2.4d10.5p6.6s2.4f14.5d10.6p6.7s2.5f10\n",
      "Es: 1s2.2s2.2p6.3s2.3p6.4s2.3d10.4p6.5s2.4d10.5p6.6s2.4f14.5d10.6p6.7s2.5f11\n",
      "Fm: 1s2.2s2.2p6.3s2.3p6.4s2.3d10.4p6.5s2.4d10.5p6.6s2.4f14.5d10.6p6.7s2.5f12\n",
      "Md: 1s2.2s2.2p6.3s2.3p6.4s2.3d10.4p6.5s2.4d10.5p6.6s2.4f14.5d10.6p6.7s2.5f13\n",
      "No: 1s2.2s2.2p6.3s2.3p6.4s2.3d10.4p6.5s2.4d10.5p6.6s2.4f14.5d10.6p6.7s2.5f14\n",
      "Lr: 1s2.2s2.2p6.3s2.3p6.4s2.3d10.4p6.5s2.4d10.5p6.6s2.4f14.5d10.6p6.7s2.5f14.6d1\n",
      "Rf: 1s2.2s2.2p6.3s2.3p6.4s2.3d10.4p6.5s2.4d10.5p6.6s2.4f14.5d10.6p6.7s2.5f14.6d2\n"
     ]
    }
   ],
   "source": [
    "#Run the code below to print the atomic orbital configuration of all the elements\n",
    "\n",
    "# All element symbols up to Rf\n",
    "%run element_symbols.py\n",
    "from element_symbols import element_symbols\n",
    "\n",
    "# Letters identifying subshells\n",
    "l_letter = ['s', 'p', 'd', 'f', 'g']\n",
    "\n",
    "def get_config_str(config):\n",
    "    \"\"\" Turn a list of orbital, nelec pairs into a configuration string. \"\"\"\n",
    "    return '.'.join(['{:2s}{:d}'.format(*e) for e in config])\n",
    "\n",
    "# Create and order a list of tuples, (n+l, n, l), corresponding to the order\n",
    "# in which the corresponding orbitals are filled using the Madelung rule.\n",
    "nl_pairs = []\n",
    "for n in range(1,8):\n",
    "    for l in range(n):\n",
    "        nl_pairs.append((n+l, n, l))\n",
    "nl_pairs.sort()\n",
    "\n",
    "# inl indexes the subshell in the nl_pairs list; nelec is the number of\n",
    "# electrons currently inhabiting this subshell\n",
    "inl, nelec = 0, 0\n",
    "# start with the 1s orbital\n",
    "n, l = 1, 0\n",
    "# a list of orbitals and the electrons they contain for a configuration\n",
    "config = [['1s', 0]]\n",
    "for element in element_symbols:\n",
    "    nelec += 1\n",
    "    if nelec > 2*(2*l+1):\n",
    "        # this subshell is now full: start a new subshell\n",
    "        inl += 1\n",
    "        _, n, l = nl_pairs[inl]\n",
    "        config.append(['{}{}'.format(n, l_letter[l]), 1])\n",
    "        nelec = 1\n",
    "    else:\n",
    "        # add an electron to the current subshell\n",
    "        config[-1][1] += 1\n",
    "    # Turn config into a string and output it\n",
    "    s_config = get_config_str(config)\n",
    "    print('{:2s}: {}'.format(element, s_config))"
   ]
  },
  {
   "cell_type": "markdown",
   "id": "eb4460d7",
   "metadata": {},
   "source": [
    "<h3> Basis sets"
   ]
  }
 ],
 "metadata": {
  "kernelspec": {
   "display_name": "Python 3",
   "language": "python",
   "name": "python3"
  },
  "language_info": {
   "codemirror_mode": {
    "name": "ipython",
    "version": 3
   },
   "file_extension": ".py",
   "mimetype": "text/x-python",
   "name": "python",
   "nbconvert_exporter": "python",
   "pygments_lexer": "ipython3",
   "version": "3.8.8"
  }
 },
 "nbformat": 4,
 "nbformat_minor": 5
}
