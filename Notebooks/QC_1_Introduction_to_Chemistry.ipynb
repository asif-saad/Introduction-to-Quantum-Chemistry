{
 "cells": [
  {
   "cell_type": "markdown",
   "metadata": {},
   "source": [
    "<a href=\"https://qworld.net\" target=\"_blank\" align=\"left\"><img src=\"../qworld/images/header.jpg\"  align=\"left\"></a>"
   ]
  },
  {
   "cell_type": "markdown",
   "metadata": {},
   "source": [
    "# Introduction to Chemistry\n",
    "_prepared by Ajay Kumar_"
   ]
  },
  {
   "cell_type": "markdown",
   "metadata": {},
   "source": [
    "## Atoms "
   ]
  },
  {
   "cell_type": "markdown",
   "metadata": {},
   "source": [
    "<h3> What is an atom?"
   ]
  },
  {
   "cell_type": "markdown",
   "metadata": {},
   "source": [
    " An atom a fundamental piece of matter. (Matter is anything that can be touched physically.) Everything in the universe (except energy) is made of matter, and, so, everything in the universe is made of atoms."
   ]
  },
  {
   "cell_type": "markdown",
   "metadata": {},
   "source": [
    "An atom itself is made up of three tiny kinds of particles called subatomic particles: protons, neutrons, and electrons.  <img src=\"https://www.kindpng.com/picc/m/342-3420267_structure-of-an-atom-structure-of-atom-diagram.png\"  align=\"center\" width=\"300\"/> The protons and the neutrons make up the center of the atom called the nucleus and the electrons fly around above the nucleus in a small cloud. The electrons carry a negative charge and the protons carry a positive charge. In a normal (neutral) atom the number of protons and the number of electrons are equal. Often, but not always, the number of neutrons is the same, too."
   ]
  },
  {
   "cell_type": "markdown",
   "metadata": {},
   "source": [
    "<h3> Electronic Configuration of the different atoms"
   ]
  },
  {
   "cell_type": "markdown",
   "metadata": {},
   "source": [
    "The following image describes the electronic configuration of the given elements which is one of the properties that determine the characteristics of the element.\n",
    "<img src = \"https://upload.wikimedia.org/wikipedia/commons/d/de/206_Electron_Shells-01.jpg\" title=\"Electronic configuration\" align = \"center\" width = \"600\"/>\n",
    "\n",
    "-   The hydrogen (H) atom is the most fundametal atom. It has one proton as a nucleus and one electron bounded to the nucleus by Coulomb force.\n",
    "\n",
    "-  The helium (He) atom has 2 protons and 2 neutrons at the nucleus and 2 electrons bound to the nucleus by Coulomb force.\n",
    "-  The carbon has (C) 6 protons and 6 neutrons at the nucleus and 6 electrons bound to the nucleus.\n",
    "-  The neon (Ne) has 10 protons and neutrons at the nucleus and 10 electrons bound to the nucleus. "
   ]
  },
  {
   "cell_type": "markdown",
   "metadata": {},
   "source": [
    "<h2> Molecules"
   ]
  },
  {
   "cell_type": "markdown",
   "metadata": {},
   "source": [
    "<h3> What is a molecule?"
   ]
  },
  {
   "cell_type": "markdown",
   "metadata": {},
   "source": [
    "Molecule, a group of two or more atoms that form the smallest identifiable unit into which a pure substance can be divided and still retain the composition and chemical properties of that substance."
   ]
  },
  {
   "cell_type": "markdown",
   "metadata": {},
   "source": [
    "Most often, the term “molecules” refers to multiple atoms. A molecule may be composed of a single chemical element, as with oxygen O2, or of multiple elements, such as water (H2O)."
   ]
  },
  {
   "cell_type": "markdown",
   "metadata": {},
   "source": [
    "<img src = \"https://upload.wikimedia.org/wikipedia/commons/8/83/Water_Molecule_Structure_.png\" align = \"center\" width = \"500\" />"
   ]
  },
  {
   "cell_type": "markdown",
   "metadata": {},
   "source": [
    "-  Molecules are neutral and they do not carry any charge.\n",
    "-  Compound when two or more different atoms are held together by a covalent bond. All compounds are molecules but not all molecules are compounds.\n",
    "-  Covalent when 2 or more nonmetallic atoms are bound together by sharing electrons.\n",
    "-  Isomer Molecules with the same number of atoms in different geometric arrangements."
   ]
  },
  {
   "cell_type": "markdown",
   "metadata": {},
   "source": [
    "<h2> Orbitals"
   ]
  },
  {
   "cell_type": "markdown",
   "metadata": {},
   "source": [
    "<h3> What are orbitals?"
   ]
  },
  {
   "cell_type": "markdown",
   "metadata": {},
   "source": [
    "<p> Orbitals are the regions of space in which electrons are most likely to be found. </p>\n",
    "\n",
    "<p> Each orbital is denoted by a number and a letter.</p>\n",
    "\n",
    "The number denotes the energy level of the electron in the orbital. Thus 1 refers to the energy level closest to the nucleus; 2 refers to the next energy level further out, and so on.\n",
    "\n",
    "The letter refers to the shape of the orbital. The letters go in the order s, p, d, f, g, h, i, j, etc. The letters s, p, d, and f were assigned for historical reasons that need not concern us. All we have to do is remember the shapes that correspond to each letter.\n",
    "\n",
    "Since an electron can theoretically occupy all space, it is impossible to draw an orbital. All we can do is draw a shape that will include the electron most of the time, say 95% of the time. We call this shape the 95% contour."
   ]
  },
  {
   "cell_type": "markdown",
   "metadata": {},
   "source": [
    "<h4> s Orbital"
   ]
  },
  {
   "cell_type": "markdown",
   "metadata": {},
   "source": [
    "An s orbital is spherically symmetric around the nucleus of the atom, like a hollow ball made of rather fluffy material with the nucleus at its centre. As the energy levels increase, the electrons are located further from the nucleus, so the orbitals get bigger. The order of size is 1s < 2s < 3s < …, as shown below.\n",
    "\n",
    "<img src = \"http://images2.wikia.nocookie.net/__cb20121230104309/ellesmere-chemistry/images/thumb/5/54/S-orbitals_3-up.jpg/250px-S-orbitals_3-up.jpg\" align = \"center\" width = \"300\" />"
   ]
  },
  {
   "cell_type": "markdown",
   "metadata": {},
   "source": [
    "Now, let’s look at a cross-section of these orbitals.\n",
    "\n",
    "<img src = \"https://upload.wikimedia.org/wikipedia/commons/5/5c/S_orbitals.png\" align = \"center\" width = \"500\" />\n",
    "\n",
    "If you look carefully, you will notice that a 1s orbital has very little electron density near the nucleus, but it builds up to a maximum as you get further from the nucleus and then decreases beyond the contour. It is sort of like a hollow tennis ball.\n",
    "\n",
    "A 2s orbital is similar to a 1s orbital, but it has sphere of electron density inside the outer sphere, like one tennis ball inside another. There is a surface between the two balls where there is zero probability of finding an electron. We call this surface a node or a nodal surface.\n",
    "\n",
    "A 3s orbital is even larger, and it has three nodes."
   ]
  },
  {
   "cell_type": "markdown",
   "metadata": {},
   "source": [
    "<h4> p Orbital"
   ]
  },
  {
   "cell_type": "markdown",
   "metadata": {},
   "source": [
    "Not all electrons inhabit s orbitals. At the first energy level, the only orbital available to electrons is the 1s orbital. However, at the second level, there are also orbitals called 2p orbitals in addition to the 2s orbital.\n",
    "\n",
    "Unlike an s orbital, a p orbital points in a particular direction. The one shown below points up and down the page.\n",
    "\n",
    "<img src = \"http://media-3.web.britannica.com/eb-media/54/3254-004-DAE1AA41.jpg\" align = \"center\" width = \"500\" />"
   ]
  },
  {
   "cell_type": "markdown",
   "metadata": {},
   "source": [
    "At any one energy level, we have three absolutely equivalent p orbitals pointing mutually at right angles to each other. These are arbitrarily given the symbols px, py and pz. This is simply for convenience, because what you might think of as the x, y or z direction changes constantly as the atom tumbles in space.\n",
    "\n",
    "The p orbitals at the second energy level are called 2px, 2py and 2pz. There are similar orbitals at subsequent levels: 3px, 3py, 3pz, 4px, 4py, 4pz and so on.\n",
    "All levels except the first have p orbitals.\n",
    "\n",
    "<img src =\"https://useruploads.socratic.org/EGl8JIeSTASuUUBzzesk_800px-Px_py_pz_orbitals.png\" align = \"center\" width = \"500\"/>"
   ]
  },
  {
   "cell_type": "markdown",
   "metadata": {},
   "source": [
    "<h4> d Orbitals"
   ]
  },
  {
   "cell_type": "markdown",
   "metadata": {},
   "source": [
    "In addition to s and p orbitals, there are two other sets of orbitals which become available for electrons to inhabit at higher energy levels. At the third level, there is a set of five d orbitals (with complicated shapes and names) as well as the 3s and 3p orbitals (3px, 3py, 3pz). At the third level there are a total of nine orbitals altogether.\n",
    "\n",
    "The five 3d orbitals are called\n",
    "3dxy\n",
    "3dxz\n",
    "3dyz\n",
    "3dx² - y²\n",
    "3dz²\n",
    "\n",
    "<img src = \"http://upload.wikimedia.org/wikipedia/commons/5/58/D_orbitals.png\" align = \"center\" width = \"500\" />\n",
    "\n",
    "To make sense of the names, we need to look at them in two groups. The first group contains the 3dxy, 3dxz and 3dyz orbitals. The names tell you that these orbitals lie in the x-y plane, the x-z plane, and the y-z plane, respectively. Each orbital has four lobes, and each of the lobes is pointing between two of the axes, not along them.\n",
    "\n",
    "The second group contains the 3dx² - y² and 3dz² orbitals. Their lobes point along the various axes.\n",
    "\n",
    "The 3dx² - y² orbital looks exactly like the first group, except that that the lobes are pointing along the x and y axes, not between them.\n",
    "\n",
    "The 3dz² looks like a p orbital wearing a doughnut around its waist.\n",
    "\n"
   ]
  },
  {
   "cell_type": "markdown",
   "metadata": {},
   "source": [
    "<h4> f Orbitals"
   ]
  },
  {
   "cell_type": "markdown",
   "metadata": {},
   "source": [
    "At the fourth and higher levels, there are seven f orbitals in addition to the 4s, 4p, and 4d orbitals.\n",
    "\n",
    "<img src = \"http://chemistry.caddell.org/4f-electron-orbitals-cubic-set.jpg\" slign = \"center\" width = \"500\">\n",
    "\n",
    "Counting the 4s, 4p, and 4d orbitals, this makes a total of 16 orbitals in the fourth level. They have even more complicated shapes. s, p, d, and f orbitals are available at all higher energy levels as well. Fortunately, you will probably not have to memorize the shapes of the f orbitals. Just remember that there seven f orbitals in each level from level 4 and onwards."
   ]
  },
  {
   "cell_type": "markdown",
   "metadata": {},
   "source": [
    "<h3> Atomic and Molecular orbitals"
   ]
  },
  {
   "cell_type": "markdown",
   "metadata": {},
   "source": [
    "<h3> Quantum numbers"
   ]
  },
  {
   "cell_type": "markdown",
   "metadata": {},
   "source": [
    "<h3> Basis sets"
   ]
  }
 ],
 "metadata": {
  "kernelspec": {
   "display_name": "Python 3",
   "language": "python",
   "name": "python3"
  },
  "language_info": {
   "codemirror_mode": {
    "name": "ipython",
    "version": 3
   },
   "file_extension": ".py",
   "mimetype": "text/x-python",
   "name": "python",
   "nbconvert_exporter": "python",
   "pygments_lexer": "ipython3",
   "version": "3.8.5"
  }
 },
 "nbformat": 4,
 "nbformat_minor": 5
}
