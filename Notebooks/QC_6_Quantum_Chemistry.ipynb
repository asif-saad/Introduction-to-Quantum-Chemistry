{
 "cells": [
  {
   "cell_type": "markdown",
   "id": "b6c2471f",
   "metadata": {},
   "source": [
    "<a href=\"https://qworld.net\" target=\"_blank\" align=\"left\"><img src=\"../qworld/images/header.jpg\"  align=\"left\"></a>\n",
    "_prepared by Vardaan Sahgal_"
   ]
  },
  {
   "cell_type": "markdown",
   "id": "5b67b36a",
   "metadata": {},
   "source": [
    "# Introduction to Quantum Chemistry"
   ]
  },
  {
   "cell_type": "markdown",
   "id": "1fe910e4",
   "metadata": {},
   "source": [
    "Quantum chemistry is a discipline of chemistry that studies how quantum mechanics can be applied to chemical systems. Quantum chemistry is an amazingly useful approach for understanding molecular characteristics and reactions. The rapid advancement of computer technology (especially the advent of quantum computation) has motivated scientists to apply quantum chemistry to better comprehend, simulate, and forecast molecular characteristics and reactions, nanoscale material properties, and biological reactions and processes.\n",
    "\n",
    "Quantum chemistry is concerned with understanding electronic structure and molecular dynamics using the Schrödinger equations. One of the most important themes in quantum chemistry has been the development of computational quantum chemistry methods capable of tackling big or complex systems."
   ]
  },
  {
   "cell_type": "markdown",
   "id": "69d470d6",
   "metadata": {},
   "source": [
    "***"
   ]
  },
  {
   "cell_type": "markdown",
   "id": "23548239",
   "metadata": {},
   "source": [
    "# Electronic Structure"
   ]
  },
  {
   "cell_type": "markdown",
   "id": "5749cd45",
   "metadata": {},
   "source": [
    "Erwin Schrödinger (1887–1961; Nobel Prize in Physics, 1933), an Austrian physicist, created wave mechanics in 1926, a mathematical concept that describes the relationship between the motion of a particle with wavelike features (such as an electron) and its permissible energies. Schrödinger devised quantum mechanics in the process, which is still used to describe the energy and position of electrons in atoms and molecules today.\n",
    "\n",
    "**It can be considered that a molecule's electronic structure fundamentally reflects its chemical properties.**"
   ]
  },
  {
   "cell_type": "markdown",
   "id": "74491bf7",
   "metadata": {},
   "source": [
    "### a) Schrödinger Equation"
   ]
  },
  {
   "cell_type": "markdown",
   "id": "161a0c49",
   "metadata": {},
   "source": [
    "The starting point in the procedure to solve a quantum chemical problem is typically solving the Schrödinger equation with the electronic molecular Hamiltonian. This is also known as determining the molecule's electronic structure.\n",
    "\n",
    "Schrödinger's Equation is a linear partial differential equation which depicts the three-dimensional behaviour of an electron in an atom. The electron's position, mass, total energy (potential energy + kinetic energy) are all defined by this mathematical equation. The Schrödinger Equation in its most basic version is as follows: $$ \\hat{H}\\psi = E\\psi $$ where $\\hat{H}$ is the Hamiltonian operator, E is the energy of the electron, and $\\psi$ is the wavefunction."
   ]
  },
  {
   "cell_type": "markdown",
   "id": "1756dafb",
   "metadata": {},
   "source": [
    "##### Wavefunction"
   ]
  },
  {
   "cell_type": "markdown",
   "id": "516fb9b2",
   "metadata": {},
   "source": [
    "The wavefunction $(\\psi)$ of an electron defines the position of an eletcron to the nucleus. The square of the wavefunction describes an atomic orbital. Although we can't measure the exact position of the electron (since that would violate the Heisenberg Uncertainty principle), we can certainly measure its wavefucntion. The general form of the wavefunction for an electron in a hydrogen atom is given by: $$ \\psi_{n,l,m} = R_{n,l}(r) + Y_{l,m}(\\theta, \\phi) $$"
   ]
  },
  {
   "cell_type": "markdown",
   "id": "20dc39e7",
   "metadata": {},
   "source": [
    "<a href=\"https://commons.wikimedia.org/wiki/File:Wavepacket-a2k4-en.gif\" target=\"_blank\" align=\"left\"><img src=\"https://upload.wikimedia.org/wikipedia/commons/b/b7/Wavepacket-a2k4-en.gif\"  align=\"center\"></a>\n",
    "<br>\n",
    "<center>Fig.1 : Complex plot of a wave function that satisfies the nonrelativistic Schrödinger equation with V = 0. In other words, this wavefunction corresponds to a particle (Eg. electron) traveling freely through empty space.</center>"
   ]
  },
  {
   "cell_type": "markdown",
   "id": "b933703d",
   "metadata": {},
   "source": [
    "##### Hamiltonian Operator"
   ]
  },
  {
   "cell_type": "markdown",
   "id": "3a407844",
   "metadata": {},
   "source": [
    "An **operator** acts as a set of instructions that define what to do with a function that follows it. A **Hamiltonian operator** is a three-dimensional function that represents the total energy (sum of the kinetic and potential energies) of the particles in a system (example an electron and a nucleus in an atom). For a one-electron system, the Hamiltonian operator is given by: $$ \\hat{H} = \\frac{-h^2}{8\\pi^2m_e} \\left(\\frac{\\delta^2}{\\delta x^2}+\\frac{\\delta^2}{\\delta y^2}+\\frac{\\delta^2}{\\delta z^2}\\right) - \\frac{Ze^2}{4\\pi\\epsilon_0r}$$ where h is the Planck's constant, $m_e$ is the mass of electron, e is the charge of electron, r is the distance from the nucleus ($r^2=x^2+y^2+z^2$), Z is the charge of nucleus, and $4\\pi\\epsilon_0$ is the permittivity of vacuum."
   ]
  },
  {
   "cell_type": "markdown",
   "id": "726eae7c",
   "metadata": {},
   "source": [
    "##### Kinetic Energy"
   ]
  },
  {
   "cell_type": "markdown",
   "id": "7d29fb52",
   "metadata": {},
   "source": [
    "The first part of the Hamiltonian written above describes the kinetic energy of the electron. This is the energy due to motion of the electron, and is usually represented as T(x,y,z): $$ T(x,y,z) = \\frac{-h^2}{8\\pi^2m_e} \\left(\\frac{\\delta^2}{\\delta x^2}+\\frac{\\delta^2}{\\delta y^2}+\\frac{\\delta^2}{\\delta z^2}\\right) $$"
   ]
  },
  {
   "cell_type": "markdown",
   "id": "c06b0199",
   "metadata": {},
   "source": [
    "##### Potential Energy"
   ]
  },
  {
   "cell_type": "markdown",
   "id": "109bf602",
   "metadata": {},
   "source": [
    "The second part of the Hamiltonian written above describes the potential energy of the electron. This is the energy due to the attractive electrostatic force between the electron and the nucleus, and is usually represented by V(x,y,z): $$ V(x,y,z) = -\\frac{Ze^2}{4\\pi\\epsilon_0r} = - \\frac{Ze^2}{4\\pi\\epsilon_0\\sqrt{x^2+y^2+z^2}} $$"
   ]
  },
  {
   "cell_type": "markdown",
   "id": "aadc8e64",
   "metadata": {},
   "source": [
    "### b) Molecular (Coulomb) Hamiltonian"
   ]
  },
  {
   "cell_type": "markdown",
   "id": "e66fd6b0",
   "metadata": {},
   "source": [
    "The Hamiltonian operator expressing the energy of the electrons and nuclei in a molecule is known as the **Molecular Hamiltonian**. In computational quantum chemistry, this operator and its associated Schrödinger equation are used to compute various properties of molecules such as thermal conductivity, specific heat, electrical conductivity, optical, and magnetic properties, and reactivity.\n",
    "\n",
    "The **Coulomb Hamiltonian** is a Hamiltonian that simply comprises the kinetic energy of electrons and nuclei, as well as the Coulomb interactions between them. The associated  Schrödinger equation is able to predict most *(not all)* of the molecular properties because a number of minor variables are missing from the Coulomb Hamiltonian, the majority of which are due to electronic and nuclear spin.\n",
    "\n",
    "Although the Coulomb hamiltonian gives an accurate prediction for most molecular properties, it is not a widely used approach in Quantum chemistry. This is beacuse the Coulomb hamiltonian is computationally expensive since the associated  Schrödinger equation is very difficult to solve *(and even compute !)*. Small systems, such as the Hydrogen molecule, are the only applications of this Hamiltonian."
   ]
  },
  {
   "cell_type": "markdown",
   "id": "73349398",
   "metadata": {},
   "source": [
    "### c) Electronic Hamiltonian (Born-Oppenheimer approximation)"
   ]
  },
  {
   "cell_type": "markdown",
   "id": "475fd63d",
   "metadata": {},
   "source": [
    "The **Born–Oppenheimer (BO) approximation** is the most well-known mathematical approximation in quantum chemistry. Because atomic nuclei are substantially heavier than electrons, the BO approximation assumes that the wave functions of atomic nuclei and electrons in a molecule can be addressed separately. \n",
    "$$ \\psi_{total} = \\psi_{electronic} \\psi_{nuclear} $$\n",
    "\n",
    "This approximation allows us to remove the nuclear kinetic energy terms from the Coulomb Hamiltonian, and the remaining Hamiltonian is treated as an electron-only Hamiltonian. The stationary nuclei are only involved in the problem as generators of an electric potential in which electrons move quantum mechanically. In this process, the Coulomb Hamiltonian gets simplified to the so-called clamped nucleus Hamiltonian, also known as **Electronic Hamiltonian** ($\\hat{H}_{el}$), which only acts as a function of the electron coordinates. \n",
    "$$ \\hat{H}_{el} = \\hat{T}_{e} + \\hat{U}_{en} + \\hat{U}_{ee} + \\hat{U}_{nn} $$\n",
    "where, $\\hat{T}_{e}$ is the kinetic energy term due the electrons, $\\hat{U}_{en}$ is the potential due to electron-nucleus interactions, $\\hat{U}_{ee}$ is the potential due to electron-electron interactions, $\\hat{U}_{nn}$ is the potential due to nucleus-nucleus interactions. "
   ]
  },
  {
   "cell_type": "markdown",
   "id": "0c12dc68",
   "metadata": {},
   "source": [
    "### d)  Exact solution of the Schrödinger equation for Hydrogen atom"
   ]
  },
  {
   "cell_type": "markdown",
   "id": "824e977b",
   "metadata": {},
   "source": [
    "<a href=\"https://commons.wikimedia.org/wiki/File:Hydrogen_GIF.gif\" target=\"_blank\" align=\"left\"><img src=\"https://upload.wikimedia.org/wikipedia/commons/f/fe/Hydrogen_GIF.gif\"  align=\"center\"></a>\n",
    "<br>\n",
    "<center>Fig.2 : Visual representation of Hydrogen atom with one electron revolving around the nuclues.</center>"
   ]
  },
  {
   "cell_type": "markdown",
   "id": "a30e3bc6",
   "metadata": {},
   "source": [
    "##### Step 1: Integrate the one-electron Schrodinger Equation\n",
    "\n",
    "The one-electron Schrodinger equation for Hydrogen atom can be written as : $$ \\left(\\frac{-h^2}{8\\pi^2m_e} \\frac{\\delta^2}{\\delta r^2}\\right)u(r) + \\left(\\frac{l(l+1)}{r^2}-\\frac{2Z}{r} \\right)u(r) = \\epsilon u(r)$$ where the wavefunction is : $$ \\psi_{lm}(\\vec{r}) = \\frac{u(r)}{r} Y_{lm}(\\vec{r}) $$ Here, the distance is measured in units of Bohr Radius and the Energy unit is Rydberg (1Ry=13.6058eV)"
   ]
  },
  {
   "cell_type": "code",
   "execution_count": 4,
   "id": "0a49c94b",
   "metadata": {},
   "outputs": [],
   "source": [
    "from scipy import *\n",
    "from scipy import integrate\n",
    "from scipy import optimize\n",
    "\n",
    "def Schroed_deriv(y,r,l,En):\n",
    "    \"Given y=[u,u'] returns dy/dr=[u',u''] \"\n",
    "    (u,up) = y\n",
    "    return array([up, (l*(l+1)/r**2-2/r-En)*u])"
   ]
  },
  {
   "cell_type": "code",
   "execution_count": 5,
   "id": "57b9e616",
   "metadata": {
    "scrolled": true
   },
   "outputs": [
    {
     "name": "stderr",
     "output_type": "stream",
     "text": [
      "<ipython-input-5-1fdd4e07210a>:1: DeprecationWarning: scipy.linspace is deprecated and will be removed in SciPy 2.0.0, use numpy.linspace instead\n",
      "  R = linspace(1e-10,20,500)\n",
      "<ipython-input-4-0343a7d98272>:8: DeprecationWarning: scipy.array is deprecated and will be removed in SciPy 2.0.0, use numpy.array instead\n",
      "  return array([up, (l*(l+1)/r**2-2/r-En)*u])\n",
      "<ipython-input-5-1fdd4e07210a>:10: DeprecationWarning: scipy.sqrt is deprecated and will be removed in SciPy 2.0.0, use numpy.lib.scimath.sqrt instead\n",
      "  ur *= 1./sqrt(norm)\n"
     ]
    }
   ],
   "source": [
    "R = linspace(1e-10,20,500)\n",
    "l=0\n",
    "E0=-1.0\n",
    "Rb=R[::-1] # invert the mesh\n",
    "\n",
    "urb = integrate.odeint(Schroed_deriv, [0.0, -1e-5], Rb, args=(l,E0))\n",
    "ur = urb[:,0][::-1] # we take u(r) and invert it in R.\n",
    "\n",
    "norm=integrate.simps(ur**2,x=R)\n",
    "ur *= 1./sqrt(norm)"
   ]
  },
  {
   "cell_type": "code",
   "execution_count": 6,
   "id": "507811c9",
   "metadata": {},
   "outputs": [
    {
     "data": {
      "image/png": "[encoded data removed]",
      "text/plain": [
       "<Figure size 432x288 with 1 Axes>"
      ]
     },
     "metadata": {
      "needs_background": "light"
     },
     "output_type": "display_data"
    }
   ],
   "source": [
    "from pylab import *\n",
    "%matplotlib inline\n",
    "plot(R,ur)\n",
    "grid()\n",
    "show()"
   ]
  },
  {
   "cell_type": "markdown",
   "id": "594df1f0",
   "metadata": {},
   "source": [
    "> `Practice Question 1: Based on the above algorithm for Hydrogen atom (1s state), try to plot the wavefunction as a function for Hydrogen atom (2s state).`\n",
    "\n",
    "> <a href=\"https://github.com/asif-saad/Introduction-to-Quantum-Chemistry/blob/3ca83dc5a25e5c8637eac6cba43284a263395565//Notebooks/QC_6a_Quantum_Chemistry_Solutions.ipynb\">Click here for the solution of Practice Question 1</a>"
   ]
  },
  {
   "cell_type": "markdown",
   "id": "14178066",
   "metadata": {},
   "source": [
    "##### Step 2: Use the boundary conditions to obtain the wave functions by applying the Shooting method\n",
    "\n",
    "Boundary conditions are: $$ u(0) = 0 $$ $$ u(\\infty) = 0 $$\n",
    "\n",
    "Use a logarithmic mesh of radial points.\n",
    "Start integration from a large distance ($R_{max}$) till the least distance ($R_{min}=r=0$). The choice for the energy $\\epsilon$ corresponds to the bound state ($u(r=0) = u(r=\\infty) = 0$).\n"
   ]
  },
  {
   "cell_type": "code",
   "execution_count": 7,
   "id": "b9689393",
   "metadata": {},
   "outputs": [],
   "source": [
    "def Shoot(En,R,l):\n",
    "    Rb=R[::-1]\n",
    "    du0=-1e-5\n",
    "    ub=integrate.odeint(Schroed_deriv, [0.0,du0], Rb, args=(l,En))\n",
    "    ur=ub[:,0][::-1]\n",
    "    norm=integrate.simps(ur**2,x=R)\n",
    "    ur *= 1./sqrt(norm)\n",
    "    \n",
    "    ur = ur/R**l\n",
    "    \n",
    "    f0 = ur[0]\n",
    "    f1 = ur[1]\n",
    "    f_at_0 = f0 + (f1-f0)*(0.0-R[0])/(R[1]-R[0])\n",
    "    return f_at_0"
   ]
  },
  {
   "cell_type": "code",
   "execution_count": 8,
   "id": "e6171b64",
   "metadata": {},
   "outputs": [
    {
     "data": {
      "text/plain": [
       "144.5558997017896"
      ]
     },
     "execution_count": 8,
     "metadata": {},
     "output_type": "execute_result"
    }
   ],
   "source": [
    "R = logspace(-5,2.2,500)\n",
    "Shoot(-1./2**2,R,1)"
   ]
  },
  {
   "cell_type": "markdown",
   "id": "4c6d23a4",
   "metadata": {},
   "source": [
    "##### Step 3: Search for the first bound state at sufficiently negative energy and increase in sufficiently small steps to include all bound states. \n",
    "Use root finding routine to compute the roots when the wavefunction changes sign at r=0.\n",
    "Store the index and energy of the bound state obtained."
   ]
  },
  {
   "cell_type": "code",
   "execution_count": 9,
   "id": "64747cc2",
   "metadata": {},
   "outputs": [],
   "source": [
    "def FindBoundStates(R,l,nmax,Esearch):\n",
    "    n=0\n",
    "    Ebnd=[]\n",
    "    u0 = Shoot(Esearch[0],R,l)\n",
    "    for i in range(1,len(Esearch)):\n",
    "        u1 = Shoot(Esearch[i],R,l)\n",
    "        if u0*u1<0:\n",
    "            Ebound = optimize.brentq(Shoot,Esearch[i-1],Esearch[i],xtol=1e-16,args=(R,l))\n",
    "            Ebnd.append((l,Ebound))\n",
    "            if len(Ebnd)>nmax: break\n",
    "            n+=1\n",
    "            print ('Found bound state at E=%14.9f E_exact=%14.9f l=%d' % (Ebound, -1.0/(n+l)**2,l))\n",
    "        u0=u1\n",
    "    \n",
    "    return Ebnd"
   ]
  },
  {
   "cell_type": "code",
   "execution_count": 10,
   "id": "1b94b033",
   "metadata": {},
   "outputs": [
    {
     "name": "stdout",
     "output_type": "stream",
     "text": [
      "Found bound state at E=  -1.000000014 E_exact=  -1.000000000 l=0\n",
      "Found bound state at E=  -0.249999998 E_exact=  -0.250000000 l=0\n",
      "Found bound state at E=  -0.111111111 E_exact=  -0.111111111 l=0\n",
      "Found bound state at E=  -0.062500001 E_exact=  -0.062500000 l=0\n",
      "Found bound state at E=  -0.040000000 E_exact=  -0.040000000 l=0\n",
      "Found bound state at E=  -0.027777780 E_exact=  -0.027777778 l=0\n",
      "Found bound state at E=  -0.020407884 E_exact=  -0.020408163 l=0\n",
      "Found bound state at E=  -0.249999997 E_exact=  -0.250000000 l=1\n",
      "Found bound state at E=  -0.111111111 E_exact=  -0.111111111 l=1\n",
      "Found bound state at E=  -0.062500000 E_exact=  -0.062500000 l=1\n",
      "Found bound state at E=  -0.040000001 E_exact=  -0.040000000 l=1\n",
      "Found bound state at E=  -0.027777785 E_exact=  -0.027777778 l=1\n",
      "Found bound state at E=  -0.020407939 E_exact=  -0.020408163 l=1\n",
      "Found bound state at E=  -0.111111113 E_exact=  -0.111111111 l=2\n",
      "Found bound state at E=  -0.062500001 E_exact=  -0.062500000 l=2\n",
      "Found bound state at E=  -0.040000000 E_exact=  -0.040000000 l=2\n",
      "Found bound state at E=  -0.027777785 E_exact=  -0.027777778 l=2\n",
      "Found bound state at E=  -0.020408364 E_exact=  -0.020408163 l=2\n",
      "Found bound state at E=  -0.062500000 E_exact=  -0.062500000 l=3\n",
      "Found bound state at E=  -0.040000000 E_exact=  -0.040000000 l=3\n",
      "Found bound state at E=  -0.027777780 E_exact=  -0.027777778 l=3\n",
      "Found bound state at E=  -0.020408140 E_exact=  -0.020408163 l=3\n",
      "Found bound state at E=  -0.040000000 E_exact=  -0.040000000 l=4\n",
      "Found bound state at E=  -0.027777778 E_exact=  -0.027777778 l=4\n",
      "Found bound state at E=  -0.020408241 E_exact=  -0.020408163 l=4\n",
      "Found bound state at E=  -0.027777778 E_exact=  -0.027777778 l=5\n",
      "Found bound state at E=  -0.020408180 E_exact=  -0.020408163 l=5\n"
     ]
    }
   ],
   "source": [
    "Esearch = -1.2/arange(1,20,0.2)**2\n",
    "\n",
    "R = logspace(-6,2.2,500)\n",
    "\n",
    "nmax=7\n",
    "Bnd=[]\n",
    "for l in range(nmax-1):\n",
    "    Bnd += FindBoundStates(R,l,nmax-l,Esearch)"
   ]
  },
  {
   "cell_type": "markdown",
   "id": "f4a0c819",
   "metadata": {},
   "source": [
    "##### Step 4: For all the bound state energies obtained- recompute, normalise, and plot u(r)."
   ]
  },
  {
   "cell_type": "code",
   "execution_count": 11,
   "id": "77404400",
   "metadata": {},
   "outputs": [
    {
     "ename": "TypeError",
     "evalue": "sort() takes no positional arguments",
     "output_type": "error",
     "traceback": [
      "\u001b[1;31m---------------------------------------------------------------------------\u001b[0m",
      "\u001b[1;31mTypeError\u001b[0m                                 Traceback (most recent call last)",
      "\u001b[1;32m<ipython-input-11-a3d0c9966242>\u001b[0m in \u001b[0;36m<module>\u001b[1;34m\u001b[0m\n\u001b[0;32m      5\u001b[0m         \u001b[1;32mreturn\u001b[0m \u001b[0mcmp\u001b[0m\u001b[1;33m(\u001b[0m\u001b[0mx\u001b[0m\u001b[1;33m[\u001b[0m\u001b[1;36m0\u001b[0m\u001b[1;33m]\u001b[0m\u001b[1;33m,\u001b[0m\u001b[0my\u001b[0m\u001b[1;33m[\u001b[0m\u001b[1;36m0\u001b[0m\u001b[1;33m]\u001b[0m\u001b[1;33m)\u001b[0m\u001b[1;33m\u001b[0m\u001b[1;33m\u001b[0m\u001b[0m\n\u001b[0;32m      6\u001b[0m \u001b[1;33m\u001b[0m\u001b[0m\n\u001b[1;32m----> 7\u001b[1;33m \u001b[0mBnd\u001b[0m\u001b[1;33m.\u001b[0m\u001b[0msort\u001b[0m\u001b[1;33m(\u001b[0m\u001b[0mcmpE\u001b[0m\u001b[1;33m)\u001b[0m\u001b[1;33m\u001b[0m\u001b[1;33m\u001b[0m\u001b[0m\n\u001b[0m",
      "\u001b[1;31mTypeError\u001b[0m: sort() takes no positional arguments"
     ]
    }
   ],
   "source": [
    "def cmpE(x,y):\n",
    "    if abs(x[1]-y[1])>1e-4:\n",
    "        return cmp(x[1],y[1])\n",
    "    else:\n",
    "        return cmp(x[0],y[0])\n",
    "\n",
    "Bnd.sort(cmpE)"
   ]
  },
  {
   "cell_type": "code",
   "execution_count": 12,
   "id": "b725c09c",
   "metadata": {
    "scrolled": true
   },
   "outputs": [
    {
     "data": {
      "text/plain": [
       "[(0, -1.000000014433875),\n",
       " (0, -0.24999999783074442),\n",
       " (0, -0.1111111111460861),\n",
       " (0, -0.06250000130613459),\n",
       " (0, -0.040000000216125486),\n",
       " (0, -0.027777779585836937),\n",
       " (0, -0.02040788440023098),\n",
       " (0, -0.015566866041479832),\n",
       " (1, -0.24999999697028924),\n",
       " (1, -0.1111111110665679),\n",
       " (1, -0.06250000018966048),\n",
       " (1, -0.04000000055771584),\n",
       " (1, -0.02777778546446912),\n",
       " (1, -0.020407939101005555),\n",
       " (1, -0.015573778892695532),\n",
       " (2, -0.1111111128769893),\n",
       " (2, -0.06250000130055319),\n",
       " (2, -0.040000000464562716),\n",
       " (2, -0.027777784587783114),\n",
       " (2, -0.02040836406577627),\n",
       " (2, -0.01558540355397053),\n",
       " (3, -0.06249999988286511),\n",
       " (3, -0.04000000001991875),\n",
       " (3, -0.027777780427529656),\n",
       " (3, -0.02040813978846437),\n",
       " (3, -0.015598995294228481),\n",
       " (4, -0.03999999992998832),\n",
       " (4, -0.027777777755184058),\n",
       " (4, -0.020408241028337198),\n",
       " (4, -0.015609593699412883),\n",
       " (5, -0.02777777784154181),\n",
       " (5, -0.020408180238012205),\n",
       " (5, -0.01561799416663656)]"
      ]
     },
     "execution_count": 12,
     "metadata": {},
     "output_type": "execute_result"
    }
   ],
   "source": [
    "Bnd"
   ]
  },
  {
   "cell_type": "markdown",
   "id": "ab51a879",
   "metadata": {},
   "source": [
    "### d) Limitations"
   ]
  },
  {
   "cell_type": "markdown",
   "id": "7ffa542d",
   "metadata": {},
   "source": [
    "Although the Electronic Hamiltonian is an extremely successful technique used in computational quantum chemistry, it has its own sets of limitations. The BO approximation breaks down in case the energies of different electronic states are very similar to each other. Also, the BO approximation is limited to only two particle systems (Eg. Hydrogen or Hydrogen-like systems). Because the motion of three or more particles is involved in every other atomic or molecular systems, the Schrödinger equations can't be solved accurately using the BO approximations. Hence, alternate approximate solutions must be sought."
   ]
  },
  {
   "cell_type": "markdown",
   "id": "7842c3f3",
   "metadata": {},
   "source": [
    "***"
   ]
  },
  {
   "cell_type": "markdown",
   "id": "4ba07c44",
   "metadata": {},
   "source": [
    "*Various theories have been developed in chemistry to use the methods of quantum mechanics to explain chemical bonding. Although it is beyond the scope of this introductory course to discuss all these theories, care has been taken to briefly introduce the most significant theories as follows:*"
   ]
  },
  {
   "cell_type": "markdown",
   "id": "a4dcd723",
   "metadata": {},
   "source": [
    "***"
   ]
  },
  {
   "cell_type": "markdown",
   "id": "4212761b",
   "metadata": {},
   "source": [
    "# 1. Valence Bond Theory"
   ]
  },
  {
   "cell_type": "markdown",
   "id": "1d67c91e",
   "metadata": {},
   "source": [
    "**Valence Bond theory** focuses on how atomic orbitals combine to form individual chemical bonds when a molecule is formed. According to this model, a covalent bond (valence bond) is formed between two atoms by the overlap of half-filled valence atomic orbitals of each atom. \n",
    "\n",
    "The overlapping atomic orbitals of the interacting atoms form a chemical connection and hence, electrons are most likely to be in the bond region. Valence bond theory is often easier to use in the ground state of chemical compounds. During bond formation, the core orbitals and electrons are basically left unchanged.\n",
    "\n",
    "The atomic orbitals that overlap can be different. Sigma and pi are the two forms of overlapping orbitals. When the orbitals of two shared electrons overlap in front of each other, a sigma bond is formed. When two parallel orbitals overlap, they form a pi bond. The bonding atomic orbitals frequently take on the characteristics of multiple different types of orbitals. **Hybridization** is the technique used for obtaining an atomic orbital with the correct character for bonding in molecules.\n",
    "\n",
    "Valence bond treatments are restricted to relatively small molecules, largely due to the lack of orthogonality between valence bond orbitals and between valence bond structures.\n",
    "\n",
    "In **Modern Valence Bond theory**, overlapping atomic orbitals are replaced with overlapping valence bond orbitals that are expanded over a large number of basis functions, each centred on a single atom. The expansion of orbitals, as linear combinations of the atom-based basis functions, is optimized to give the lowest energy. This procedure helps in calculating accurate energies without including any ionic structures, and is complementary to many accurate and efficient computer programs. Various computer programs for modern valence bond calculations have been developed over the years. <a href=\"https://en.wikipedia.org/wiki/Valence_bond_programs\">(Supplementary reading)</a>"
   ]
  },
  {
   "cell_type": "markdown",
   "id": "69c28b0a",
   "metadata": {},
   "source": [
    "***"
   ]
  },
  {
   "cell_type": "markdown",
   "id": "e59fe7c4",
   "metadata": {},
   "source": [
    "# 2. Molecular Orbital Theory"
   ]
  },
  {
   "cell_type": "markdown",
   "id": "1d14c139",
   "metadata": {},
   "source": [
    "Valence bond theory can help us calculate the electronic structure of only atoms, but Nature is much more than just atoms! We need to be able to calculate the electronic structure of molecules as well. **Molecular Orbital theory** is a model which helps us describe the the electronic structure of molecules using quantum mechanics.\n",
    "\n",
    "Electrons in a molecule are not associated to particular chemical bonds between atoms according to molecular orbital theory, but are instead viewed as moving under the influence of the atomic nuclei in the entire molecule. The spatial and energetic features of these electrons are then described by quantum mechanics as molecular orbitals, which surround two or more atoms in a molecule and contain valence electrons between them. By applying various approximation models (like Hartree-Fock), Molecular Orbital theory forms the foundational theory of Quantum Chemistry.\n",
    "\n",
    "Molecular Orbital theory describes the distribution of electrons as delocalised. This means that any electron can be found anywhere in a molecule, as long as their eigenfunctions (wavefunctions) is satisfied by the Hamiltonian. Hence, the molecular orbitals of a molecule can be completely defined by the eigenfunctions of the Molecular Hamiltonian.\n",
    "\n",
    "The **Hartree–Fock technique** is an approximation approach for determining the wave function and energy of a quantum many-body system in a stationary state in computational quantum chemistry. The Hartree-Fock approximation describes how to solve the time-independent Schrödinger equation for a multi-electron atom or molecule while maintaining the Born-Oppenheimer approximation. The problem is solved numerically because there are no known analytic solutions for many-electron systems.\n",
    "\n",
    "Hartree-fock approximations include ignoring all relativistic effects. The variational solution is assumed to be a linear combination of a finite number of eigenfunctions. Slater determinant (antisymmetrized product of one-electron wave functions) is used to approximately describe each energy eigenfunctions of the molecule. In most modern computer programs for molecular calculations, (only) Hartree-Fock aproximation is not used due to the high numerical computation cost. Fortunately, with Quantum computation, this is achievable and will be used in the notebooks that follow!"
   ]
  },
  {
   "cell_type": "markdown",
   "id": "1042d014",
   "metadata": {},
   "source": [
    "***\n",
    "***"
   ]
  },
  {
   "cell_type": "markdown",
   "id": "49656bef",
   "metadata": {},
   "source": [
    "##### References\n",
    "\n",
    "<a href=\"https://qiskit.org/documentation/nature/\">Qiskit Nature Documentation</a>\n",
    "\n",
    "<a href=\"https://qiskit.org/learn/intro-qc-qh/\">IBM Quantum School 2020</a>\n",
    "\n",
    "<a href=\"https://arxiv.org/pdf/1812.09976.pdf\">Quantum Chemistry in the Age of Quantum Computing</a>\n",
    "\n",
    "<a href=\"https://www.physics.rutgers.edu/grad/509/src_prog/hmw/Hydrogen.html#:~:text=to%20integrate%20the%20one%2Delectron,%3D%CE%B5u(r).&text=The%20boundary%20conditions%20are%20u,u(%E2%88%9E)%3D0\">Physics.rutgers</a>\n",
    "\n",
    "<a href=\"https://qiskit.org/textbook/preface.html\">Qiskit Textbook</a>\n",
    "\n",
    "<a href=\"https://arxiv.org/pdf/1808.10402.pdf\">Quantum Computational Chemistry</a>\n",
    "\n",
    "<a href=\"https://arxiv.org/pdf/2001.03685.pdf\">Quantum algorithm for quantum chemistry and quantum material science<a>\n"
   ]
  },
  {
   "cell_type": "markdown",
   "id": "d509d3cd",
   "metadata": {},
   "source": [
    "***"
   ]
  }
 ],
 "metadata": {
  "kernelspec": {
   "display_name": "Python 3",
   "language": "python",
   "name": "python3"
  },
  "language_info": {
   "codemirror_mode": {
    "name": "ipython",
    "version": 3
   },
   "file_extension": ".py",
   "mimetype": "text/x-python",
   "name": "python",
   "nbconvert_exporter": "python",
   "pygments_lexer": "ipython3",
   "version": "3.8.10"
  }
 },
 "nbformat": 4,
 "nbformat_minor": 5
}
