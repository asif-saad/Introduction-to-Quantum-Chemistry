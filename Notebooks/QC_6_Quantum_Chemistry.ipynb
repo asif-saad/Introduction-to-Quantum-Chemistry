{
 "cells": [
  {
   "cell_type": "markdown",
   "id": "b6c2471f",
   "metadata": {},
   "source": [
    "<a href=\"https://qworld.net\" target=\"_blank\" align=\"left\"><img src=\"../qworld/images/header.jpg\"  align=\"left\"></a>\n",
    "_prepared by Vardaan Sahgal_"
   ]
  },
  {
   "cell_type": "markdown",
   "id": "5b67b36a",
   "metadata": {},
   "source": [
    "# Introduction to Quantum Chemistry"
   ]
  },
  {
   "cell_type": "markdown",
   "id": "23548239",
   "metadata": {},
   "source": [
    "# Electronic Structure"
   ]
  },
  {
   "cell_type": "markdown",
   "id": "74491bf7",
   "metadata": {},
   "source": [
    "### a) Schrödinger Equation"
   ]
  },
  {
   "cell_type": "markdown",
   "id": "aadc8e64",
   "metadata": {},
   "source": [
    "### b) Electronic Molecular Hamiltonian"
   ]
  },
  {
   "cell_type": "markdown",
   "id": "0c12dc68",
   "metadata": {},
   "source": [
    "### c)  Exact solution of the Schrödinger equation for Hydrogen atom"
   ]
  },
  {
   "cell_type": "markdown",
   "id": "73349398",
   "metadata": {},
   "source": [
    "### d) Born-Oppenheimer Approximation"
   ]
  },
  {
   "cell_type": "markdown",
   "id": "ab51a879",
   "metadata": {},
   "source": [
    "### e) Limitations"
   ]
  },
  {
   "cell_type": "markdown",
   "id": "4212761b",
   "metadata": {},
   "source": [
    "# 1. Valence Bond Theory"
   ]
  },
  {
   "cell_type": "markdown",
   "id": "9d5d2e99",
   "metadata": {},
   "source": [
    "### Heitler–London–Slater–Pauling (HLSP) method"
   ]
  },
  {
   "cell_type": "markdown",
   "id": "e59fe7c4",
   "metadata": {},
   "source": [
    "# 2. Molecular Orbital Theory"
   ]
  },
  {
   "cell_type": "markdown",
   "id": "4ad471c7",
   "metadata": {},
   "source": [
    "### Hund–Mulliken method"
   ]
  },
  {
   "cell_type": "markdown",
   "id": "909408c9",
   "metadata": {},
   "source": [
    "###  Hartree–Fock method"
   ]
  },
  {
   "cell_type": "markdown",
   "id": "575386c6",
   "metadata": {},
   "source": [
    "# 3. Density Functional Theory"
   ]
  }
 ],
 "metadata": {
  "kernelspec": {
   "display_name": "Python 3",
   "language": "python",
   "name": "python3"
  },
  "language_info": {
   "codemirror_mode": {
    "name": "ipython",
    "version": 3
   },
   "file_extension": ".py",
   "mimetype": "text/x-python",
   "name": "python",
   "nbconvert_exporter": "python",
   "pygments_lexer": "ipython3",
   "version": "3.8.10"
  }
 },
 "nbformat": 4,
 "nbformat_minor": 5
}
