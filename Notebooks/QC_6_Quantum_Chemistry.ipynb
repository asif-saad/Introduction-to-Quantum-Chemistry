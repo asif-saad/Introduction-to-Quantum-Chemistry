{
 "cells": [
  {
   "cell_type": "markdown",
   "id": "b6c2471f",
   "metadata": {},
   "source": [
    "<a href=\"https://qworld.net\" target=\"_blank\" align=\"left\"><img src=\"../qworld/images/header.jpg\"  align=\"left\"></a>\n",
    "_prepared by Vardaan Sahgal_"
   ]
  },
  {
   "cell_type": "markdown",
   "id": "5b67b36a",
   "metadata": {},
   "source": [
    "# Introduction to Quantum Chemistry"
   ]
  },
  {
   "cell_type": "markdown",
   "id": "1fe910e4",
   "metadata": {},
   "source": [
    "Quantum chemistry is a discipline of chemistry that studies how quantum mechanics can be applied to chemical systems. Quantum chemistry is an amazingly useful approach for understanding molecular characteristics and reactions. The rapid advancement of computer technology (especially the advent of quantum computation) has motivated scientists to apply quantum chemistry to better comprehend, simulate, and forecast molecular characteristics and reactions, nanoscale material properties, and biological reactions and processes.\n",
    "\n",
    "Quantum chemistry is concerned with understanding electronic structure and molecular dynamics using the Schrödinger equations. One of the most important themes in quantum chemistry has been the development of computational quantum chemistry methods capable of tackling big or complex systems."
   ]
  },
  {
   "cell_type": "markdown",
   "id": "23548239",
   "metadata": {},
   "source": [
    "# Electronic Structure"
   ]
  },
  {
   "cell_type": "markdown",
   "id": "120f6755",
   "metadata": {},
   "source": [
    "Erwin Schrödinger (1887–1961; Nobel Prize in Physics, 1933), an Austrian physicist, created wave mechanics in 1926, a mathematical concept that describes the relationship between the motion of a particle with wavelike features (such as an electron) and its permissible energies. Schrödinger devised quantum mechanics in the process, which is still used to describe the energy and position of electrons in atoms and molecules today.\n",
    "\n",
    "**It can be considered that a molecule's electronic structure fundamentally reflects its chemical properties.**"
   ]
  },
  {
   "cell_type": "markdown",
   "id": "74491bf7",
   "metadata": {},
   "source": [
    "### a) Schrödinger Equation"
   ]
  },
  {
   "cell_type": "markdown",
   "id": "ab0f63cf",
   "metadata": {},
   "source": [
    "The starting point in the procedure to solve a quantum chemical problem is typically solving the Schrödinger equation with the electronic molecular Hamiltonian. This is also known as determining the molecule's electronic structure."
   ]
  },
  {
   "cell_type": "markdown",
   "id": "aadc8e64",
   "metadata": {},
   "source": [
    "### b) Electronic Molecular Hamiltonian"
   ]
  },
  {
   "cell_type": "markdown",
   "id": "0c12dc68",
   "metadata": {},
   "source": [
    "### c)  Exact solution of the Schrödinger equation for Hydrogen atom"
   ]
  },
  {
   "cell_type": "markdown",
   "id": "73349398",
   "metadata": {},
   "source": [
    "### d) Born-Oppenheimer Approximation"
   ]
  },
  {
   "cell_type": "markdown",
   "id": "ab51a879",
   "metadata": {},
   "source": [
    "### e) Limitations"
   ]
  },
  {
   "cell_type": "markdown",
   "id": "4212761b",
   "metadata": {},
   "source": [
    "# 1. Valence Bond Theory"
   ]
  },
  {
   "cell_type": "markdown",
   "id": "9d5d2e99",
   "metadata": {},
   "source": [
    "### Heitler–London–Slater–Pauling (HLSP) method"
   ]
  },
  {
   "cell_type": "markdown",
   "id": "e59fe7c4",
   "metadata": {},
   "source": [
    "# 2. Molecular Orbital Theory"
   ]
  },
  {
   "cell_type": "markdown",
   "id": "4ad471c7",
   "metadata": {},
   "source": [
    "### Hund–Mulliken method"
   ]
  },
  {
   "cell_type": "markdown",
   "id": "909408c9",
   "metadata": {},
   "source": [
    "###  Hartree–Fock method"
   ]
  },
  {
   "cell_type": "markdown",
   "id": "575386c6",
   "metadata": {},
   "source": [
    "# 3. Density Functional Theory"
   ]
  }
 ],
 "metadata": {
  "kernelspec": {
   "display_name": "Python 3",
   "language": "python",
   "name": "python3"
  },
  "language_info": {
   "codemirror_mode": {
    "name": "ipython",
    "version": 3
   },
   "file_extension": ".py",
   "mimetype": "text/x-python",
   "name": "python",
   "nbconvert_exporter": "python",
   "pygments_lexer": "ipython3",
   "version": "3.8.10"
  }
 },
 "nbformat": 4,
 "nbformat_minor": 5
}
