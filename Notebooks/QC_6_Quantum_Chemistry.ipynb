{
 "cells": [
  {
   "cell_type": "markdown",
   "id": "b6c2471f",
   "metadata": {},
   "source": [
    "<a href=\"https://qworld.net\" target=\"_blank\" align=\"left\"><img src=\"../qworld/images/header.jpg\"  align=\"left\"></a>\n",
    "_prepared by Vardaan Sahgal_"
   ]
  },
  {
   "cell_type": "markdown",
   "id": "5b67b36a",
   "metadata": {},
   "source": [
    "# Introduction to Quantum Chemistry"
   ]
  },
  {
   "cell_type": "markdown",
   "id": "1fe910e4",
   "metadata": {},
   "source": [
    "Quantum chemistry is a discipline of chemistry that studies how quantum mechanics can be applied to chemical systems. Quantum chemistry is an amazingly useful approach for understanding molecular characteristics and reactions. The rapid advancement of computer technology (especially the advent of quantum computation) has motivated scientists to apply quantum chemistry to better comprehend, simulate, and forecast molecular characteristics and reactions, nanoscale material properties, and biological reactions and processes.\n",
    "\n",
    "Quantum chemistry is concerned with understanding electronic structure and molecular dynamics using the Schrödinger equations. One of the most important themes in quantum chemistry has been the development of computational quantum chemistry methods capable of tackling big or complex systems."
   ]
  },
  {
   "cell_type": "markdown",
   "id": "69d470d6",
   "metadata": {},
   "source": [
    "***"
   ]
  },
  {
   "cell_type": "markdown",
   "id": "23548239",
   "metadata": {},
   "source": [
    "# Electronic Structure"
   ]
  },
  {
   "cell_type": "markdown",
   "id": "5749cd45",
   "metadata": {},
   "source": [
    "Erwin Schrödinger (1887–1961; Nobel Prize in Physics, 1933), an Austrian physicist, created wave mechanics in 1926, a mathematical concept that describes the relationship between the motion of a particle with wavelike features (such as an electron) and its permissible energies. Schrödinger devised quantum mechanics in the process, which is still used to describe the energy and position of electrons in atoms and molecules today.\n",
    "\n",
    "**It can be considered that a molecule's electronic structure fundamentally reflects its chemical properties.**"
   ]
  },
  {
   "cell_type": "markdown",
   "id": "74491bf7",
   "metadata": {},
   "source": [
    "### a) Schrödinger Equation"
   ]
  },
  {
   "cell_type": "markdown",
   "id": "161a0c49",
   "metadata": {},
   "source": [
    "The starting point in the procedure to solve a quantum chemical problem is typically solving the Schrödinger equation with the electronic molecular Hamiltonian. This is also known as determining the molecule's electronic structure.\n",
    "\n",
    "Schrödinger's Equation is a linear partial differential equation which depicts the three-dimensional behaviour of an electron in an atom. The electron's position, mass, total energy (potential energy + kinetic energy) are all defined by this mathematical equation. The Schrödinger Equation in its most basic version is as follows: $$ \\hat{H}\\psi = E\\psi $$ where $\\hat{H}$ is the Hamiltonian operator, E is the energy of the electron, and $\\psi$ is the wavefunction."
   ]
  },
  {
   "cell_type": "markdown",
   "id": "1756dafb",
   "metadata": {},
   "source": [
    "##### Wavefunction"
   ]
  },
  {
   "cell_type": "markdown",
   "id": "516fb9b2",
   "metadata": {},
   "source": [
    "The wavefunction $(\\psi)$ of an electron defines the position of an eletcron to the nucleus. The square of the wavefunction describes an atomic orbital. Although we can't measure the exact position of the electron (since that would violate the Heisenberg Uncertainty principle), we can certainly measure its wavefucntion. The general form of the wavefunction for an electron in a hydrogen atom is given by: $$ \\psi_{n,l,m} = R_{n,l}(r) + Y_{l,m}(\\theta, \\phi) $$"
   ]
  },
  {
   "attachments": {},
   "cell_type": "markdown",
   "id": "20dc39e7",
   "metadata": {},
   "source": [
    "<a href=\"https://commons.wikimedia.org/wiki/File:Wavepacket-a2k4-en.gif\" target=\"_blank\" align=\"left\"><img src=\"https://upload.wikimedia.org/wikipedia/commons/b/b7/Wavepacket-a2k4-en.gif\"  align=\"center\"></a>\n",
    "Fig.1 : Complex plot of a wave function that satisfies the nonrelativistic Schrödinger equation with V = 0. In other words, this wavefunction corresponds to a particle (Eg. electron) traveling freely through empty space."
   ]
  },
  {
   "cell_type": "markdown",
   "id": "b933703d",
   "metadata": {},
   "source": [
    "##### Hamiltonian Operator"
   ]
  },
  {
   "cell_type": "markdown",
   "id": "3a407844",
   "metadata": {},
   "source": [
    "An **operator** acts as a set of instructions that define what to do with a function that follows it. A **Hamiltonian operator** is a three-dimensional function that represents the total energy (sum of the kinetic and potential energies) of the particles in a system (example an electron and a nucleus in an atom). For a one-electron system, the Hamiltonian operator is given by: $$ \\hat{H} = \\frac{-h^2}{8\\pi^2m_e} \\left(\\frac{\\delta^2}{\\delta x^2}+\\frac{\\delta^2}{\\delta y^2}+\\frac{\\delta^2}{\\delta z^2}\\right) - \\frac{Ze^2}{4\\pi\\epsilon_0r}$$ where h is the Planck's constant, $m_e$ is the mass of electron, e is the charge of electron, r is the distance from the nucleus ($r^2=x^2+y^2+z^2$), Z is the charge of nucleus, and $4\\pi\\epsilon_0$ is the permittivity of vacuum."
   ]
  },
  {
   "cell_type": "markdown",
   "id": "726eae7c",
   "metadata": {},
   "source": [
    "##### Kinetic Energy"
   ]
  },
  {
   "cell_type": "markdown",
   "id": "7d29fb52",
   "metadata": {},
   "source": [
    "The first part of the Hamiltonian written above describes the kinetic energy of the electron. This is the energy due to motion of the electron, and is usually represented as T(x,y,z): $$ T(x,y,z) = \\frac{-h^2}{8\\pi^2m_e} \\left(\\frac{\\delta^2}{\\delta x^2}+\\frac{\\delta^2}{\\delta y^2}+\\frac{\\delta^2}{\\delta z^2}\\right) $$"
   ]
  },
  {
   "cell_type": "markdown",
   "id": "c06b0199",
   "metadata": {},
   "source": [
    "##### Potential Energy"
   ]
  },
  {
   "cell_type": "markdown",
   "id": "109bf602",
   "metadata": {},
   "source": [
    "The second part of the Hamiltonian written above describes the potential energy of the electron. This is the energy due to the attractive electrostatic force between the electron and the nucleus, and is usually represented by V(x,y,z): $$ V(x,y,z) = -\\frac{Ze^2}{4\\pi\\epsilon_0r} = - \\frac{Ze^2}{4\\pi\\epsilon_0\\sqrt{x^2+y^2+z^2}} $$"
   ]
  },
  {
   "cell_type": "markdown",
   "id": "aadc8e64",
   "metadata": {},
   "source": [
    "### b) Molecular (Coulomb) Hamiltonian"
   ]
  },
  {
   "cell_type": "markdown",
   "id": "e66fd6b0",
   "metadata": {},
   "source": [
    "The Hamiltonian operator expressing the energy of the electrons and nuclei in a molecule is known as the **Molecular Hamiltonian**. In computational quantum chemistry, this operator and its associated Schrödinger equation are used to compute various properties of molecules such as thermal conductivity, specific heat, electrical conductivity, optical, and magnetic properties, and reactivity.\n",
    "\n",
    "The **Coulomb Hamiltonian** is a Hamiltonian that simply comprises the kinetic energy of electrons and nuclei, as well as the Coulomb interactions between them. The associated  Schrödinger equation is able to predict most *(not all)* of the molecular properties because a number of minor variables are missing from the Coulomb Hamiltonian, the majority of which are due to electronic and nuclear spin.\n",
    "\n",
    "Although the Coulomb hamiltonian gives an accurate prediction for most molecular properties, it is not a widely used approach in Quantum chemistry. This is beacuse the Coulomb hamiltonian is computationally expensive since the associated  Schrödinger equation is very difficult to solve *(and even compute !)*. Small systems, such as the Hydrogen molecule, are the only applications of this Hamiltonian."
   ]
  },
  {
   "cell_type": "markdown",
   "id": "d8e21f24",
   "metadata": {},
   "source": [
    "> `Schrodinger Eqn of Coulomb Hamiltonian to be added here`"
   ]
  },
  {
   "cell_type": "markdown",
   "id": "73349398",
   "metadata": {},
   "source": [
    "### c) Electronic Hamiltonian (Born-Oppenheimer approximation)"
   ]
  },
  {
   "cell_type": "markdown",
   "id": "475fd63d",
   "metadata": {},
   "source": [
    "The **Born–Oppenheimer (BO) approximation** is the most well-known mathematical approximation in quantum chemistry. Because atomic nuclei are substantially heavier than electrons, the BO approximation assumes that the wave functions of atomic nuclei and electrons in a molecule can be addressed separately. \n",
    "\n",
    "This approximation allows us to remove the nuclear kinetic energy terms from the Coulomb Hamiltonian, and the remaining Hamiltonian is treated as an electron-only Hamiltonian. The stationary nuclei are only involved in the problem as generators of an electric potential in which electrons move quantum mechanically. In this process, the Coulomb Hamiltonian gets simplified to the so-called clamped nucleus Hamiltonian, also known as **Electronic Hamiltonian**, which only acts as a function of the electron coordinates."
   ]
  },
  {
   "cell_type": "markdown",
   "id": "c3d3e217",
   "metadata": {},
   "source": [
    "> `Schrodinger Eqn of Electronic Hamiltonian to be added here`"
   ]
  },
  {
   "cell_type": "markdown",
   "id": "0c12dc68",
   "metadata": {},
   "source": [
    "### d)  Exact solution of the Schrödinger equation for Hydrogen atom"
   ]
  },
  {
   "cell_type": "markdown",
   "id": "824e977b",
   "metadata": {},
   "source": [
    "<a href=\"https://commons.wikimedia.org/wiki/File:Hydrogen_GIF.gif\" target=\"_blank\" align=\"left\"><img src=\"https://upload.wikimedia.org/wikipedia/commons/f/fe/Hydrogen_GIF.gif\"  align=\"center\"></a>\n",
    "Fig.2 : Visual representation of Hydrogen atom with one electron revolving around the nuclues."
   ]
  },
  {
   "cell_type": "markdown",
   "id": "9c9a78e0",
   "metadata": {},
   "source": [
    "> `Python coding exercise to solve the Schrodinger eqn for Hydrogen atom to be added here`"
   ]
  },
  {
   "cell_type": "markdown",
   "id": "ab51a879",
   "metadata": {},
   "source": [
    "### d) Limitations"
   ]
  },
  {
   "cell_type": "markdown",
   "id": "7ffa542d",
   "metadata": {},
   "source": [
    "Although the Electronic Hamiltonian is an extremely successful technique used in computational quantum chemistry, it has its own sets of limitations. The BO approximation breaks down in case the energies of different electronic states are very similar to each other. Also, the BO approximation is limited to only two particle systems (Eg. Hydrogen or Hydrogen-like systems). Because the motion of three or more particles is involved in every other atomic or molecular systems, the Schrödinger equations can't be solved accurately using the BO approximations. Hence, alternate approximate solutions must be sought."
   ]
  },
  {
   "cell_type": "markdown",
   "id": "7842c3f3",
   "metadata": {},
   "source": [
    "***"
   ]
  },
  {
   "cell_type": "markdown",
   "id": "4212761b",
   "metadata": {},
   "source": [
    "# 1. Valence Bond Theory"
   ]
  },
  {
   "cell_type": "markdown",
   "id": "9d5d2e99",
   "metadata": {},
   "source": [
    "### Heitler–London–Slater–Pauling (HLSP) method"
   ]
  },
  {
   "cell_type": "markdown",
   "id": "69c28b0a",
   "metadata": {},
   "source": [
    "***"
   ]
  },
  {
   "cell_type": "markdown",
   "id": "e59fe7c4",
   "metadata": {},
   "source": [
    "# 2. Molecular Orbital Theory"
   ]
  },
  {
   "cell_type": "markdown",
   "id": "4ad471c7",
   "metadata": {},
   "source": [
    "### Hund–Mulliken method"
   ]
  },
  {
   "cell_type": "markdown",
   "id": "909408c9",
   "metadata": {},
   "source": [
    "###  Hartree–Fock method"
   ]
  },
  {
   "cell_type": "markdown",
   "id": "280c8414",
   "metadata": {},
   "source": [
    "***"
   ]
  },
  {
   "cell_type": "markdown",
   "id": "575386c6",
   "metadata": {},
   "source": [
    "# 3. Density Functional Theory"
   ]
  },
  {
   "cell_type": "markdown",
   "id": "1042d014",
   "metadata": {},
   "source": [
    "***\n",
    "***"
   ]
  }
 ],
 "metadata": {
  "kernelspec": {
   "display_name": "Python 3",
   "language": "python",
   "name": "python3"
  },
  "language_info": {
   "codemirror_mode": {
    "name": "ipython",
    "version": 3
   },
   "file_extension": ".py",
   "mimetype": "text/x-python",
   "name": "python",
   "nbconvert_exporter": "python",
   "pygments_lexer": "ipython3",
   "version": "3.8.10"
  }
 },
 "nbformat": 4,
 "nbformat_minor": 5
}
