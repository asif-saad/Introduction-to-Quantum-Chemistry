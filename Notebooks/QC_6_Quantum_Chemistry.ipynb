{
 "cells": [
  {
   "cell_type": "markdown",
   "id": "b6c2471f",
   "metadata": {},
   "source": [
    "<a href=\"https://qworld.net\" target=\"_blank\" align=\"left\"><img src=\"../qworld/images/header.jpg\"  align=\"left\"></a>\n",
    "_prepared by Vardaan Sahgal_"
   ]
  },
  {
   "cell_type": "markdown",
   "id": "5b67b36a",
   "metadata": {},
   "source": [
    "# Introduction to Quantum Chemistry"
   ]
  },
  {
   "cell_type": "markdown",
   "id": "1fe910e4",
   "metadata": {},
   "source": [
    "Quantum chemistry is a discipline of chemistry that studies how quantum mechanics can be applied to chemical systems. Quantum chemistry is an amazingly useful approach for understanding molecular characteristics and reactions. The rapid advancement of computer technology (especially the advent of quantum computation) has motivated scientists to apply quantum chemistry to better comprehend, simulate, and forecast molecular characteristics and reactions, nanoscale material properties, and biological reactions and processes.\n",
    "\n",
    "Quantum chemistry is concerned with understanding electronic structure and molecular dynamics using the Schrödinger equations. One of the most important themes in quantum chemistry has been the development of computational quantum chemistry methods capable of tackling big or complex systems."
   ]
  },
  {
   "cell_type": "markdown",
   "id": "23548239",
   "metadata": {},
   "source": [
    "# Electronic Structure"
   ]
  },
  {
   "cell_type": "markdown",
   "id": "5749cd45",
   "metadata": {},
   "source": [
    "Erwin Schrödinger (1887–1961; Nobel Prize in Physics, 1933), an Austrian physicist, created wave mechanics in 1926, a mathematical concept that describes the relationship between the motion of a particle with wavelike features (such as an electron) and its permissible energies. Schrödinger devised quantum mechanics in the process, which is still used to describe the energy and position of electrons in atoms and molecules today.\n",
    "\n",
    "**It can be considered that a molecule's electronic structure fundamentally reflects its chemical properties.**"
   ]
  },
  {
   "cell_type": "markdown",
   "id": "74491bf7",
   "metadata": {},
   "source": [
    "### a) Schrödinger Equation"
   ]
  },
  {
   "cell_type": "markdown",
   "id": "161a0c49",
   "metadata": {},
   "source": [
    "The starting point in the procedure to solve a quantum chemical problem is typically solving the Schrödinger equation with the electronic molecular Hamiltonian. This is also known as determining the molecule's electronic structure.\n",
    "\n",
    "Schrödinger's Equation is a linear partial differential equation which depicts the three-dimensional behaviour of an electron in an atom. The electron's position, mass, total energy (potential energy + kinetic energy) are all defined by this mathematical equation. The Schrödinger Equation in its most basic version is as follows: $$ \\hat{H}\\psi = E\\psi $$ where $\\hat{H}$ is the Hamiltonian operator, E is the energy of the electron, and $\\psi$ is the wavefunction."
   ]
  },
  {
   "cell_type": "markdown",
   "id": "1756dafb",
   "metadata": {},
   "source": [
    "##### Wavefunction"
   ]
  },
  {
   "cell_type": "markdown",
   "id": "516fb9b2",
   "metadata": {},
   "source": [
    "The wavefunction $(\\psi)$ of an electron defines the position of an eletcron to the nucleus. The square of the wavefunction describes an atomic orbital. Although we can't measure the exact position of the electron (since that would violate the Heisenberg Uncertainty principle), we can certainly measure its wavefucntion. The general form of the wavefunction for an electron in a hydrogen atom is given by: $$ \\psi_{n,l,m} = R_{n,l}(r) + Y_{l,m}(\\theta, \\phi) $$"
   ]
  },
  {
   "cell_type": "markdown",
   "id": "b933703d",
   "metadata": {},
   "source": [
    "##### Hamiltonian Operator"
   ]
  },
  {
   "cell_type": "markdown",
   "id": "3a407844",
   "metadata": {},
   "source": [
    "An **operator** acts as a set of instructions that define what to do with a function that follows it. A **Hamiltonian operator** is a three-dimensional function that represents the total energy (sum of the kinetic and potential energies) of the particles in a system (example an electron and a nucleus in an atom). For a one-electron system, the Hamiltonian operator is given by: $$ \\hat{H} = \\frac{-h^2}{8\\pi^2m_e} \\left(\\frac{\\delta^2}{\\delta x^2}+\\frac{\\delta^2}{\\delta y^2}+\\frac{\\delta^2}{\\delta z^2}\\right) - \\frac{Ze^2}{4\\pi\\epsilon_0r}$$ where h is the Planck's constant, $m_e$ is the mass of electron, e is the charge of electron, r is the distance from the nucleus ($r^2=x^2+y^2+z^2$), Z is the charge of nucleus, and $4\\pi\\epsilon_0$ is the permittivity of vacuum."
   ]
  },
  {
   "cell_type": "markdown",
   "id": "726eae7c",
   "metadata": {},
   "source": [
    "##### Kinetic Energy"
   ]
  },
  {
   "cell_type": "markdown",
   "id": "7d29fb52",
   "metadata": {},
   "source": [
    "The first part of the Hamiltonian written above describes the kinetic energy of the electron. This is the energy due to motion of the electron, and is usually represented as T(x,y,z): $$ T(x,y,z) = \\frac{-h^2}{8\\pi^2m_e} \\left(\\frac{\\delta^2}{\\delta x^2}+\\frac{\\delta^2}{\\delta y^2}+\\frac{\\delta^2}{\\delta z^2}\\right) $$"
   ]
  },
  {
   "cell_type": "markdown",
   "id": "c06b0199",
   "metadata": {},
   "source": [
    "##### Potential Energy"
   ]
  },
  {
   "cell_type": "markdown",
   "id": "109bf602",
   "metadata": {},
   "source": [
    "The second part of the Hamiltonian written above describes the potential energy of the electron. This is the energy due to the attractive electrostatic force between the electron and the nucleus, and is usually represented by V(x,y,z): $$ V(x,y,z) = -\\frac{Ze^2}{4\\pi\\epsilon_0r} = - \\frac{Ze^2}{4\\pi\\epsilon_0\\sqrt{x^2+y^2+z^2}} $$"
   ]
  },
  {
   "cell_type": "markdown",
   "id": "aadc8e64",
   "metadata": {},
   "source": [
    "##### Electronic Molecular Hamiltonian"
   ]
  },
  {
   "cell_type": "markdown",
   "id": "0c12dc68",
   "metadata": {},
   "source": [
    "### b)  Exact solution of the Schrödinger equation for Hydrogen atom"
   ]
  },
  {
   "cell_type": "markdown",
   "id": "73349398",
   "metadata": {},
   "source": [
    "### c) Born-Oppenheimer Approximation"
   ]
  },
  {
   "cell_type": "markdown",
   "id": "ab51a879",
   "metadata": {},
   "source": [
    "### d) Limitations"
   ]
  },
  {
   "cell_type": "markdown",
   "id": "4212761b",
   "metadata": {},
   "source": [
    "# 1. Valence Bond Theory"
   ]
  },
  {
   "cell_type": "markdown",
   "id": "9d5d2e99",
   "metadata": {},
   "source": [
    "### Heitler–London–Slater–Pauling (HLSP) method"
   ]
  },
  {
   "cell_type": "markdown",
   "id": "e59fe7c4",
   "metadata": {},
   "source": [
    "# 2. Molecular Orbital Theory"
   ]
  },
  {
   "cell_type": "markdown",
   "id": "4ad471c7",
   "metadata": {},
   "source": [
    "### Hund–Mulliken method"
   ]
  },
  {
   "cell_type": "markdown",
   "id": "909408c9",
   "metadata": {},
   "source": [
    "###  Hartree–Fock method"
   ]
  },
  {
   "cell_type": "markdown",
   "id": "575386c6",
   "metadata": {},
   "source": [
    "# 3. Density Functional Theory"
   ]
  }
 ],
 "metadata": {
  "kernelspec": {
   "display_name": "Python 3",
   "language": "python",
   "name": "python3"
  },
  "language_info": {
   "codemirror_mode": {
    "name": "ipython",
    "version": 3
   },
   "file_extension": ".py",
   "mimetype": "text/x-python",
   "name": "python",
   "nbconvert_exporter": "python",
   "pygments_lexer": "ipython3",
   "version": "3.8.10"
  }
 },
 "nbformat": 4,
 "nbformat_minor": 5
}
