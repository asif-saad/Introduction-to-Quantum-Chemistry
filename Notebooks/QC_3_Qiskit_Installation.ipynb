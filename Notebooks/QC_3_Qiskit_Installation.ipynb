{
 "cells": [
  {
   "cell_type": "markdown",
   "id": "b6c2471f",
   "metadata": {},
   "source": [
    "<a href=\"https://qworld.net\" target=\"_blank\" align=\"left\"><img src=\"../qworld/images/header.jpg\"  align=\"left\"></a>\n",
    "_prepared by Asif Saad and Buvan Prajwal_"
   ]
  },
  {
   "cell_type": "markdown",
   "id": "dc6dd348",
   "metadata": {},
   "source": [
    "Qiskit is an open-source SDK for working with quantum computers at the level of pulses, circuits, and application modules and it has been developed by IBM.\n",
    "\n",
    "To run quantum program, we need to either install qiskit library locally in our computer, or run the circuit in the cloud.\n",
    "\n",
    "In this section, we will be showing how to install qiskit locally in your computer.\n"
   ]
  },
  {
   "cell_type": "markdown",
   "id": "ed51a8d0",
   "metadata": {},
   "source": [
    "# Qiskit Installation"
   ]
  },
  {
   "cell_type": "markdown",
   "id": "235f2e5e",
   "metadata": {},
   "source": [
    "Qiskit supports Python 3.6 or later. However, both Python and Qiskit are evolving ecosystems, and sometimes when new releases occur in one or the other, there can be problems with compatibility.\n",
    "\n",
    "Firstly, [<b>Anaconda</b>](\"https://www.youtube.com/watch?v=5mDYijMfSzs\") has to be installed in your local pc as it is a cross-platform Python distribution for scientific computing and among various other features, jupyter is for interacting with Qiskit."
   ]
  },
  {
   "cell_type": "markdown",
   "id": "1f459f19",
   "metadata": {},
   "source": [
    "Qiskit is tested and supported on the following 64-bit systems:\n",
    "\n",
    "* Ubuntu 16.04 or later\n",
    "\n",
    "* macOS 10.12.6 or later\n",
    "\n",
    "* Windows 7 or later\n"
   ]
  }
 ],
 "metadata": {
  "kernelspec": {
   "display_name": "Python 3",
   "language": "python",
   "name": "python3"
  },
  "language_info": {
   "codemirror_mode": {
    "name": "ipython",
    "version": 3
   },
   "file_extension": ".py",
   "mimetype": "text/x-python",
   "name": "python",
   "nbconvert_exporter": "python",
   "pygments_lexer": "ipython3",
   "version": "3.8.8"
  }
 },
 "nbformat": 4,
 "nbformat_minor": 5
}
