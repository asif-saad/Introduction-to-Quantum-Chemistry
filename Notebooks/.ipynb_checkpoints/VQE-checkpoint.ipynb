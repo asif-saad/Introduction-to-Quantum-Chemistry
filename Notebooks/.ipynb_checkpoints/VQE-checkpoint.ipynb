{
 "cells": [
  {
   "cell_type": "markdown",
   "id": "dc106c5f",
   "metadata": {},
   "source": [
    "<a href=\"https://qworld.net\" target=\"_blank\" align=\"left\"><img src=\"../qworld/images/header.jpg\"  align=\"left\"></a>\n",
    "_prepared by Buvan Prajwal A_"
   ]
  },
  {
   "cell_type": "markdown",
   "id": "d9076412",
   "metadata": {},
   "source": [
    "# VQE"
   ]
  },
  {
   "cell_type": "markdown",
   "id": "4366fd4d",
   "metadata": {},
   "source": [
    "Variational quantum eigensolver is one of the very first example of variational quantum algorithm. Where these kinds of algorithm are often called as hybrid algorithm, as it is intergration of both quantum computers and classical computers. \n",
    "\n",
    "Here in VQE algorithm, we use qunautm computers to opertate on given variable parameters(computes the energy) and classical \n",
    "computers to perform the optimization of the results and then update the resultant values to the parameters and repeat until\n",
    "the find an optimal result."
   ]
  },
  {
   "cell_type": "markdown",
   "id": "1559afab",
   "metadata": {},
   "source": [
    "Why VQE? And Why on Quantum computer?\n",
    "\n",
    "Through VQE, we can simulate the resultant/product yield energy of a reaction of two or more elements/molecules. If we have a\n",
    "high energy molecule recating with another molecule we expect the end product yields a lower energy state, and only if the \n",
    "end product yields a lower energy state then the reaction takes place, this can be simulated using VQE.\n",
    "\n",
    "We use Qunatum computer because every time we add a particle or molecule to the system the computational cost grows exponential\n",
    "-ly. Add this why we use quantum computers, as every time we add qubit to the system our computational spaces doubles."
   ]
  },
  {
   "cell_type": "markdown",
   "id": "bb896237",
   "metadata": {},
   "source": [
    "We can estimate the ground state energy of a system, by its wave function, which represents the molecule.\n",
    "We then vary our wave function until we get a minimum value of the ground state energy, given our model of the Hamiltonian.\n",
    "A Hamiltonian is just a mathematical description of the total energy of a system.\n",
    "\n",
    "A simple use case of the VQE is to compute the interatomic distance of elements of a molecule. So, we can change the \n",
    "interatomic distance and use the VQE to compute the lowest energy at each distance. Then the distance that gives the lowest \n",
    "energy, yields the actual interatomic distance."
   ]
  },
  {
   "cell_type": "markdown",
   "id": "b6785de1",
   "metadata": {},
   "source": [
    "So, a variation of circuits consists of the following process \n",
    "•\tFirst thing we want to do is prepare some initial state psi and as usual this is often a ground state or a zero state or \n",
    "some fixed reference state.\n",
    "•\tThen we execute parametrized unitary transformation which breaks down to a sequence of gates. \n",
    "•\tSo, the architecture of the circuit is fixed but the parameters fed to the gates are not fixed and then to convert \n",
    "quantum information back to classical information we want to measure some particular observables. \n",
    "•\tThen, we use classical computer to optimize the results and then fed back the results into the variable parameters \n",
    "and compute with present values. Repeat the process until we find the optimal result. "
   ]
  },
  {
   "cell_type": "code",
   "execution_count": null,
   "id": "5b0ee21d",
   "metadata": {},
   "outputs": [],
   "source": []
  }
 ],
 "metadata": {
  "kernelspec": {
   "display_name": "Python 3",
   "language": "python",
   "name": "python3"
  },
  "language_info": {
   "codemirror_mode": {
    "name": "ipython",
    "version": 3
   },
   "file_extension": ".py",
   "mimetype": "text/x-python",
   "name": "python",
   "nbconvert_exporter": "python",
   "pygments_lexer": "ipython3",
   "version": "3.8.8"
  }
 },
 "nbformat": 4,
 "nbformat_minor": 5
}
