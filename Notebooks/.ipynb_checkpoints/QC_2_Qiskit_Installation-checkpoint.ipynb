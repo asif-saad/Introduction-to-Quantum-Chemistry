{
 "cells": [
  {
   "cell_type": "markdown",
   "id": "b6c2471f",
   "metadata": {},
   "source": [
    "<a href=\"https://qworld.net\" target=\"_blank\" align=\"left\"><img src=\"../qworld/images/header.jpg\"  align=\"left\"></a>\n",
    "_prepared by Asif Saad_"
   ]
  },
  {
   "cell_type": "markdown",
   "id": "dc6dd348",
   "metadata": {},
   "source": [
    "Qiskit is an open-source SDK for working with quantum computers at the level of pulses, circuits, and application modules and it has been developed by IBM.\n",
    "\n",
    "To run quantum program, we need to either install qiskit library locally in our computer, or run the circuit in the cloud.\n",
    "\n",
    "In this section, we will be showing how to install qiskit locally in your computer.\n"
   ]
  },
  {
   "cell_type": "markdown",
   "id": "ed51a8d0",
   "metadata": {},
   "source": [
    "# Qiskit Installation"
   ]
  },
  {
   "cell_type": "markdown",
   "id": "235f2e5e",
   "metadata": {},
   "source": [
    "Qiskit supports Python 3.6 or later. However, both Python and Qiskit are evolving ecosystems, and sometimes when new releases occur in one or the other, there can be problems with compatibility.\n",
    "\n",
    "Firstly, [<b>Anaconda</b>](\"https://www.youtube.com/watch?v=5mDYijMfSzs\") has to be installed in your local pc as it is a cross-platform Python distribution for scientific computing and among various other features, jupyter is for interacting with Qiskit."
   ]
  },
  {
   "cell_type": "markdown",
   "id": "1f459f19",
   "metadata": {},
   "source": [
    "Qiskit is tested and supported on the following 64-bit systems:\n",
    "\n",
    "* Ubuntu 16.04 or later\n",
    "\n",
    "* macOS 10.12.6 or later\n",
    "\n",
    "* Windows 7 or later\n"
   ]
  },
  {
   "cell_type": "markdown",
   "id": "d266c935",
   "metadata": {},
   "source": [
    "We recommend using Python virtual environments to cleanly separate Qiskit from other applications and improve your experience.\n",
    "\n",
    "The simplest way to use environments is by using the ```conda``` command, included with Anaconda. A Conda environment allows you to specify a specific version of Python and set of libraries. Open a terminal window in the directory where you want to work.\n",
    "\n",
    "Create a minimal environment with only Python installed in it."
   ]
  },
  {
   "cell_type": "markdown",
   "id": "c4ad5c0b",
   "metadata": {},
   "source": [
    "if you're using Windows:\n",
    "\n",
    "- Install Anaconda\n",
    "- Search for Anaconda Prompt\n",
    "- Open Anaconda Prompt\n",
    "\n",
    "Use the following commands"
   ]
  },
  {
   "cell_type": "markdown",
   "id": "08d125ad",
   "metadata": {},
   "source": [
    "```conda create -n name_of_my_env python=3```\n",
    "<br><br>\n",
    "```activate name_of_my_env```"
   ]
  },
  {
   "cell_type": "markdown",
   "id": "22ade7d9",
   "metadata": {},
   "source": [
    "Next, install the Qiskit package, which includes Terra, Aer, Ignis, and Aqua.\n",
    "\n",
    "```pip install qiskit```"
   ]
  },
  {
   "cell_type": "markdown",
   "id": "4bae8389",
   "metadata": {},
   "source": [
    "If the packages installed correctly, you can run conda list to see the active packages in your virtual environment.\n",
    "\n",
    "\n",
    "After you’ve installed and verified the Qiskit packages you want to use, import them into your environment with Python to begin working.\n",
    "\n",
    "\n",
    "<b>```import qiskit```</b>"
   ]
  }
 ],
 "metadata": {
  "kernelspec": {
   "display_name": "Python 3",
   "language": "python",
   "name": "python3"
  },
  "language_info": {
   "codemirror_mode": {
    "name": "ipython",
    "version": 3
   },
   "file_extension": ".py",
   "mimetype": "text/x-python",
   "name": "python",
   "nbconvert_exporter": "python",
   "pygments_lexer": "ipython3",
   "version": "3.8.8"
  }
 },
 "nbformat": 4,
 "nbformat_minor": 5
}
