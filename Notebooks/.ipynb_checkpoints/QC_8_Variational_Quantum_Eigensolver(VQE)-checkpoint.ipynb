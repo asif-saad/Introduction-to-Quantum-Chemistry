{
 "cells": [
  {
   "cell_type": "markdown",
   "id": "b6c2471f",
   "metadata": {},
   "source": [
    "<a href=\"https://qworld.net\" target=\"_blank\" align=\"left\"><img src=\"../qworld/images/header.jpg\"  align=\"left\"></a>\n",
    "_prepared by Malihe Yadavar and Buvan Prajwal_"
   ]
  },
  {
   "cell_type": "markdown",
   "id": "110c9a7b",
   "metadata": {},
   "source": [
    "<table width=\"100%\"><tr><td style=\"color:#bbbbbb;background-color:#ffffff;font-size:11px;font-style:italic;text-align:right;\"> macros </td></tr></table>\n",
    "$ \\newcommand{\\bra}[1]{\\langle #1|} $\n",
    "$ \\newcommand{\\ket}[1]{|#1\\rangle} $\n",
    "$ \\newcommand{\\braket}[2]{\\langle #1|#2\\rangle} $\n",
    "$ \\newcommand{\\dot}[2]{ #1 \\cdot #2} $\n",
    "$ \\newcommand{\\biginner}[2]{\\left\\langle #1,#2\\right\\rangle} $\n",
    "$ \\newcommand{\\mymatrix}[2]{\\left( \\begin{array}{#1} #2\\end{array} \\right)} $\n",
    "$ \\newcommand{\\myvector}[1]{\\mymatrix{c}{#1}} $\n",
    "$ \\newcommand{\\myrvector}[1]{\\mymatrix{r}{#1}} $\n",
    "$ \\newcommand{\\mypar}[1]{\\left( #1 \\right)} $\n",
    "$ \\newcommand{\\mybigpar}[1]{ \\Big( #1 \\Big)} $\n",
    "$ \\newcommand{\\sqrttwo}{\\frac{1}{\\sqrt{2}}} $\n",
    "$ \\newcommand{\\dsqrttwo}{\\dfrac{1}{\\sqrt{2}}} $\n",
    "$ \\newcommand{\\onehalf}{\\frac{1}{2}} $\n",
    "$ \\newcommand{\\donehalf}{\\dfrac{1}{2}} $\n",
    "$ \\newcommand{\\hadamard}{ \\mymatrix{rr}{ \\sqrttwo & \\sqrttwo \\\\ \\sqrttwo & -\\sqrttwo }} $\n",
    "$ \\newcommand{\\vzero}{\\myvector{1\\\\0}} $\n",
    "$ \\newcommand{\\vone}{\\myvector{0\\\\1}} $\n",
    "$ \\newcommand{\\stateplus}{\\myvector{ \\sqrttwo \\\\  \\sqrttwo } } $\n",
    "$ \\newcommand{\\stateminus}{ \\myrvector{ \\sqrttwo \\\\ -\\sqrttwo } } $\n",
    "$ \\newcommand{\\myarray}[2]{ \\begin{array}{#1}#2\\end{array}} $\n",
    "$ \\newcommand{\\X}{ \\mymatrix{cc}{0 & 1 \\\\ 1 & 0}  } $\n",
    "$ \\newcommand{\\Z}{ \\mymatrix{rr}{1 & 0 \\\\ 0 & -1}  } $\n",
    "$ \\newcommand{\\Htwo}{ \\mymatrix{rrrr}{ \\frac{1}{2} & \\frac{1}{2} & \\frac{1}{2} & \\frac{1}{2} \\\\ \\frac{1}{2} & -\\frac{1}{2} & \\frac{1}{2} & -\\frac{1}{2} \\\\ \\frac{1}{2} & \\frac{1}{2} & -\\frac{1}{2} & -\\frac{1}{2} \\\\ \\frac{1}{2} & -\\frac{1}{2} & -\\frac{1}{2} & \\frac{1}{2} } } $\n",
    "$ \\newcommand{\\CNOT}{ \\mymatrix{cccc}{1 & 0 & 0 & 0 \\\\ 0 & 1 & 0 & 0 \\\\ 0 & 0 & 0 & 1 \\\\ 0 & 0 & 1 & 0} } $\n",
    "$ \\newcommand{\\norm}[1]{ \\left\\lVert #1 \\right\\rVert } $\n",
    "$ \\newcommand{\\pstate}[1]{ \\lceil \\mspace{-1mu} #1 \\mspace{-1.5mu} \\rfloor } $"
   ]
  },
  {
   "cell_type": "markdown",
   "id": "3c92992b",
   "metadata": {},
   "source": [
    "## Variational Quantum Eigensolver(VQE)"
   ]
  },
  {
   "cell_type": "markdown",
   "id": "5774d3b3",
   "metadata": {},
   "source": [
    "Variational quantum eigensolver is one of the very first example of variational quantum algorithm. Where these kinds of algorithm are often called as hybrid algorithm, as it is intergration of both quantum computers and classical computers. \n",
    "\n",
    "Here in VQE algorithm, we use qunautm computers to opertate on given variable parameters (computes the energy) and classical \n",
    "computers to perform the optimization of the results and then update the resultant values to the parameters and repeat until\n",
    "the find an optimal result."
   ]
  },
  {
   "cell_type": "markdown",
   "id": "f8f1df0b",
   "metadata": {},
   "source": [
    "### Why VQE? And Why on Quantum computer?\n",
    "\n",
    "Through VQE, we can simulate the resultant/product yield energy of a reaction of two or more elements/molecules. If we have a\n",
    "high energy molecule recating with another molecule we expect the end product yields a lower energy state, and only if the \n",
    "end product yields a lower energy state then the reaction takes place, this can be simulated using VQE.\n",
    "\n",
    "We use Qunatum computer because every time we add a particle or molecule to the system the computational cost grows exponentially. Add this why we use quantum computers, as every time we add qubit to the system our computational spaces doubles."
   ]
  },
  {
   "cell_type": "markdown",
   "id": "2d0229a6",
   "metadata": {},
   "source": [
    "We can estimate the ground state energy of a system, by its wave function, which represents the molecule.\n",
    "We then vary our wave function until we get a minimum value of the ground state energy, given our model of the Hamiltonian.\n",
    "A Hamiltonian is just a mathematical description of the total energy of a system.\n",
    "\n",
    "A simple use case of the VQE is to compute the interatomic distance of elements of a molecule. So, we can change the \n",
    "interatomic distance and use the VQE to compute the lowest energy at each distance. Then the distance that gives the lowest \n",
    "energy, yields the actual interatomic distance."
   ]
  },
  {
   "cell_type": "markdown",
   "id": "8ac987e1",
   "metadata": {},
   "source": [
    "So, a variation of circuits consists of the following process.\n",
    "<ul>\n",
    "  <li>First thing we want to do is prepare some initial state psi and as usual this is often a ground state or a zero state or \n",
    "some fixed reference state.</li>\n",
    "  <li>Then we execute parametrized unitary transformation which breaks down to a sequence of gates.</li>\n",
    "  <li>So, the architecture of the circuit is fixed but the parameters fed to the gates are not fixed and then to convert \n",
    "quantum information back to classical information we want to measure some particular observables.</li>\n",
    "  <li>Then, we use classical computer to optimize the results and then fed back the results into the variable parameters \n",
    "and compute with present values. Repeat the process until we find the optimal result.</li>\n",
    "</ul>"
   ]
  },
  {
   "cell_type": "markdown",
   "id": "389af21e",
   "metadata": {},
   "source": [
    "$H\\ket{\\psi(\\overrightarrow{\\theta})} = E\\ket{\\psi(\\overrightarrow{\\theta})}$\n",
    "<br>\n",
    "The lowest answer for this equation is gound state($E_{0}$).\n",
    "<br><br>"
   ]
  },
  {
   "cell_type": "markdown",
   "id": "eca190ca",
   "metadata": {},
   "source": [
    "The VQE is a hybrid quantum-classical algorithm. it it uses the quantum computer for a state preparation (red box) and  measurement subroutine (blue box), and the classical computer to process the measurement results and update the parameters in the quantum computer."
   ]
  },
  {
   "cell_type": "markdown",
   "id": "ba9c23a6",
   "metadata": {},
   "source": [
    "<img src='../pictures/VQE_1.png' width=\"50%\" align=\"center\">"
   ]
  },
  {
   "cell_type": "markdown",
   "id": "4024934f",
   "metadata": {},
   "source": [
    "We can also use Quantum Phase Estimation(QPE) for finding eigenvalue. But VQE is faster because of using measurement repetitions and using classical processing.\n",
    "<br>\n",
    "The VQE is based on Rayleigh-Ritz variational principle. The Rayleigh–Ritz method is a direct numerical method of approximating eigenvalue, originated in the context of solving physical boundary value problems."
   ]
  },
  {
   "cell_type": "markdown",
   "id": "e2150a87",
   "metadata": {},
   "source": [
    "???\n",
    "<br>$ \\bra{\\psi(\\overrightarrow{\\theta})}H\\ket{\\psi(\\overrightarrow{\\theta})} \\geq E_{0}$ <br>\n",
    "$E_{0}$ is the lowest energy eigenvalue, H is the Hamiltonian, $\\overrightarrow{\\theta}$ is a vector of independent parameters,\n",
    "$\\overrightarrow{\\theta}=$ {($\\theta_{1},...,\\theta_{n} $)}$^{T} $."
   ]
  },
  {
   "cell_type": "markdown",
   "id": "2f75789a",
   "metadata": {},
   "source": [
    "### Preparation part\n",
    "The qubit register is initialised in the zero state.\n",
    "$ \\ket{\\psi_{ref}}=U_{prep}\\ket{\\bar0} $<br>\n"
   ]
  },
  {
   "cell_type": "markdown",
   "id": "12ee33a3",
   "metadata": {},
   "source": [
    "$ \\ket{\\psi(\\theta)} = U(\\theta)\\ket{\\psi_{ref}} $ <br>\n",
    "A series of parametrized gates"
   ]
  },
  {
   "cell_type": "markdown",
   "id": "9f1cbfb9",
   "metadata": {},
   "source": [
    "$  \\sum_{k=0}^{N-1}{\\omega^{ j k} } \\ket{k} $"
   ]
  },
  {
   "cell_type": "markdown",
   "id": "24276a78",
   "metadata": {},
   "source": [
    "\n",
    "$$  H = \\sum_{j}{h_{j}P_{j}} = \\sum_{j}{h_{j} \\prod_{i} \\sigma_{i}^{j}} $$"
   ]
  },
  {
   "cell_type": "markdown",
   "id": "47d5c263",
   "metadata": {},
   "source": [
    "$$ E(\\theta_{k}) = \\sum_{j}^{N}{h_{j}\\bra{\\psi(\\theta_{k})}\\prod_{i} \\sigma_{i}^{j}\\ket{\\psi(\\theta_{k})}} $$"
   ]
  },
  {
   "cell_type": "markdown",
   "id": "15fb1b83",
   "metadata": {},
   "source": [
    "## Ansätze"
   ]
  },
  {
   "cell_type": "markdown",
   "id": "3d4a4f07",
   "metadata": {},
   "source": [
    "The ..."
   ]
  },
  {
   "cell_type": "markdown",
   "id": "8f9d600d",
   "metadata": {},
   "source": [
    "$\\psi$"
   ]
  },
  {
   "cell_type": "markdown",
   "id": "d28a3939",
   "metadata": {},
   "source": [
    "$\\Psi$"
   ]
  },
  {
   "cell_type": "markdown",
   "id": "87b363ad",
   "metadata": {},
   "source": [
    "<img src='../pictures/VQE_2.png' width=\"50%\" align=\"center\">"
   ]
  },
  {
   "cell_type": "code",
   "execution_count": null,
   "id": "fb32e3cd",
   "metadata": {},
   "outputs": [],
   "source": []
  }
 ],
 "metadata": {
  "kernelspec": {
   "display_name": "Python 3",
   "language": "python",
   "name": "python3"
  },
  "language_info": {
   "codemirror_mode": {
    "name": "ipython",
    "version": 3
   },
   "file_extension": ".py",
   "mimetype": "text/x-python",
   "name": "python",
   "nbconvert_exporter": "python",
   "pygments_lexer": "ipython3",
   "version": "3.8.8"
  }
 },
 "nbformat": 4,
 "nbformat_minor": 5
}
