{
 "cells": [
  {
   "cell_type": "markdown",
   "id": "b6c2471f",
   "metadata": {},
   "source": [
    "<a href=\"https://qworld.net\" target=\"_blank\" align=\"left\"><img src=\"../qworld/images/header.jpg\"  align=\"left\"></a>\n",
    "_prepared by Asif Saad and Buvan Prajwal_"
   ]
  },
  {
   "cell_type": "markdown",
   "id": "2ae4aa33",
   "metadata": {},
   "source": [
    "# Introduction\n",
    "\n",
    "Python is a general-purpose, versatile and popular programming language. It’s great as a first language because it is concise and easy to read, and it is also a good language to have in any programmer’s stack as it can be used for everything from web development to software development and scientific applications.\n",
    "In this notebook, we will be showing you some basics and essential parts of python that you need to know in order to utilise the qiskit package for quantum computing."
   ]
  },
  {
   "cell_type": "markdown",
   "id": "c8ad7fbc",
   "metadata": {},
   "source": [
    "## Variables\n",
    "Variable is a name that is used to refer to memory location. Python variable is also known as an identifier and used to hold value.\n",
    "\n",
    "In Python, we don't need to specify the type of variable because Python is a infer language and smart enough to get variable type.\n",
    "\n",
    "### Naming convention\n",
    "Variable names can be a group of both the letters and digits, but they have to begin with a letter or an underscore.\n",
    "\n",
    "It is recommended to use lowercase letters for the variable name. Rahul and rahul both are two different variables.\n",
    "\n",
    "<br><br>\n",
    "- The rules to name an identifier are given below.\n",
    "- The first character of the variable must be an alphabet or underscore ( _ ).\n",
    "- All the characters except the first character may be an alphabet of lower-case(a-z), upper-case (A-Z), underscore, or digit (0-9).\n",
    "- Identifier name must not contain any white-space, or special character (!, @, #, %, ^, &, *).\n",
    "- Identifier name must not be similar to any keyword defined in the language.\n",
    "- Identifier names are case sensitive; for example, my name, and MyName is not the same.\n",
    "- Examples of valid identifiers: a123, _n, n_9, etc.\n",
    "- Examples of invalid identifiers: 1a, n%4, n 9, etc.\n",
    "\n",
    "\n",
    "### Declaring Variable and Assigning Values\n",
    "\n",
    "Python does not bind us to declare a variable before using it in the application. It allows us to create a variable at the required time.\n",
    "\n",
    "We don't need to declare explicitly variable in Python. When we assign any value to the variable, that variable is declared automatically.\n",
    "\n",
    "The equal (=) operator is used to assign value to a variable.\n",
    "\n",
    "### Object Reference\n",
    "\n",
    "It is necessary to understand how the Python interpreter works when we declare a variable. The process of treating variables is somewhat different from many other programming languages.\n",
    "\n",
    "Python is the highly object-oriented programming language; that's why every data item belongs to a specific type of class. Consider the following example."
   ]
  },
  {
   "cell_type": "code",
   "execution_count": 3,
   "id": "ab57ea97",
   "metadata": {},
   "outputs": [
    {
     "name": "stdout",
     "output_type": "stream",
     "text": [
      "quantum\n"
     ]
    }
   ],
   "source": [
    "print(\"quantum\")"
   ]
  },
  {
   "cell_type": "markdown",
   "id": "2ef6c530",
   "metadata": {},
   "source": [
    "The Python object creates an integer object and displays it to the console. In the above print statement, we have created a string object. Let's check the type of it using the Python built-in <b>type()</b> function."
   ]
  },
  {
   "cell_type": "code",
   "execution_count": 4,
   "id": "b82b5132",
   "metadata": {},
   "outputs": [
    {
     "data": {
      "text/plain": [
       "str"
      ]
     },
     "execution_count": 4,
     "metadata": {},
     "output_type": "execute_result"
    }
   ],
   "source": [
    "type(\"quantum\")"
   ]
  },
  {
   "cell_type": "markdown",
   "id": "034b9866",
   "metadata": {},
   "source": [
    "In Python, variables are a symbolic name that is a reference or pointer to an object. The variables are used to denote objects by that name."
   ]
  },
  {
   "cell_type": "markdown",
   "id": "2170f1da",
   "metadata": {},
   "source": [
    "## Tuple\n",
    "\n",
    "A tuple in Python is similar to a list. The difference between the two is that we cannot change the elements of a tuple once it is assigned whereas we can change the elements of a list.\n",
    "\n",
    "### Creating a Tuple\n",
    "\n",
    "A tuple is created by placing all the items (elements) inside parentheses (), separated by commas. The parentheses are optional, however, it is a good practice to use them.\n",
    "\n",
    "A tuple can have any number of items and they may be of different types (integer, float, list, string, etc.)."
   ]
  },
  {
   "cell_type": "code",
   "execution_count": 5,
   "id": "5b55f8f6",
   "metadata": {},
   "outputs": [
    {
     "name": "stdout",
     "output_type": "stream",
     "text": [
      "()\n",
      "(1, 2, 3)\n",
      "(1, 'Hello', 3.4)\n",
      "('mouse', [8, 4, 6], (1, 2, 3))\n"
     ]
    }
   ],
   "source": [
    "# Different types of tuples\n",
    "\n",
    "# Empty tuple\n",
    "my_tuple = ()\n",
    "print(my_tuple)\n",
    "\n",
    "# Tuple having integers\n",
    "my_tuple = (1, 2, 3)\n",
    "print(my_tuple)\n",
    "\n",
    "# tuple with mixed datatypes\n",
    "my_tuple = (1, \"Hello\", 3.4)\n",
    "print(my_tuple)\n",
    "\n",
    "# nested tuple\n",
    "my_tuple = (\"mouse\", [8, 4, 6], (1, 2, 3))\n",
    "print(my_tuple)"
   ]
  },
  {
   "cell_type": "markdown",
   "id": "c79a30b1",
   "metadata": {},
   "source": [
    "A tuple can also be created without using parentheses. This is known as tuple packing."
   ]
  },
  {
   "cell_type": "code",
   "execution_count": 6,
   "id": "eed5203d",
   "metadata": {},
   "outputs": [
    {
     "name": "stdout",
     "output_type": "stream",
     "text": [
      "(3, 4.6, 'dog')\n",
      "3\n",
      "4.6\n",
      "dog\n"
     ]
    }
   ],
   "source": [
    "my_tuple = 3, 4.6, \"dog\"\n",
    "print(my_tuple)\n",
    "\n",
    "# tuple unpacking is also possible\n",
    "a, b, c = my_tuple\n",
    "\n",
    "print(a)      # 3\n",
    "print(b)      # 4.6\n",
    "print(c)      # dog"
   ]
  },
  {
   "cell_type": "markdown",
   "id": "dec2885e",
   "metadata": {},
   "source": [
    "Creating a tuple with one element is a bit tricky.\n",
    "\n",
    "Having one element within parentheses is not enough. We will need a trailing comma to indicate that it is, in fact, a tuple."
   ]
  },
  {
   "cell_type": "code",
   "execution_count": 7,
   "id": "7fd53137",
   "metadata": {},
   "outputs": [
    {
     "name": "stdout",
     "output_type": "stream",
     "text": [
      "<class 'str'>\n",
      "<class 'tuple'>\n",
      "<class 'tuple'>\n"
     ]
    }
   ],
   "source": [
    "my_tuple = (\"hello\")\n",
    "print(type(my_tuple))  # <class 'str'>\n",
    "\n",
    "# Creating a tuple having one element\n",
    "my_tuple = (\"hello\",)\n",
    "print(type(my_tuple))  # <class 'tuple'>\n",
    "\n",
    "# Parentheses is optional\n",
    "my_tuple = \"hello\",\n",
    "print(type(my_tuple))  # <class 'tuple'>"
   ]
  },
  {
   "cell_type": "markdown",
   "id": "011fd884",
   "metadata": {},
   "source": [
    "### Access Tuple Elements\n",
    "There are various ways in which we can access the elements of a tuple.\n",
    "\n",
    "#### 1. Indexing\n",
    "We can use the index operator [] to access an item in a tuple, where the index starts from 0.\n",
    "\n",
    "So, a tuple having 6 elements will have indices from 0 to 5. Trying to access an index outside of the tuple index range(6,7,... in this example) will raise an IndexError.\n",
    "\n",
    "The index must be an integer, so we cannot use float or other types. This will result in TypeError.\n",
    "\n",
    "Likewise, nested tuples are accessed using nested indexing, as shown in the example below."
   ]
  },
  {
   "cell_type": "code",
   "execution_count": 8,
   "id": "f6ea000a",
   "metadata": {},
   "outputs": [
    {
     "name": "stdout",
     "output_type": "stream",
     "text": [
      "p\n",
      "t\n",
      "s\n",
      "4\n"
     ]
    }
   ],
   "source": [
    "# Accessing tuple elements using indexing\n",
    "my_tuple = ('p','e','r','m','i','t')\n",
    "\n",
    "print(my_tuple[0])   # 'p' \n",
    "print(my_tuple[5])   # 't'\n",
    "\n",
    "# IndexError: list index out of range\n",
    "# print(my_tuple[6])\n",
    "\n",
    "# Index must be an integer\n",
    "# TypeError: list indices must be integers, not float\n",
    "# my_tuple[2.0]\n",
    "\n",
    "# nested tuple\n",
    "n_tuple = (\"mouse\", [8, 4, 6], (1, 2, 3))\n",
    "\n",
    "# nested index\n",
    "print(n_tuple[0][3])       # 's'\n",
    "print(n_tuple[1][1])       # 4"
   ]
  },
  {
   "cell_type": "markdown",
   "id": "baee8c2f",
   "metadata": {},
   "source": [
    "#### 2. Negative Indexing\n",
    "Python allows negative indexing for its sequences.\n",
    "\n",
    "The index of -1 refers to the last item, -2 to the second last item and so on."
   ]
  },
  {
   "cell_type": "code",
   "execution_count": 9,
   "id": "be8e6881",
   "metadata": {},
   "outputs": [
    {
     "name": "stdout",
     "output_type": "stream",
     "text": [
      "t\n",
      "p\n"
     ]
    }
   ],
   "source": [
    "# Negative indexing for accessing tuple elements\n",
    "my_tuple = ('p', 'e', 'r', 'm', 'i', 't')\n",
    "\n",
    "# Output: 't'\n",
    "print(my_tuple[-1])\n",
    "\n",
    "# Output: 'p'\n",
    "print(my_tuple[-6])"
   ]
  },
  {
   "cell_type": "markdown",
   "id": "59f47a76",
   "metadata": {},
   "source": [
    "#### 3. Slicing\n",
    "We can access a range of items in a tuple by using the slicing operator colon ```:```."
   ]
  },
  {
   "cell_type": "code",
   "execution_count": 10,
   "id": "aed81b28",
   "metadata": {},
   "outputs": [
    {
     "name": "stdout",
     "output_type": "stream",
     "text": [
      "('r', 'o', 'g')\n",
      "('p', 'r')\n",
      "('i', 'z')\n",
      "('p', 'r', 'o', 'g', 'r', 'a', 'm', 'i', 'z')\n"
     ]
    }
   ],
   "source": [
    "# Accessing tuple elements using slicing\n",
    "my_tuple = ('p','r','o','g','r','a','m','i','z')\n",
    "\n",
    "# elements 2nd to 4th\n",
    "# Output: ('r', 'o', 'g')\n",
    "print(my_tuple[1:4])\n",
    "\n",
    "# elements beginning to 2nd\n",
    "# Output: ('p', 'r')\n",
    "print(my_tuple[:-7])\n",
    "\n",
    "# elements 8th to end\n",
    "# Output: ('i', 'z')\n",
    "print(my_tuple[7:])\n",
    "\n",
    "# elements beginning to end\n",
    "# Output: ('p', 'r', 'o', 'g', 'r', 'a', 'm', 'i', 'z')\n",
    "print(my_tuple[:])"
   ]
  },
  {
   "cell_type": "markdown",
   "id": "1e5a9c36",
   "metadata": {},
   "source": [
    "Slicing can be best visualized by considering the index to be between the elements as shown below. So if we want to access a range, we need the index that will slice the portion from the tuple.\n",
    "\n",
    "### Advantages of Tuple over List\n",
    "Since tuples are quite similar to lists, both of them are used in similar situations. However, there are certain advantages of implementing a tuple over a list. Below listed are some of the main advantages:\n",
    "\n",
    "- We generally use tuples for heterogeneous (different) data types and lists for homogeneous (similar) data types.\n",
    "- Since tuples are immutable, iterating through a tuple is faster than with list. So there is a slight performance boost.\n",
    "- Tuples that contain immutable elements can be used as a key for a dictionary. With lists, this is not possible.\n",
    "- If you have data that doesn't change, implementing it as tuple will guarantee that it remains write-protected."
   ]
  },
  {
   "cell_type": "code",
   "execution_count": null,
   "id": "9cbc0fa4",
   "metadata": {},
   "outputs": [],
   "source": []
  },
  {
   "cell_type": "code",
   "execution_count": null,
   "id": "83e296d9",
   "metadata": {},
   "outputs": [],
   "source": []
  },
  {
   "cell_type": "code",
   "execution_count": null,
   "id": "4b634ef8",
   "metadata": {},
   "outputs": [],
   "source": []
  },
  {
   "cell_type": "code",
   "execution_count": null,
   "id": "446f4636",
   "metadata": {},
   "outputs": [],
   "source": []
  },
  {
   "cell_type": "code",
   "execution_count": null,
   "id": "3d599867",
   "metadata": {},
   "outputs": [],
   "source": []
  },
  {
   "cell_type": "code",
   "execution_count": null,
   "id": "f22387e6",
   "metadata": {},
   "outputs": [],
   "source": []
  },
  {
   "cell_type": "code",
   "execution_count": null,
   "id": "1449263d",
   "metadata": {},
   "outputs": [],
   "source": []
  },
  {
   "cell_type": "code",
   "execution_count": null,
   "id": "8df2d0d5",
   "metadata": {},
   "outputs": [],
   "source": []
  },
  {
   "cell_type": "code",
   "execution_count": null,
   "id": "3964151b",
   "metadata": {},
   "outputs": [],
   "source": []
  }
 ],
 "metadata": {
  "kernelspec": {
   "display_name": "Python 3",
   "language": "python",
   "name": "python3"
  },
  "language_info": {
   "codemirror_mode": {
    "name": "ipython",
    "version": 3
   },
   "file_extension": ".py",
   "mimetype": "text/x-python",
   "name": "python",
   "nbconvert_exporter": "python",
   "pygments_lexer": "ipython3",
   "version": "3.8.8"
  }
 },
 "nbformat": 4,
 "nbformat_minor": 5
}
