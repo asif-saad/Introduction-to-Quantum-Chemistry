{
 "cells": [
  {
   "cell_type": "markdown",
   "id": "b6c2471f",
   "metadata": {},
   "source": [
    "<a href=\"https://qworld.net\" target=\"_blank\" align=\"left\"><img src=\"../qworld/images/header.jpg\"  align=\"left\"></a>\n",
    "_prepared by Asif Saad and Buvan Prajwal_"
   ]
  },
  {
   "cell_type": "markdown",
   "id": "821a3bda",
   "metadata": {},
   "source": [
    "## Introduction\n",
    "\n",
    "Python is a general-purpose, versatile and popular programming language. It’s great as a first language because it is concise and easy to read, and it is also a good language to have in any programmer’s stack as it can be used for everything from web development to software development and scientific applications.\n",
    "In this notebook, we will be showing you some basics and essential parts of python that you need to know in order to utilise the qiskit package for quantum computing."
   ]
  },
  {
   "cell_type": "markdown",
   "id": "fd19966b",
   "metadata": {},
   "source": [
    "## Variables\n",
    "Variable is a name that is used to refer to memory location. Python variable is also known as an identifier and used to hold value.\n",
    "\n",
    "In Python, we don't need to specify the type of variable because Python is a infer language and smart enough to get variable type.\n",
    "\n",
    "### Naming convention\n",
    "Variable names can be a group of both the letters and digits, but they have to begin with a letter or an underscore.\n",
    "\n",
    "It is recommended to use lowercase letters for the variable name. Rahul and rahul both are two different variables.\n",
    "\n",
    "<br><br>\n",
    "- The rules to name an identifier are given below.\n",
    "- The first character of the variable must be an alphabet or underscore ( _ ).\n",
    "- All the characters except the first character may be an alphabet of lower-case(a-z), upper-case (A-Z), underscore, or digit (0-9).\n",
    "- Identifier name must not contain any white-space, or special character (!, @, #, %, ^, &, *).\n",
    "- Identifier name must not be similar to any keyword defined in the language.\n",
    "- Identifier names are case sensitive; for example, my name, and MyName is not the same.\n",
    "- Examples of valid identifiers: a123, _n, n_9, etc.\n",
    "- Examples of invalid identifiers: 1a, n%4, n 9, etc.\n",
    "\n",
    "\n",
    "### Declaring Variable and Assigning Values\n",
    "\n",
    "Python does not bind us to declare a variable before using it in the application. It allows us to create a variable at the required time.\n",
    "\n",
    "We don't need to declare explicitly variable in Python. When we assign any value to the variable, that variable is declared automatically.\n",
    "\n",
    "The equal (=) operator is used to assign value to a variable.\n",
    "\n",
    "### Object Reference\n",
    "\n",
    "It is necessary to understand how the Python interpreter works when we declare a variable. The process of treating variables is somewhat different from many other programming languages.\n",
    "\n",
    "Python is the highly object-oriented programming language; that's why every data item belongs to a specific type of class. Consider the following example."
   ]
  },
  {
   "cell_type": "code",
   "execution_count": 3,
   "id": "f1a07dc1",
   "metadata": {},
   "outputs": [
    {
     "name": "stdout",
     "output_type": "stream",
     "text": [
      "quantum\n"
     ]
    }
   ],
   "source": [
    "print(\"quantum\")"
   ]
  },
  {
   "cell_type": "markdown",
   "id": "9b690188",
   "metadata": {},
   "source": [
    "The Python object creates an integer object and displays it to the console. In the above print statement, we have created a string object. Let's check the type of it using the Python built-in <b>type()</b> function."
   ]
  },
  {
   "cell_type": "code",
   "execution_count": 4,
   "id": "5d1d3a02",
   "metadata": {},
   "outputs": [
    {
     "data": {
      "text/plain": [
       "str"
      ]
     },
     "execution_count": 4,
     "metadata": {},
     "output_type": "execute_result"
    }
   ],
   "source": [
    "type(\"quantum\")"
   ]
  },
  {
   "cell_type": "markdown",
   "id": "7978a755",
   "metadata": {},
   "source": [
    "In Python, variables are a symbolic name that is a reference or pointer to an object. The variables are used to denote objects by that name."
   ]
  },
  {
   "cell_type": "markdown",
   "id": "0257eb3e",
   "metadata": {},
   "source": [
    "## List\n",
    "\n",
    "list is a collection of arbitrary objects, somewhat akin to an array in many other programming languages but more flexible. Lists are defined in Python by enclosing a comma-separated sequence of objects in square brackets ([]), as shown below:"
   ]
  },
  {
   "cell_type": "code",
   "execution_count": 12,
   "id": "7105350d",
   "metadata": {},
   "outputs": [
    {
     "name": "stdout",
     "output_type": "stream",
     "text": [
      "['foo', 'bar', 'baz', 'qux']\n"
     ]
    },
    {
     "data": {
      "text/plain": [
       "['foo', 'bar', 'baz', 'qux']"
      ]
     },
     "execution_count": 12,
     "metadata": {},
     "output_type": "execute_result"
    }
   ],
   "source": [
    "a = ['foo', 'bar', 'baz', 'qux']\n",
    "print(a)\n",
    "a"
   ]
  },
  {
   "cell_type": "markdown",
   "id": "7606f598",
   "metadata": {},
   "source": [
    "The important characteristics of Python lists are as follows:\n",
    "\n",
    "- Lists are ordered.\n",
    "- Lists can contain any arbitrary objects.\n",
    "- List elements can be accessed by index.\n",
    "- Lists can be nested to arbitrary depth.\n",
    "- Lists are mutable.\n",
    "- Lists are dynamic.\n",
    "Each of these features is examined in more detail below.\n",
    "\n",
    "### Lists Are Ordered\n",
    "A list is not merely a collection of objects. It is an ordered collection of objects. The order in which you specify the elements when you define a list is an innate characteristic of that list and is maintained for that list’s lifetime.\n",
    "\n",
    "Lists that have the same elements in a different order are not the same:"
   ]
  },
  {
   "cell_type": "code",
   "execution_count": 14,
   "id": "eceddd3f",
   "metadata": {},
   "outputs": [
    {
     "name": "stdout",
     "output_type": "stream",
     "text": [
      "False\n",
      "False\n",
      "False\n"
     ]
    }
   ],
   "source": [
    "a = ['foo', 'bar', 'baz', 'qux']\n",
    "b = ['baz', 'qux', 'bar', 'foo']\n",
    "print(a == b)\n",
    "print(a is b)\n",
    "print([1, 2, 3, 4] == [4, 1, 3, 2])"
   ]
  },
  {
   "cell_type": "markdown",
   "id": "10885fef",
   "metadata": {},
   "source": [
    "### Lists Can Contain Arbitrary Objects\n",
    "A list can contain any assortment of objects. The elements of a list can all be the same type:"
   ]
  },
  {
   "cell_type": "code",
   "execution_count": 15,
   "id": "7a90fd5d",
   "metadata": {},
   "outputs": [
    {
     "name": "stdout",
     "output_type": "stream",
     "text": [
      "[2, 4, 6, 8]\n"
     ]
    }
   ],
   "source": [
    "a = [2, 4, 6, 8]\n",
    "print(a)"
   ]
  },
  {
   "cell_type": "markdown",
   "id": "92ba673b",
   "metadata": {},
   "source": [
    "### List Elements Can Be Accessed by Index\n",
    "\n",
    "Individual elements in a list can be accessed using an index in square brackets. This is exactly analogous to accessing individual characters in a string. List indexing is zero-based as it is with strings.\n",
    "\n",
    "Consider the following list:"
   ]
  },
  {
   "cell_type": "code",
   "execution_count": 16,
   "id": "58839bd5",
   "metadata": {},
   "outputs": [
    {
     "name": "stdout",
     "output_type": "stream",
     "text": [
      "['foo', 'bar', 'baz', 'qux', 'quux', 'corge']\n"
     ]
    }
   ],
   "source": [
    "a = ['foo', 'bar', 'baz', 'qux', 'quux', 'corge']\n",
    "print(a)"
   ]
  },
  {
   "cell_type": "markdown",
   "id": "0ed64405",
   "metadata": {},
   "source": [
    "## Tuple\n",
    "\n",
    "A tuple in Python is similar to a list. The difference between the two is that we cannot change the elements of a tuple once it is assigned whereas we can change the elements of a list.\n",
    "\n",
    "### Creating a Tuple\n",
    "\n",
    "A tuple is created by placing all the items (elements) inside parentheses (), separated by commas. The parentheses are optional, however, it is a good practice to use them.\n",
    "\n",
    "A tuple can have any number of items and they may be of different types (integer, float, list, string, etc.)."
   ]
  },
  {
   "cell_type": "code",
   "execution_count": 5,
   "id": "728ce3bf",
   "metadata": {},
   "outputs": [
    {
     "name": "stdout",
     "output_type": "stream",
     "text": [
      "()\n",
      "(1, 2, 3)\n",
      "(1, 'Hello', 3.4)\n",
      "('mouse', [8, 4, 6], (1, 2, 3))\n"
     ]
    }
   ],
   "source": [
    "# Different types of tuples\n",
    "\n",
    "# Empty tuple\n",
    "my_tuple = ()\n",
    "print(my_tuple)\n",
    "\n",
    "# Tuple having integers\n",
    "my_tuple = (1, 2, 3)\n",
    "print(my_tuple)\n",
    "\n",
    "# tuple with mixed datatypes\n",
    "my_tuple = (1, \"Hello\", 3.4)\n",
    "print(my_tuple)\n",
    "\n",
    "# nested tuple\n",
    "my_tuple = (\"mouse\", [8, 4, 6], (1, 2, 3))\n",
    "print(my_tuple)"
   ]
  },
  {
   "cell_type": "markdown",
   "id": "0e46560e",
   "metadata": {},
   "source": [
    "A tuple can also be created without using parentheses. This is known as tuple packing."
   ]
  },
  {
   "cell_type": "code",
   "execution_count": 6,
   "id": "6f5ff6e4",
   "metadata": {},
   "outputs": [
    {
     "name": "stdout",
     "output_type": "stream",
     "text": [
      "(3, 4.6, 'dog')\n",
      "3\n",
      "4.6\n",
      "dog\n"
     ]
    }
   ],
   "source": [
    "my_tuple = 3, 4.6, \"dog\"\n",
    "print(my_tuple)\n",
    "\n",
    "# tuple unpacking is also possible\n",
    "a, b, c = my_tuple\n",
    "\n",
    "print(a)      # 3\n",
    "print(b)      # 4.6\n",
    "print(c)      # dog"
   ]
  },
  {
   "cell_type": "markdown",
   "id": "7ef3c887",
   "metadata": {},
   "source": [
    "Creating a tuple with one element is a bit tricky.\n",
    "\n",
    "Having one element within parentheses is not enough. We will need a trailing comma to indicate that it is, in fact, a tuple."
   ]
  },
  {
   "cell_type": "code",
   "execution_count": 7,
   "id": "5bd8b27f",
   "metadata": {},
   "outputs": [
    {
     "name": "stdout",
     "output_type": "stream",
     "text": [
      "<class 'str'>\n",
      "<class 'tuple'>\n",
      "<class 'tuple'>\n"
     ]
    }
   ],
   "source": [
    "my_tuple = (\"hello\")\n",
    "print(type(my_tuple))  # <class 'str'>\n",
    "\n",
    "# Creating a tuple having one element\n",
    "my_tuple = (\"hello\",)\n",
    "print(type(my_tuple))  # <class 'tuple'>\n",
    "\n",
    "# Parentheses is optional\n",
    "my_tuple = \"hello\",\n",
    "print(type(my_tuple))  # <class 'tuple'>"
   ]
  },
  {
   "cell_type": "markdown",
   "id": "b5b4b539",
   "metadata": {},
   "source": [
    "### Access Tuple Elements\n",
    "There are various ways in which we can access the elements of a tuple.\n",
    "\n",
    "#### 1. Indexing\n",
    "We can use the index operator [] to access an item in a tuple, where the index starts from 0.\n",
    "\n",
    "So, a tuple having 6 elements will have indices from 0 to 5. Trying to access an index outside of the tuple index range(6,7,... in this example) will raise an IndexError.\n",
    "\n",
    "The index must be an integer, so we cannot use float or other types. This will result in TypeError.\n",
    "\n",
    "Likewise, nested tuples are accessed using nested indexing, as shown in the example below."
   ]
  },
  {
   "cell_type": "code",
   "execution_count": 8,
   "id": "24a13362",
   "metadata": {},
   "outputs": [
    {
     "name": "stdout",
     "output_type": "stream",
     "text": [
      "p\n",
      "t\n",
      "s\n",
      "4\n"
     ]
    }
   ],
   "source": [
    "# Accessing tuple elements using indexing\n",
    "my_tuple = ('p','e','r','m','i','t')\n",
    "\n",
    "print(my_tuple[0])   # 'p' \n",
    "print(my_tuple[5])   # 't'\n",
    "\n",
    "# IndexError: list index out of range\n",
    "# print(my_tuple[6])\n",
    "\n",
    "# Index must be an integer\n",
    "# TypeError: list indices must be integers, not float\n",
    "# my_tuple[2.0]\n",
    "\n",
    "# nested tuple\n",
    "n_tuple = (\"mouse\", [8, 4, 6], (1, 2, 3))\n",
    "\n",
    "# nested index\n",
    "print(n_tuple[0][3])       # 's'\n",
    "print(n_tuple[1][1])       # 4"
   ]
  },
  {
   "cell_type": "markdown",
   "id": "a1059812",
   "metadata": {},
   "source": [
    "#### 2. Negative Indexing\n",
    "Python allows negative indexing for its sequences.\n",
    "\n",
    "The index of -1 refers to the last item, -2 to the second last item and so on."
   ]
  },
  {
   "cell_type": "code",
   "execution_count": 9,
   "id": "113f193c",
   "metadata": {},
   "outputs": [
    {
     "name": "stdout",
     "output_type": "stream",
     "text": [
      "t\n",
      "p\n"
     ]
    }
   ],
   "source": [
    "# Negative indexing for accessing tuple elements\n",
    "my_tuple = ('p', 'e', 'r', 'm', 'i', 't')\n",
    "\n",
    "# Output: 't'\n",
    "print(my_tuple[-1])\n",
    "\n",
    "# Output: 'p'\n",
    "print(my_tuple[-6])"
   ]
  },
  {
   "cell_type": "markdown",
   "id": "52575c65",
   "metadata": {},
   "source": [
    "#### 3. Slicing\n",
    "We can access a range of items in a tuple by using the slicing operator colon ```:```."
   ]
  },
  {
   "cell_type": "code",
   "execution_count": 10,
   "id": "0ade8502",
   "metadata": {},
   "outputs": [
    {
     "name": "stdout",
     "output_type": "stream",
     "text": [
      "('r', 'o', 'g')\n",
      "('p', 'r')\n",
      "('i', 'z')\n",
      "('p', 'r', 'o', 'g', 'r', 'a', 'm', 'i', 'z')\n"
     ]
    }
   ],
   "source": [
    "# Accessing tuple elements using slicing\n",
    "my_tuple = ('p','r','o','g','r','a','m','i','z')\n",
    "\n",
    "# elements 2nd to 4th\n",
    "# Output: ('r', 'o', 'g')\n",
    "print(my_tuple[1:4])\n",
    "\n",
    "# elements beginning to 2nd\n",
    "# Output: ('p', 'r')\n",
    "print(my_tuple[:-7])\n",
    "\n",
    "# elements 8th to end\n",
    "# Output: ('i', 'z')\n",
    "print(my_tuple[7:])\n",
    "\n",
    "# elements beginning to end\n",
    "# Output: ('p', 'r', 'o', 'g', 'r', 'a', 'm', 'i', 'z')\n",
    "print(my_tuple[:])"
   ]
  },
  {
   "cell_type": "markdown",
   "id": "55fd74f7",
   "metadata": {},
   "source": [
    "Slicing can be best visualized by considering the index to be between the elements as shown below. So if we want to access a range, we need the index that will slice the portion from the tuple.\n",
    "\n",
    "### Advantages of Tuple over List\n",
    "Since tuples are quite similar to lists, both of them are used in similar situations. However, there are certain advantages of implementing a tuple over a list. Below listed are some of the main advantages:\n",
    "\n",
    "- We generally use tuples for heterogeneous (different) data types and lists for homogeneous (similar) data types.\n",
    "- Since tuples are immutable, iterating through a tuple is faster than with list. So there is a slight performance boost.\n",
    "- Tuples that contain immutable elements can be used as a key for a dictionary. With lists, this is not possible.\n",
    "- If you have data that doesn't change, implementing it as tuple will guarantee that it remains write-protected."
   ]
  },
  {
   "cell_type": "markdown",
   "id": "f5c3dcd7",
   "metadata": {},
   "source": [
    "## Dictionary\n",
    "\n",
    "Dictionaries in Python are a list of items that are unordered and can be changed by use of built in methods. Dictionaries are used to create a map of unique keys to values.\n",
    "\n",
    "<br>\n",
    "\n",
    "To create a Dictionary, use {} curly brackets to construct the dictionary and [] square brackets to index it.\n",
    "\n",
    "Separate the key and value with colons : and with commas , between each pair.\n",
    "\n",
    "Keys must be quoted, for instance: “title” : “How to use Dictionaries in Python”\n",
    "\n",
    "As with lists we can print out the dictionary by printing the reference to it.\n",
    "\n",
    "A dictionary maps a set of objects (keys) to another set of objects (values) so you can create an unordered list of objects.\n",
    "\n",
    "Dictionaries are mutable, which means they can be changed.\n",
    "\n",
    "The values that the keys point to can be any Python value.\n",
    "\n",
    "Dictionaries are unordered, so the order that the keys are added doesn’t necessarily reflect what order they may be reported back. Because of this, you can refer to a value by its key name.\n",
    "\n",
    "### Create a new dictionary\n",
    "\n",
    "In order to construct a dictionary you can start with an empty one."
   ]
  },
  {
   "cell_type": "code",
   "execution_count": 17,
   "id": "41f8c6e2",
   "metadata": {},
   "outputs": [],
   "source": [
    "mydict={}"
   ]
  },
  {
   "cell_type": "markdown",
   "id": "5a3e9c4d",
   "metadata": {},
   "source": [
    "This will create a dictionary, which has an initially six key-value pairs, where iphone* is the key and years the values"
   ]
  },
  {
   "cell_type": "code",
   "execution_count": 18,
   "id": "de067e96",
   "metadata": {},
   "outputs": [
    {
     "name": "stdout",
     "output_type": "stream",
     "text": [
      "{'iphone': 2007, 'iphone 3G': 2008, 'iphone 3GS': 2009, 'iphone 4': 2010, 'iphone 4S': 2011, 'iphone 5': 2012}\n"
     ]
    }
   ],
   "source": [
    "released = {\n",
    "\t\t\"iphone\" : 2007,\n",
    "\t\t\"iphone 3G\" : 2008,\n",
    "\t\t\"iphone 3GS\" : 2009,\n",
    "\t\t\"iphone 4\" : 2010,\n",
    "\t\t\"iphone 4S\" : 2011,\n",
    "\t\t\"iphone 5\" : 2012\n",
    "\t}\n",
    "print(released)"
   ]
  },
  {
   "cell_type": "markdown",
   "id": "6ac97371",
   "metadata": {},
   "source": [
    "## Conditions\n",
    "\n",
    "Python uses boolean logic to evaluate conditions. The boolean values True and False are returned when an expression is compared or evaluated. For example:"
   ]
  },
  {
   "cell_type": "code",
   "execution_count": 20,
   "id": "80da8f33",
   "metadata": {},
   "outputs": [
    {
     "name": "stdout",
     "output_type": "stream",
     "text": [
      "True\n",
      "False\n",
      "True\n"
     ]
    }
   ],
   "source": [
    "x = 2\n",
    "print(x == 2) # prints out True\n",
    "print(x == 3) # prints out False\n",
    "print(x < 3) # prints out True"
   ]
  },
  {
   "cell_type": "markdown",
   "id": "94edf62c",
   "metadata": {},
   "source": [
    "Notice that variable assignment is done using a single equals operator \"=\", whereas comparison between two variables is done using the double equals operator \"==\". The \"not equals\" operator is marked as \"!=\".\n",
    "### Boolean operators\n",
    "The \"and\" and \"or\" boolean operators allow building complex boolean expressions, for example:"
   ]
  },
  {
   "cell_type": "code",
   "execution_count": 21,
   "id": "f26fc402",
   "metadata": {},
   "outputs": [
    {
     "name": "stdout",
     "output_type": "stream",
     "text": [
      "Your name is John, and you are also 23 years old.\n",
      "Your name is either John or Rick.\n"
     ]
    }
   ],
   "source": [
    "name = \"John\"\n",
    "age = 23\n",
    "if name == \"John\" and age == 23:\n",
    "    print(\"Your name is John, and you are also 23 years old.\")\n",
    "\n",
    "if name == \"John\" or name == \"Rick\":\n",
    "    print(\"Your name is either John or Rick.\")"
   ]
  },
  {
   "cell_type": "markdown",
   "id": "1e31cd7b",
   "metadata": {},
   "source": [
    "### The \"in\" operator\n",
    "The \"in\" operator could be used to check if a specified object exists within an iterable object container, such as a list:"
   ]
  },
  {
   "cell_type": "code",
   "execution_count": 22,
   "id": "ec3ab988",
   "metadata": {},
   "outputs": [
    {
     "name": "stdout",
     "output_type": "stream",
     "text": [
      "Your name is either John or Rick.\n"
     ]
    }
   ],
   "source": [
    "name = \"John\"\n",
    "if name in [\"John\", \"Rick\"]:\n",
    "    print(\"Your name is either John or Rick.\")"
   ]
  },
  {
   "cell_type": "markdown",
   "id": "e852a6f6",
   "metadata": {},
   "source": [
    "Python uses indentation to define code blocks, instead of brackets. The standard Python indentation is 4 spaces, although tabs and any other space size will work, as long as it is consistent. Notice that code blocks do not need any termination.\n",
    "\n",
    "Here is an example for using Python's \"if\" statement using code blocks:"
   ]
  },
  {
   "cell_type": "code",
   "execution_count": 23,
   "id": "a1b4fe52",
   "metadata": {},
   "outputs": [],
   "source": [
    "statement = False\n",
    "another_statement = True\n",
    "if statement is True:\n",
    "    # do something\n",
    "    pass\n",
    "elif another_statement is True: # else if\n",
    "    # do something else\n",
    "    pass\n",
    "else:\n",
    "    # do another thing\n",
    "    pass"
   ]
  },
  {
   "cell_type": "code",
   "execution_count": 24,
   "id": "f9e8b255",
   "metadata": {},
   "outputs": [
    {
     "name": "stdout",
     "output_type": "stream",
     "text": [
      "x equals two!\n"
     ]
    }
   ],
   "source": [
    "x = 2\n",
    "if x == 2:\n",
    "    print(\"x equals two!\")\n",
    "else:\n",
    "    print(\"x does not equal to two.\")"
   ]
  },
  {
   "cell_type": "markdown",
   "id": "a2c82a29",
   "metadata": {},
   "source": [
    "A statement is evaulated as true if one of the following is correct:\n",
    "1. The \"True\" boolean variable is given, or calculated using an expression, such as an arithmetic comparison. \n",
    "2. An object which is not considered \"empty\" is passed.\n",
    "Here are some examples for objects which are considered as empty: \n",
    "1. An empty string: \"\" \n",
    "2. An empty list: [] \n",
    "3. The number zero: 0 \n",
    "4. The false boolean variable: False\n",
    "### The 'is' operator\n",
    "Unlike the double equals operator \"==\", the \"is\" operator does not match the values of the variables, but the instances themselves. For example:"
   ]
  },
  {
   "cell_type": "code",
   "execution_count": 26,
   "id": "4ea316b8",
   "metadata": {},
   "outputs": [
    {
     "name": "stdout",
     "output_type": "stream",
     "text": [
      "True\n",
      "False\n"
     ]
    }
   ],
   "source": [
    "x = [1,2,3]\n",
    "y = [1,2,3]\n",
    "print(x == y) # Prints out True\n",
    "print(x is y) # Prints out False"
   ]
  },
  {
   "cell_type": "markdown",
   "id": "2b8f4621",
   "metadata": {},
   "source": [
    "### The \"not\" operator\n",
    "Using \"not\" before a boolean expression inverts it:"
   ]
  },
  {
   "cell_type": "code",
   "execution_count": 27,
   "id": "c5d8461d",
   "metadata": {},
   "outputs": [
    {
     "name": "stdout",
     "output_type": "stream",
     "text": [
      "True\n",
      "False\n"
     ]
    }
   ],
   "source": [
    "print(not False) # Prints out True\n",
    "print((not False) == (False)) # Prints out False"
   ]
  },
  {
   "cell_type": "markdown",
   "id": "324c91a0",
   "metadata": {},
   "source": [
    "## For loop\n",
    "\n",
    "The for loop in Python is used to iterate the statements or a part of the program several times. It is frequently used to traverse the data structures like list, tuple, or dictionary.\n",
    "\n",
    "The syntax of for loop in python is given below."
   ]
  },
  {
   "cell_type": "code",
   "execution_count": 28,
   "id": "7d9e7fcb",
   "metadata": {
    "collapsed": true
   },
   "outputs": [
    {
     "ename": "NameError",
     "evalue": "name 'sequence' is not defined",
     "output_type": "error",
     "traceback": [
      "\u001b[1;31m---------------------------------------------------------------------------\u001b[0m",
      "\u001b[1;31mNameError\u001b[0m                                 Traceback (most recent call last)",
      "\u001b[1;32m<ipython-input-28-eac2f9fc0d49>\u001b[0m in \u001b[0;36m<module>\u001b[1;34m\u001b[0m\n\u001b[1;32m----> 1\u001b[1;33m \u001b[1;32mfor\u001b[0m \u001b[0miterating_var\u001b[0m \u001b[1;32min\u001b[0m \u001b[0msequence\u001b[0m\u001b[1;33m:\u001b[0m\u001b[1;33m\u001b[0m\u001b[1;33m\u001b[0m\u001b[0m\n\u001b[0m\u001b[0;32m      2\u001b[0m     \u001b[0mstatement\u001b[0m\u001b[1;33m(\u001b[0m\u001b[0ms\u001b[0m\u001b[1;33m)\u001b[0m\u001b[1;33m\u001b[0m\u001b[1;33m\u001b[0m\u001b[0m\n",
      "\u001b[1;31mNameError\u001b[0m: name 'sequence' is not defined"
     ]
    }
   ],
   "source": [
    "for iterating_var in sequence:    \n",
    "    statement(s)   "
   ]
  },
  {
   "cell_type": "markdown",
   "id": "cc869425",
   "metadata": {},
   "source": [
    "<img src='../pictures/for_loop.png'>"
   ]
  },
  {
   "cell_type": "code",
   "execution_count": 31,
   "id": "31153c78",
   "metadata": {},
   "outputs": [
    {
     "name": "stdout",
     "output_type": "stream",
     "text": [
      "P\n",
      "y\n",
      "t\n",
      "h\n",
      "o\n",
      "n\n"
     ]
    }
   ],
   "source": [
    "str = \"Python\"  \n",
    "for i in str:  \n",
    "    print(i)  "
   ]
  },
  {
   "cell_type": "code",
   "execution_count": 32,
   "id": "c017bead",
   "metadata": {},
   "outputs": [
    {
     "name": "stdout",
     "output_type": "stream",
     "text": [
      "5\n",
      "10\n",
      "15\n",
      "20\n",
      "25\n",
      "30\n",
      "35\n",
      "40\n",
      "45\n",
      "50\n"
     ]
    }
   ],
   "source": [
    "list = [1,2,3,4,5,6,7,8,9,10]  \n",
    "n = 5  \n",
    "for i in list:  \n",
    "    c = n*i  \n",
    "    print(c)  "
   ]
  },
  {
   "cell_type": "code",
   "execution_count": 33,
   "id": "ed66e0b9",
   "metadata": {},
   "outputs": [
    {
     "name": "stdout",
     "output_type": "stream",
     "text": [
      "The sum is: 183\n"
     ]
    }
   ],
   "source": [
    "list = [10,30,23,43,65,12]  \n",
    "sum = 0  \n",
    "for i in list:  \n",
    "    sum = sum+i  \n",
    "print(\"The sum is:\",sum)  "
   ]
  },
  {
   "cell_type": "markdown",
   "id": "4232dcc3",
   "metadata": {},
   "source": [
    "### The range() function\n",
    "\n",
    "The <b>range()</b> function is used to generate the sequence of the numbers. If we pass the range(10), it will generate the numbers from 0 to 9. The syntax of the range() function is given below.\n",
    "\n",
    "```range(start,stop,step size)```\n",
    "\n",
    "- The start represents the beginning of the iteration.\n",
    "- The stop represents that the loop will iterate till stop-1. The range(1,5) will generate numbers 1 to 4 iterations. It is optional.\n",
    "- The step size is used to skip the specific numbers from the iteration. It is optional to use. By default, the step size is 1. It is optional."
   ]
  },
  {
   "cell_type": "code",
   "execution_count": 34,
   "id": "0607e3b4",
   "metadata": {
    "scrolled": true
   },
   "outputs": [
    {
     "name": "stdout",
     "output_type": "stream",
     "text": [
      "0 1 2 3 4 5 6 7 8 9 "
     ]
    }
   ],
   "source": [
    "for i in range(10):  \n",
    "    print(i,end = ' ')  "
   ]
  },
  {
   "cell_type": "code",
   "execution_count": 37,
   "id": "e2f77e56",
   "metadata": {},
   "outputs": [
    {
     "name": "stdout",
     "output_type": "stream",
     "text": [
      "Enter the number 12\n",
      "12 * 1 = 12\n",
      "12 * 2 = 24\n",
      "12 * 3 = 36\n",
      "12 * 4 = 48\n",
      "12 * 5 = 60\n",
      "12 * 6 = 72\n",
      "12 * 7 = 84\n",
      "12 * 8 = 96\n",
      "12 * 9 = 108\n",
      "12 * 10 = 120\n"
     ]
    }
   ],
   "source": [
    "# Program to print table of given number.\n",
    "n = int(input(\"Enter the number \"))  \n",
    "for i in range(1,11):  \n",
    "    c = n*i  \n",
    "    print(n,\"*\",i,\"=\",c)  "
   ]
  },
  {
   "cell_type": "code",
   "execution_count": 38,
   "id": "e00ef253",
   "metadata": {},
   "outputs": [
    {
     "name": "stdout",
     "output_type": "stream",
     "text": [
      "Enter the number 12\n",
      "2\n",
      "4\n",
      "6\n",
      "8\n",
      "10\n"
     ]
    }
   ],
   "source": [
    "# Program to print even number using step size in range().\n",
    "n = int(input(\"Enter the number \"))  \n",
    "for i in range(2,n,2):  \n",
    "    print(i) "
   ]
  },
  {
   "cell_type": "markdown",
   "id": "859fc20d",
   "metadata": {},
   "source": [
    "We can also use the range() function with sequence of numbers. The len() function is combined with range() function which iterate through a sequence using indexing. Consider the following example."
   ]
  },
  {
   "cell_type": "code",
   "execution_count": 39,
   "id": "88d3656f",
   "metadata": {},
   "outputs": [
    {
     "name": "stdout",
     "output_type": "stream",
     "text": [
      "Hello Peter\n",
      "Hello Joseph\n",
      "Hello Ricky\n",
      "Hello Devansh\n"
     ]
    }
   ],
   "source": [
    "list = ['Peter','Joseph','Ricky','Devansh']  \n",
    "for i in range(len(list)):  \n",
    "    print(\"Hello\",list[i])  "
   ]
  },
  {
   "cell_type": "markdown",
   "id": "1daed3ae",
   "metadata": {},
   "source": [
    "### Nested for loop in python\n",
    "\n",
    "Python allows us to nest any number of for loops inside a for loop. The inner loop is executed n number of times for every iteration of the outer loop. The syntax is given below."
   ]
  },
  {
   "cell_type": "code",
   "execution_count": null,
   "id": "4b19e91f",
   "metadata": {
    "collapsed": true
   },
   "outputs": [],
   "source": [
    "# Nested for loop\n",
    "# User input for number of rows  \n",
    "rows = int(input(\"Enter the rows:\"))  \n",
    "# Outer loop will print number of rows  \n",
    "for i in range(0,rows+1):  \n",
    "# Inner loop will print number of Astrisk  \n",
    "    for j in range(i):  \n",
    "        print(\"*\",end = '')  \n",
    "    print()  "
   ]
  },
  {
   "cell_type": "code",
   "execution_count": null,
   "id": "810559d4",
   "metadata": {},
   "outputs": [],
   "source": [
    "# Program to number pyramid.\n",
    "rows = int(input(\"Enter the rows\"))  \n",
    "for i in range(0,rows+1):  \n",
    "    for j in range(i):  \n",
    "        print(i,end = '')  \n",
    "    print()  "
   ]
  },
  {
   "cell_type": "code",
   "execution_count": null,
   "id": "61e197b0",
   "metadata": {},
   "outputs": [],
   "source": []
  },
  {
   "cell_type": "code",
   "execution_count": null,
   "id": "96b14466",
   "metadata": {},
   "outputs": [],
   "source": []
  },
  {
   "cell_type": "code",
   "execution_count": null,
   "id": "3b451f13",
   "metadata": {},
   "outputs": [],
   "source": []
  },
  {
   "cell_type": "code",
   "execution_count": null,
   "id": "5fc7ebc7",
   "metadata": {},
   "outputs": [],
   "source": []
  },
  {
   "cell_type": "code",
   "execution_count": null,
   "id": "53a21cba",
   "metadata": {},
   "outputs": [],
   "source": []
  },
  {
   "cell_type": "code",
   "execution_count": null,
   "id": "ef9dbc74",
   "metadata": {},
   "outputs": [],
   "source": []
  }
 ],
 "metadata": {
  "kernelspec": {
   "display_name": "Python 3",
   "language": "python",
   "name": "python3"
  },
  "language_info": {
   "codemirror_mode": {
    "name": "ipython",
    "version": 3
   },
   "file_extension": ".py",
   "mimetype": "text/x-python",
   "name": "python",
   "nbconvert_exporter": "python",
   "pygments_lexer": "ipython3",
   "version": "3.8.8"
  }
 },
 "nbformat": 4,
 "nbformat_minor": 5
}
