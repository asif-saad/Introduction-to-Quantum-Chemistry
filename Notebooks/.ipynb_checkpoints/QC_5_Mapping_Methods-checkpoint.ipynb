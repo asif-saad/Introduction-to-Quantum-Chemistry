{
 "cells": [
  {
   "cell_type": "markdown",
   "id": "b6c2471f",
   "metadata": {},
   "source": [
    "<a href=\"https://qworld.net\" target=\"_blank\" align=\"left\"><img src=\"../qworld/images/header.jpg\"  align=\"left\"></a>\n",
    "_prepared by Asif Saad_"
   ]
  },
  {
   "cell_type": "markdown",
   "id": "df7cf18e",
   "metadata": {},
   "source": [
    "## Quantum Computation Chemistry Mappings\n",
    "\n",
    "To utilise the power of quantum computer for solving problems in chemistry, fermions need to be converted into their equivalent form for qubits. And the transformation from fermions to qubits, is done by performing ```Quantum Computational Chemistry Mappings```.\n",
    "\n",
    "<i><b>```An encoding method is a map from the fermionic Fock space to the Hilbert space of qubits.```</b></i>\n",
    "\n",
    "However, mapping methods can be enforced upon either in the wavefunctions directly, or in the operators' behaviour which act on the wavefunction."
   ]
  },
  {
   "cell_type": "markdown",
   "id": "1d11a1f6",
   "metadata": {},
   "source": [
    "<table width=\"100%\"><tr><td style=\"color:#bbbbbb;background-color:#ffffff;font-size:11px;font-style:italic;text-align:right;\"> macros </td></tr></table>\n",
    "$ \\newcommand{\\bra}[1]{\\langle #1|} $\n",
    "$ \\newcommand{\\ket}[1]{|#1\\rangle} $\n",
    "$ \\newcommand{\\braket}[2]{\\langle #1|#2\\rangle} $\n",
    "$ \\newcommand{\\dot}[2]{ #1 \\cdot #2} $\n",
    "$ \\newcommand{\\biginner}[2]{\\left\\langle #1,#2\\right\\rangle} $\n",
    "$ \\newcommand{\\mymatrix}[2]{\\left( \\begin{array}{#1} #2\\end{array} \\right)} $\n",
    "$ \\newcommand{\\myvector}[1]{\\mymatrix{c}{#1}} $\n",
    "$ \\newcommand{\\myrvector}[1]{\\mymatrix{r}{#1}} $\n",
    "$ \\newcommand{\\mypar}[1]{\\left( #1 \\right)} $\n",
    "$ \\newcommand{\\mybigpar}[1]{ \\Big( #1 \\Big)} $\n",
    "$ \\newcommand{\\sqrttwo}{\\frac{1}{\\sqrt{2}}} $\n",
    "$ \\newcommand{\\dsqrttwo}{\\dfrac{1}{\\sqrt{2}}} $\n",
    "$ \\newcommand{\\onehalf}{\\frac{1}{2}} $\n",
    "$ \\newcommand{\\donehalf}{\\dfrac{1}{2}} $\n",
    "$ \\newcommand{\\hadamard}{ \\mymatrix{rr}{ \\sqrttwo & \\sqrttwo \\\\ \\sqrttwo & -\\sqrttwo }} $\n",
    "$ \\newcommand{\\vzero}{\\myvector{1\\\\0}} $\n",
    "$ \\newcommand{\\vone}{\\myvector{0\\\\1}} $\n",
    "$ \\newcommand{\\stateplus}{\\myvector{ \\sqrttwo \\\\  \\sqrttwo } } $\n",
    "$ \\newcommand{\\stateminus}{ \\myrvector{ \\sqrttwo \\\\ -\\sqrttwo } } $\n",
    "$ \\newcommand{\\myarray}[2]{ \\begin{array}{#1}#2\\end{array}} $\n",
    "$ \\newcommand{\\X}{ \\mymatrix{cc}{0 & 1 \\\\ 1 & 0}  } $\n",
    "$ \\newcommand{\\Z}{ \\mymatrix{rr}{1 & 0 \\\\ 0 & -1}  } $\n",
    "$ \\newcommand{\\Htwo}{ \\mymatrix{rrrr}{ \\frac{1}{2} & \\frac{1}{2} & \\frac{1}{2} & \\frac{1}{2} \\\\ \\frac{1}{2} & -\\frac{1}{2} & \\frac{1}{2} & -\\frac{1}{2} \\\\ \\frac{1}{2} & \\frac{1}{2} & -\\frac{1}{2} & -\\frac{1}{2} \\\\ \\frac{1}{2} & -\\frac{1}{2} & -\\frac{1}{2} & \\frac{1}{2} } } $\n",
    "$ \\newcommand{\\CNOT}{ \\mymatrix{cccc}{1 & 0 & 0 & 0 \\\\ 0 & 1 & 0 & 0 \\\\ 0 & 0 & 0 & 1 \\\\ 0 & 0 & 1 & 0} } $\n",
    "$ \\newcommand{\\norm}[1]{ \\left\\lVert #1 \\right\\rVert } $\n",
    "$ \\newcommand{\\pstate}[1]{ \\lceil \\mspace{-1mu} #1 \\mspace{-1.5mu} \\rfloor } $"
   ]
  },
  {
   "cell_type": "markdown",
   "id": "ca5a6768",
   "metadata": {},
   "source": [
    "### Jordan-Wigner Encoding\n",
    "\n",
    "This encoding is part of second quantised grid based encoding method.\n",
    "\n",
    "\n",
    "This encoding method utilises the annihilation and creation operators. The operators are to change the occupation status of spin orbitals and embed them into qubits. Additionally, introduce phase factors to each qubit. Thereby, the job is to transform the fermionic state into qubits.\n",
    "\n",
    "<img src=\"../pictures/jw_1.png\">\n",
    "\n",
    "\n",
    "\n",
    "where\n",
    "<img src=\"../pictures/jw_2.png\">\n",
    "\n",
    "The fermionic creation and annihilation operators look like this:\n",
    "\n",
    "<img src=\"../pictures/jw_3.png\">\n",
    "\n",
    "\n",
    "\n",
    "\n",
    "Here, the string of Z operators recovers the exchange phase factor: \n",
    "<br><br><br>\n",
    "$$ (-1)^{\\sum_{i=0}^{p-1} f_i}$$\n",
    "\n",
    "<br>\n",
    "\n",
    "Using the Jordan-Wigner encoding, the Hamiltonian for the second quantised fermion is mapped to a linear combination of products of single-qubit Pauli operators.\n",
    "\n",
    "<img src=\"../pictures/jw_4.png\">\n",
    "\n",
    "where $h_j$ is a real valued scalar coefficient, $ \\sigma_i^j $ represents one of ```I```,```X```,```Y``` or ```Z```, ```i``` denotes which qubit the operator acts on, and j denotes teh term in the Hamiltonian.\n",
    "Each term <i>$P_j$</i> in the Hamiltonian is typicaly referred to as a <b>Pauli string</b> and the number of non-identity single-qubit Pauli operators in a given string is called its <b>Pauli weight</b>.\n",
    "\n",
    "<br>\n",
    "\n",
    "The primary advantage of the JW encoding is its simplicity.However, while the occupation of a spin-orbital is stored locally, the parity is stored non-locally. The string of Z operators means that a fermionic operator mapped to qubits generally has a weight of O(M) Pauli operators, each acting on a different qubit."
   ]
  },
  {
   "cell_type": "markdown",
   "id": "6370e5b1",
   "metadata": {},
   "source": [
    "### Bravyi-Kitaev Encoding\n",
    "\n",
    "This encoding technique is part of second quantised basis set encoding methods, and acts like a bridge between Jordan-Wigner and Parity encoding methods by storing occupation numbers and parity information locally.\n",
    "\n",
    "The\n",
    "orbitals store partial sums of occupation numbers. Theoccupation numbers included in each partial sum are defined by the BK matrix, $\\beta_{pq}$.\n",
    "\n",
    "$$\\ket{f_{M-1},f_{M-2},...,f_0}\\rightarrow~\\ket{q_{M-1},q_{M-2},...,q_0}$$\n",
    "\n",
    "where $$ q_p=[\\sum_{q=0}^p \\beta_{pq}f_q]~~(mod 2)$$\n",
    "\n",
    "The content of $\\beta$ is defined recursively,\n",
    "\n",
    "$$\\beta_1=[1]$$\n",
    "\n",
    "and $$\\beta_{2^{x+1}}=\n",
    "\\begin{pmatrix}\n",
    "\\beta_{2^{x}} & \\textbf{0}\\\\\n",
    "\\textbf{A} & \\beta_{2^x}\n",
    "\\end{pmatrix}\n",
    "$$"
   ]
  },
  {
   "cell_type": "markdown",
   "id": "3f4e36bc",
   "metadata": {},
   "source": [
    "where $\\textbf{A}$ is an $(2^x *~2^x)$ matrix of zeros, with the bottom row filled with ones.For example:\n",
    "\n",
    "$$\n",
    "\\textbf{A} = \n",
    "\\begin{pmatrix}\n",
    "0 & 0 & \\cdots & 0 \\\\\n",
    "0 & 0 & \\cdots & 0 \\\\\n",
    "\\vdots  & \\vdots  & \\ddots & \\vdots  \\\\\n",
    "1 & 1 & \\cdots & 1 \n",
    "\\end{pmatrix}\n",
    "$$\n",
    "\n",
    "and $\\textbf{0}$  is a $(2^x *~2^x)$ matrix of zeros.\n",
    "\n",
    "let's take an example, M=4 therefore, $\\ket{f_3,f_2,f_1,f_0}\\rightarrow~\\ket{q_3,q_2,q_1,q_0}$\n",
    "\n",
    "as M=4, and M=$2^{x+1}$, the value of x=1, and the matrix $\\beta_{pq}$ is\n",
    "\n",
    "$$\n",
    "\\beta_4=\n",
    "\\begin{pmatrix}\n",
    "1 & 0 & 0 & 0 \\\\\n",
    "1 & 1 & 0 & 0 \\\\\n",
    "0 & 0 & 1 & 0 \\\\\n",
    "1 & 1 & 1 & 1\n",
    "\\end{pmatrix}\n",
    "$$\n",
    "\n",
    "<i>```However, when the number of qubits is not a power of two, the BK encoding is carried out by creating the BK matrix for the next largest power of two, and only using the first M rows.```</i>\n",
    "\n",
    "Applying the BK mapping to a fermionic operator results in a qubit operator with a Pauli weight of $O(log2M)$.\n",
    "\n",
    "The following table represents the mappings from fermionic state and its fermionic operators to the corresponding qubit state, and qubit operators.\n",
    "\n",
    "<img src=\"../pictures/encoding_table.png\">\n",
    "\n",
    "\n",
    "\n",
    "\n",
    "#### Comparison between BK and JW encoding methods\n",
    "The qubit operators for the BK encoding are considerably more complicated than those in the JW encoding.However, BK transform is at least as efficient, in general,as the JW transform when finding the ground states of the molecular systems and in many cases, using the BK transform made the calculations considerably efficient."
   ]
  },
  {
   "cell_type": "markdown",
   "id": "e120b20e",
   "metadata": {},
   "source": [
    "### Implementation of Second Quantised Encoding Methods\n",
    "\n"
   ]
  },
  {
   "cell_type": "markdown",
   "id": "2f46e515",
   "metadata": {},
   "source": [
    "Chemistry problems are of particular interest as they are a natural simulation target for quantum computing, and to utilise the power of quantum computer, `Qiskit Nature` package is developed.<b>Qiskit Nature</b> is the application module dealing with problems in natural sciences. Its goal is to provide end-user oriented modules which enable the fast solution of problems in chemistry, physics and biology.\n",
    "\n",
    "\n",
    "Generally an application can be split into <b>Problem</b> and <b>Solvers</b>, which are then combined to take out the desired <b>Result</b>.\n",
    "<img src=\"../pictures/problem_solver_result.png\">\n",
    "\n",
    "\n",
    "the pseudo code would look more like this:`result = solver.solve(problem)`\n",
    "\n",
    "\n",
    "And the most interesting problem is electronic structure problem of a molecule in quantum chemistry which takes `Driver` as an input to the problem and the `Driver` holds a significant number of information about the molecule's physical and electronic properties.\n",
    "\n",
    "\n",
    "<b>Drivers</b> in quantum chemistry provides capabilities to facilitate interoperability across multiple quantum chemistry software packages via Application Programming Interface(API).\n",
    "\n",
    "\n",
    "As an example, we will be using generic `Molecule` based interface, and tell the interface to use `pySCF` as the classical computational backend.(`PYSCF`, `PSI4`, `PYQUANTE`, `GAUSSIAN` are available in qiskit nature package up until now).\n",
    "\n"
   ]
  },
  {
   "cell_type": "code",
   "execution_count": 3,
   "id": "2297c028",
   "metadata": {},
   "outputs": [],
   "source": [
    "from qiskit_nature.drivers import Molecule\n",
    "\n",
    "# PSPCz molecule\n",
    "geometry = [['C', [  -0.2316640,    1.1348450,    0.6956120]],\n",
    "            ['C', [  -0.8886300,    0.3253780,   -0.2344140]],\n",
    "            ['C', [  -0.1842470,   -0.1935670,   -1.3239330]],\n",
    "            ['C', [   1.1662930,    0.0801450,   -1.4737160]],\n",
    "            ['C', [   1.8089230,    0.8832220,   -0.5383540]],\n",
    "            ['C', [   1.1155860,    1.4218050,    0.5392780]],\n",
    "            ['S', [   3.5450920,    1.2449890,   -0.7349240]],\n",
    "            ['O', [   3.8606900,    1.0881590,   -2.1541690]],\n",
    "            ['C', [   4.3889120,   -0.0620730,    0.1436780]],\n",
    "            ['O', [   3.8088290,    2.4916780,   -0.0174650]],\n",
    "            ['C', [   4.6830900,    0.1064460,    1.4918230]],\n",
    "            ['C', [   5.3364470,   -0.9144080,    2.1705280]],\n",
    "            ['C', [   5.6895490,   -2.0818670,    1.5007820]],\n",
    "            ['C', [   5.4000540,   -2.2323130,    0.1481350]],\n",
    "            ['C', [   4.7467230,   -1.2180160,   -0.5404770]],\n",
    "            ['N', [  -2.2589180,    0.0399120,   -0.0793330]],\n",
    "            ['C', [  -2.8394600,   -1.2343990,   -0.1494160]],\n",
    "            ['C', [  -4.2635450,   -1.0769890,    0.0660760]],\n",
    "            ['C', [  -4.5212550,    0.2638010,    0.2662190]],\n",
    "            ['C', [  -3.2669630,    0.9823890,    0.1722720]],\n",
    "            ['C', [  -2.2678900,   -2.4598950,   -0.3287380]],\n",
    "            ['C', [  -3.1299420,   -3.6058560,   -0.3236210]],\n",
    "            ['C', [  -4.5179520,   -3.4797390,   -0.1395160]],\n",
    "            ['C', [  -5.1056310,   -2.2512990,    0.0536940]],\n",
    "            ['C', [  -5.7352450,    1.0074800,    0.5140960]],\n",
    "            ['C', [  -5.6563790,    2.3761270,    0.6274610]],\n",
    "            ['C', [  -4.4287740,    3.0501460,    0.5083650]],\n",
    "            ['C', [  -3.2040560,    2.3409470,    0.2746950]],\n",
    "            ['H', [  -0.7813570,    1.5286610,    1.5426490]],\n",
    "            ['H', [  -0.7079140,   -0.7911480,   -2.0611600]],\n",
    "            ['H', [   1.7161320,   -0.2933710,   -2.3302930]],\n",
    "            ['H', [   1.6308220,    2.0660550,    1.2427990]],\n",
    "            ['H', [   4.4214900,    1.0345500,    1.9875450]],\n",
    "            ['H', [   5.5773000,   -0.7951290,    3.2218590]],\n",
    "            ['H', [   6.2017810,   -2.8762260,    2.0345740]],\n",
    "            ['H', [   5.6906680,   -3.1381740,   -0.3739110]],\n",
    "            ['H', [   4.5337010,   -1.3031330,   -1.6001680]],\n",
    "            ['H', [  -1.1998460,   -2.5827750,   -0.4596910]],\n",
    "            ['H', [  -2.6937370,   -4.5881470,   -0.4657540]],\n",
    "            ['H', [  -5.1332290,   -4.3740010,   -0.1501080]],\n",
    "            ['H', [  -6.1752900,   -2.1516170,    0.1987120]],\n",
    "            ['H', [  -6.6812260,    0.4853900,    0.6017680]],\n",
    "            ['H', [  -6.5574610,    2.9529350,    0.8109620]],\n",
    "            ['H', [  -4.3980410,    4.1305040,    0.5929440]],\n",
    "            ['H', [  -2.2726630,    2.8838620,    0.1712760]]]\n",
    "\n",
    "molecule=Molecule(geometry=geometry,\n",
    "                 multiplicity=1, #multiplicity=2*spin +1\n",
    "                 charge=0)\n"
   ]
  },
  {
   "cell_type": "code",
   "execution_count": 5,
   "id": "bd66f9cb",
   "metadata": {},
   "outputs": [],
   "source": [
    "from qiskit_nature.drivers.second_quantization import ElectronicStructureMoleculeDriver, ElectronicStructureDriverType\n",
    "\n",
    "\n",
    "driver = ElectronicStructureMoleculeDriver(molecule=molecule, \n",
    "                                           basis='sto3g', \n",
    "                                           driver_type=ElectronicStructureDriverType.PYSCF)"
   ]
  },
  {
   "cell_type": "markdown",
   "id": "bd29b47d",
   "metadata": {},
   "source": [
    "The created driver can run manually by running `driver.run()`, however, it is recommended to wrap the driver with `ElectronicStructureProblem` (because further properties can be showed as output with ElectronicStructureProble) which can be solved later."
   ]
  },
  {
   "cell_type": "code",
   "execution_count": 6,
   "id": "32e93647",
   "metadata": {},
   "outputs": [],
   "source": [
    "from qiskit_nature.problems.second_quantization.electronic import ElectronicStructureProblem\n",
    "\n",
    "problem = ElectronicStructureProblem(driver)"
   ]
  },
  {
   "cell_type": "markdown",
   "id": "ca30ba4c",
   "metadata": {},
   "source": [
    "let's run the `second_q_ops()` function of ElectronicStructureProblem to run the driver internally and inspect the Hamiltonian of the system regarding the molecule."
   ]
  },
  {
   "cell_type": "code",
   "execution_count": 7,
   "id": "afa670a6",
   "metadata": {},
   "outputs": [
    {
     "ename": "MissingOptionalLibraryError",
     "evalue": "\"The 'PySCF' library is required to use 'PySCFDriver'. You can install it with 'pip install 'qiskit-nature[pyscf]''.  See https://pyscf.org/install.html.\"",
     "output_type": "error",
     "traceback": [
      "\u001b[1;31m---------------------------------------------------------------------------\u001b[0m",
      "\u001b[1;31mMissingOptionalLibraryError\u001b[0m               Traceback (most recent call last)",
      "\u001b[1;32m<ipython-input-7-7c4b2f6a617b>\u001b[0m in \u001b[0;36m<module>\u001b[1;34m\u001b[0m\n\u001b[1;32m----> 1\u001b[1;33m \u001b[0msecond_q_ops\u001b[0m \u001b[1;33m=\u001b[0m \u001b[0mproblem\u001b[0m\u001b[1;33m.\u001b[0m\u001b[0msecond_q_ops\u001b[0m\u001b[1;33m(\u001b[0m\u001b[1;33m)\u001b[0m\u001b[1;33m\u001b[0m\u001b[1;33m\u001b[0m\u001b[0m\n\u001b[0m",
      "\u001b[1;32mF:\\source\\anaconda3\\lib\\site-packages\\qiskit_nature\\problems\\second_quantization\\electronic\\electronic_structure_problem.py\u001b[0m in \u001b[0;36msecond_q_ops\u001b[1;34m(self)\u001b[0m\n\u001b[0;32m     77\u001b[0m             \u001b[0mA\u001b[0m\u001b[0;31m \u001b[0m\u001b[0;31m`\u001b[0m\u001b[0mlist\u001b[0m\u001b[0;31m`\u001b[0m \u001b[1;32mor\u001b[0m\u001b[0;31m \u001b[0m\u001b[0;31m`\u001b[0m\u001b[0mdict\u001b[0m\u001b[0;31m`\u001b[0m \u001b[0mof\u001b[0m\u001b[0;31m \u001b[0m\u001b[0;31m`\u001b[0m\u001b[0mSecondQuantizedOp\u001b[0m\u001b[0;31m`\u001b[0m \u001b[0mobjects\u001b[0m\u001b[1;33m.\u001b[0m\u001b[1;33m\u001b[0m\u001b[1;33m\u001b[0m\u001b[0m\n\u001b[0;32m     78\u001b[0m         \"\"\"\n\u001b[1;32m---> 79\u001b[1;33m         \u001b[0mdriver_result\u001b[0m \u001b[1;33m=\u001b[0m \u001b[0mself\u001b[0m\u001b[1;33m.\u001b[0m\u001b[0mdriver\u001b[0m\u001b[1;33m.\u001b[0m\u001b[0mrun\u001b[0m\u001b[1;33m(\u001b[0m\u001b[1;33m)\u001b[0m\u001b[1;33m\u001b[0m\u001b[1;33m\u001b[0m\u001b[0m\n\u001b[0m\u001b[0;32m     80\u001b[0m \u001b[1;33m\u001b[0m\u001b[0m\n\u001b[0;32m     81\u001b[0m         \u001b[1;32mif\u001b[0m \u001b[0mself\u001b[0m\u001b[1;33m.\u001b[0m\u001b[0m_legacy_driver\u001b[0m\u001b[1;33m:\u001b[0m\u001b[1;33m\u001b[0m\u001b[1;33m\u001b[0m\u001b[0m\n",
      "\u001b[1;32mF:\\source\\anaconda3\\lib\\site-packages\\qiskit_nature\\drivers\\second_quantization\\electronic_structure_molecule_driver.py\u001b[0m in \u001b[0;36mrun\u001b[1;34m(self)\u001b[0m\n\u001b[0;32m    170\u001b[0m \u001b[1;33m\u001b[0m\u001b[0m\n\u001b[0;32m    171\u001b[0m     \u001b[1;32mdef\u001b[0m \u001b[0mrun\u001b[0m\u001b[1;33m(\u001b[0m\u001b[0mself\u001b[0m\u001b[1;33m)\u001b[0m \u001b[1;33m->\u001b[0m \u001b[0mGroupedElectronicProperty\u001b[0m\u001b[1;33m:\u001b[0m\u001b[1;33m\u001b[0m\u001b[1;33m\u001b[0m\u001b[0m\n\u001b[1;32m--> 172\u001b[1;33m         driver_class = ElectronicStructureDriverType.driver_class_from_type(\n\u001b[0m\u001b[0;32m    173\u001b[0m             \u001b[0mself\u001b[0m\u001b[1;33m.\u001b[0m\u001b[0mdriver_type\u001b[0m\u001b[1;33m,\u001b[0m \u001b[0mself\u001b[0m\u001b[1;33m.\u001b[0m\u001b[0mmethod\u001b[0m\u001b[1;33m\u001b[0m\u001b[1;33m\u001b[0m\u001b[0m\n\u001b[0;32m    174\u001b[0m         )\n",
      "\u001b[1;32mF:\\source\\anaconda3\\lib\\site-packages\\qiskit_nature\\drivers\\second_quantization\\electronic_structure_molecule_driver.py\u001b[0m in \u001b[0;36mdriver_class_from_type\u001b[1;34m(driver_type, method)\u001b[0m\n\u001b[0;32m     82\u001b[0m                     \u001b[0mlibname\u001b[0m\u001b[1;33m=\u001b[0m\u001b[0mdriver_type\u001b[0m\u001b[1;33m,\u001b[0m \u001b[0mname\u001b[0m\u001b[1;33m=\u001b[0m\u001b[1;34m\"ElectronicStructureDriverType\"\u001b[0m\u001b[1;33m\u001b[0m\u001b[1;33m\u001b[0m\u001b[0m\n\u001b[0;32m     83\u001b[0m                 )\n\u001b[1;32m---> 84\u001b[1;33m             \u001b[0mdriver_class\u001b[0m\u001b[1;33m.\u001b[0m\u001b[0mcheck_installed\u001b[0m\u001b[1;33m(\u001b[0m\u001b[1;33m)\u001b[0m  \u001b[1;31m# type: ignore\u001b[0m\u001b[1;33m\u001b[0m\u001b[1;33m\u001b[0m\u001b[0m\n\u001b[0m\u001b[0;32m     85\u001b[0m             \u001b[0mdriver_class\u001b[0m\u001b[1;33m.\u001b[0m\u001b[0mcheck_method_supported\u001b[0m\u001b[1;33m(\u001b[0m\u001b[0mmethod\u001b[0m\u001b[1;33m)\u001b[0m  \u001b[1;31m# type: ignore\u001b[0m\u001b[1;33m\u001b[0m\u001b[1;33m\u001b[0m\u001b[0m\n\u001b[0;32m     86\u001b[0m \u001b[1;33m\u001b[0m\u001b[0m\n",
      "\u001b[1;32mF:\\source\\anaconda3\\lib\\site-packages\\qiskit_nature\\drivers\\second_quantization\\pyscfd\\pyscfdriver.py\u001b[0m in \u001b[0;36mcheck_installed\u001b[1;34m()\u001b[0m\n\u001b[0;32m    380\u001b[0m             ) from ex\n\u001b[0;32m    381\u001b[0m \u001b[1;33m\u001b[0m\u001b[0m\n\u001b[1;32m--> 382\u001b[1;33m         raise MissingOptionalLibraryError(\n\u001b[0m\u001b[0;32m    383\u001b[0m             \u001b[0mlibname\u001b[0m\u001b[1;33m=\u001b[0m\u001b[1;34m\"PySCF\"\u001b[0m\u001b[1;33m,\u001b[0m\u001b[1;33m\u001b[0m\u001b[1;33m\u001b[0m\u001b[0m\n\u001b[0;32m    384\u001b[0m             \u001b[0mname\u001b[0m\u001b[1;33m=\u001b[0m\u001b[1;34m\"PySCFDriver\"\u001b[0m\u001b[1;33m,\u001b[0m\u001b[1;33m\u001b[0m\u001b[1;33m\u001b[0m\u001b[0m\n",
      "\u001b[1;31mMissingOptionalLibraryError\u001b[0m: \"The 'PySCF' library is required to use 'PySCFDriver'. You can install it with 'pip install 'qiskit-nature[pyscf]''.  See https://pyscf.org/install.html.\""
     ]
    }
   ],
   "source": [
    "second_q_ops = problem.second_q_ops()"
   ]
  },
  {
   "cell_type": "code",
   "execution_count": null,
   "id": "191c337b",
   "metadata": {},
   "outputs": [],
   "source": []
  },
  {
   "cell_type": "code",
   "execution_count": null,
   "id": "0f0b8d31",
   "metadata": {},
   "outputs": [],
   "source": []
  }
 ],
 "metadata": {
  "kernelspec": {
   "display_name": "Python 3",
   "language": "python",
   "name": "python3"
  },
  "language_info": {
   "codemirror_mode": {
    "name": "ipython",
    "version": 3
   },
   "file_extension": ".py",
   "mimetype": "text/x-python",
   "name": "python",
   "nbconvert_exporter": "python",
   "pygments_lexer": "ipython3",
   "version": "3.8.8"
  }
 },
 "nbformat": 4,
 "nbformat_minor": 5
}
