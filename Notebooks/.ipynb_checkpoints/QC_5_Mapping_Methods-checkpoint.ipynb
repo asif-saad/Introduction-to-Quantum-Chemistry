{
 "cells": [
  {
   "cell_type": "markdown",
   "id": "b6c2471f",
   "metadata": {},
   "source": [
    "<a href=\"https://qworld.net\" target=\"_blank\" align=\"left\"><img src=\"../qworld/images/header.jpg\"  align=\"left\"></a>\n",
    "_prepared by Asif Saad_"
   ]
  },
  {
   "cell_type": "markdown",
   "id": "ca5a6768",
   "metadata": {},
   "source": [
    "### Jordan-Wigner Encoding\n",
    "\n",
    "This encoding is part of second quantised grid based encoding method.\n",
    "\n",
    "\n",
    "This encoding method utilises the annihilation and creation operators. The operators are to change the occupation status of spin orbitals and embed them into qubits. Additionally, introduce phase factors to each qubit. Thereby, the job is to transform the fermionic state into qubits.\n",
    "\n",
    "<img src=\"../pictures/jw_1.png\">\n",
    "\n",
    "\n",
    "\n",
    "where\n",
    "<img src=\"../pictures/jw_2.png\">\n",
    "\n",
    "The fermionic creation and annihilation operators look like this:\n",
    "\n",
    "<img src=\"../pictures/jw_3.png\">\n",
    "\n",
    "\n",
    "\n",
    "\n",
    "Here, the string of Z operators recovers the exchange phase factor: \n",
    "$$ (-1)^{\\sum_{i=0}^{p-1} f_i}$$\n",
    "\n",
    "Using the Jordan-Wigner encoding, the Hamiltonian for the second quantised fermion is mapped to a linear combination of products of single-qubit Pauli operators.\n",
    "\n",
    "<img src=\"../pictures/jw_4.png\">\n",
    "\n",
    "where $h_j$ is a real valued scalar coefficient, $ \\sigma_i^j $ represents one of ```I```,```X```,```Y``` or ```Z```, ```i``` denotes which qubit the operator acts on, and j denotes teh term in the Hamiltonian.\n",
    "Each term <i>$P_j$</i> in the Hamiltonian is typicaly referred to as a <b>Pauli string</b> and the number of non-identity single-qubit Pauli operators in a given string is called its <b>Pauli weight</b>.\n",
    "\n",
    "<br>\n",
    "\n",
    "The primary advantage of the JW encoding is its simplicity.However, while the occupation of a spin-orbital is stored locally, the parity is stored non-locally. The string of Z operators means that a fermionic operator mapped to qubits generally has a weight of O(M) Pauli operators, each acting on a different qubit."
   ]
  },
  {
   "cell_type": "markdown",
   "id": "90386d9b",
   "metadata": {},
   "source": [
    "### Bravyi-Kitaev Encoding\n",
    "\n",
    "This encoding technique is part of second quantised basis set encoding methods, and acts like a bridge between Jordan-Wigner and Parity encoding methods by storing occupation numbers and parity information locally."
   ]
  }
 ],
 "metadata": {
  "kernelspec": {
   "display_name": "Python 3",
   "language": "python",
   "name": "python3"
  },
  "language_info": {
   "codemirror_mode": {
    "name": "ipython",
    "version": 3
   },
   "file_extension": ".py",
   "mimetype": "text/x-python",
   "name": "python",
   "nbconvert_exporter": "python",
   "pygments_lexer": "ipython3",
   "version": "3.8.8"
  }
 },
 "nbformat": 4,
 "nbformat_minor": 5
}
