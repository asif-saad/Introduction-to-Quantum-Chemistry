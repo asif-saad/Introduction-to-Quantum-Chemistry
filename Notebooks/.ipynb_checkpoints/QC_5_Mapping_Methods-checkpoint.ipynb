{
 "cells": [
  {
   "cell_type": "markdown",
   "id": "b6c2471f",
   "metadata": {},
   "source": [
    "<a href=\"https://qworld.net\" target=\"_blank\" align=\"left\"><img src=\"../qworld/images/header.jpg\"  align=\"left\"></a>\n",
    "_prepared by Asif Saad_"
   ]
  },
  {
   "cell_type": "markdown",
   "id": "681f5ade",
   "metadata": {},
   "source": [
    "<table width=\"100%\"><tr><td style=\"color:#bbbbbb;background-color:#ffffff;font-size:11px;font-style:italic;text-align:right;\"> macros </td></tr></table>\n",
    "$ \\newcommand{\\bra}[1]{\\langle #1|} $\n",
    "$ \\newcommand{\\ket}[1]{|#1\\rangle} $\n",
    "$ \\newcommand{\\braket}[2]{\\langle #1|#2\\rangle} $\n",
    "$ \\newcommand{\\dot}[2]{ #1 \\cdot #2} $\n",
    "$ \\newcommand{\\biginner}[2]{\\left\\langle #1,#2\\right\\rangle} $\n",
    "$ \\newcommand{\\mymatrix}[2]{\\left( \\begin{array}{#1} #2\\end{array} \\right)} $\n",
    "$ \\newcommand{\\myvector}[1]{\\mymatrix{c}{#1}} $\n",
    "$ \\newcommand{\\myrvector}[1]{\\mymatrix{r}{#1}} $\n",
    "$ \\newcommand{\\mypar}[1]{\\left( #1 \\right)} $\n",
    "$ \\newcommand{\\mybigpar}[1]{ \\Big( #1 \\Big)} $\n",
    "$ \\newcommand{\\sqrttwo}{\\frac{1}{\\sqrt{2}}} $\n",
    "$ \\newcommand{\\dsqrttwo}{\\dfrac{1}{\\sqrt{2}}} $\n",
    "$ \\newcommand{\\onehalf}{\\frac{1}{2}} $\n",
    "$ \\newcommand{\\donehalf}{\\dfrac{1}{2}} $\n",
    "$ \\newcommand{\\hadamard}{ \\mymatrix{rr}{ \\sqrttwo & \\sqrttwo \\\\ \\sqrttwo & -\\sqrttwo }} $\n",
    "$ \\newcommand{\\vzero}{\\myvector{1\\\\0}} $\n",
    "$ \\newcommand{\\vone}{\\myvector{0\\\\1}} $\n",
    "$ \\newcommand{\\stateplus}{\\myvector{ \\sqrttwo \\\\  \\sqrttwo } } $\n",
    "$ \\newcommand{\\stateminus}{ \\myrvector{ \\sqrttwo \\\\ -\\sqrttwo } } $\n",
    "$ \\newcommand{\\myarray}[2]{ \\begin{array}{#1}#2\\end{array}} $\n",
    "$ \\newcommand{\\X}{ \\mymatrix{cc}{0 & 1 \\\\ 1 & 0}  } $\n",
    "$ \\newcommand{\\Z}{ \\mymatrix{rr}{1 & 0 \\\\ 0 & -1}  } $\n",
    "$ \\newcommand{\\Htwo}{ \\mymatrix{rrrr}{ \\frac{1}{2} & \\frac{1}{2} & \\frac{1}{2} & \\frac{1}{2} \\\\ \\frac{1}{2} & -\\frac{1}{2} & \\frac{1}{2} & -\\frac{1}{2} \\\\ \\frac{1}{2} & \\frac{1}{2} & -\\frac{1}{2} & -\\frac{1}{2} \\\\ \\frac{1}{2} & -\\frac{1}{2} & -\\frac{1}{2} & \\frac{1}{2} } } $\n",
    "$ \\newcommand{\\CNOT}{ \\mymatrix{cccc}{1 & 0 & 0 & 0 \\\\ 0 & 1 & 0 & 0 \\\\ 0 & 0 & 0 & 1 \\\\ 0 & 0 & 1 & 0} } $\n",
    "$ \\newcommand{\\norm}[1]{ \\left\\lVert #1 \\right\\rVert } $\n",
    "$ \\newcommand{\\pstate}[1]{ \\lceil \\mspace{-1mu} #1 \\mspace{-1.5mu} \\rfloor } $"
   ]
  },
  {
   "cell_type": "markdown",
   "id": "df7cf18e",
   "metadata": {},
   "source": [
    "## Quantum Computation Chemistry Mappings\n",
    "\n",
    "To utilise the power of quantum computer for solving problems in chemistry, fermions need to be converted into their equivalent form for qubits. And the transformation from fermions to qubits, is done by performing ```Quantum Computational Chemistry Mappings```.\n",
    "\n",
    "<i><b>An encoding method is a map from the fermionic Fock space to the Hilbert space of qubits.</b></i>\n",
    "\n",
    "However, mapping methods can be enforced upon either in the wavefunctions directly, or in the operators' behaviour which act on the wavefunction.\n",
    "\n",
    "If <b>antisymmetry</b> is applied on wavefunction, then the mapping is called `first quantised mapping method`, and if antisymmetry is applied on the behaviour of the operators which will then be acting on the wavefunction, the mapping is called `second quantised mapping method`."
   ]
  },
  {
   "cell_type": "markdown",
   "id": "c5333a3a",
   "metadata": {},
   "source": [
    "### First Quantised Encoding Methods\n",
    "\n",
    "First Quantised Encoding method utilises two methods,single-particle basis methods and grid based methods.\n",
    "\n",
    "#### Grid based methods\n",
    "\n",
    "Wavefunction with N-particle system can be represented on a discretised grid of P points per axis,\n",
    "\n",
    "$$ \\ket\\psi =\\sum_{x_1,...,x_N} \\psi(x_1,...,x_N) \\forall (\\ket{x_1,...,x_N}) ...(1)$$\n",
    "\n",
    "\n",
    "where $\\ket{x_i}=\\ket{r_i}\\ket{\\sigma_i}$ is a spatial and spin-coordinate, $\\ket{r_i}=\\ket{x_i}\\ket{y_i}\\ket{z_i}, \\forall i \\in \\{1,2,...,N\\},$ $x_i,y_i,z_i \\in \\{0,1,...P-1\\}$ and $\\sigma \\in \\{0,1\\}$ where $ P=2^m$\n",
    "\n",
    "\n",
    "where `m` is an arbitary integer determining the precision of the simulation.\n",
    "\n",
    "\n",
    "\n",
    "Grid method does not require the usuage of <b>Born-Oppenheimer approximation</b>, thereby this method can work on undergoing reactions as it treats nuclei and electrons equally in terms of physical properties.\n",
    "\n",
    "\n",
    "However, grid based approach is unsuitable for near-term quantum computers(has few qubits) as the method requires a significant number of qubits.\n",
    "\n",
    "#### Basis set methods\n",
    "\n",
    "\n",
    "\n",
    "This method simulates quantum systems in the first quantisation using a discrete basis.if M single-particle basis functions are considered, they can be enumerated from 0 to M-1. and the spin orbitals can be stored using  <i>$ \\lceil \\log_2 (M) \\rceil$</i> qubits, where spin orbital 0= $ \\ket{0...0} $ and spin orbital 1 $\\ket{0...1} $  and so on.Another N registers would be required to store state of all electrons in the system(one register for each electron), eventually, $ N \\lceil \\log_2 (M) \\rceil$ would require to store the entire wavefunction.\n",
    "\n",
    "\n",
    "\n",
    "\n",
    "However, the wavefunction has to be antisymmetrised, and that can be accomplished using $\\mathcal{O}(N^2 \\log_2^2(M))$ gates and $\\mathcal{O}(N(\\log_2(M))$ ancilla qubits. Yet this circuit can be improved with $ \\mathcal{O}(N \\log_2^c (N) \\log_2(M)) $ gates, with a depth of $ \\mathcal{O}(\\log_2^c(N) \\log_2 \\log_2(M))$, where $c\\ge1$ and depends on the choice of sorting network used, and $\\mathcal{O}(N\\log_2(N))$ anciall qubits.\n",
    "\n",
    "As soon as Hamiltonian is obtained from this encoding method, it can be used to time evolve the wavefunction and this evolution with respect to time is crucial for determining the ground state of chemical systems.\n",
    "\n",
    "\n",
    "\n",
    "### Second quantised basis set encoding methods\n",
    "\n",
    "\n",
    "To simulate chemical systems in the second quantised representation on a quantum computer, operators, acting on indistinguishable fermions, have to mapped to operators, acting on distinguishable qubits. Multiple methods have been discovered in order to fully take advantage of qubit system according to the chemical problems. And each methods has its pros and cons in their implementations.\n",
    "\n",
    "\n",
    "However, still now second quantised basis methods have been greatly implemented to solve chemical problem and have more practical usuage than the first quantised encoding methods.\n",
    "\n"
   ]
  },
  {
   "cell_type": "markdown",
   "id": "ca5a6768",
   "metadata": {},
   "source": [
    "#### Jordan-Wigner Encoding\n",
    "\n",
    "This encoding is part of second quantised grid based encoding method.\n",
    "\n",
    "\n",
    "This encoding method utilises the annihilation and creation operators. The operators are to change the occupation status of spin orbitals and embed them into qubits. Additionally, introduce phase factors to each qubit. Thereby, the job is to transform the fermionic state into qubits.\n",
    "\n",
    "<img src=\"../pictures/jw_1.png\">\n",
    "\n",
    "\n",
    "\n",
    "where\n",
    "<img src=\"../pictures/jw_2.png\">\n",
    "\n",
    "The fermionic creation and annihilation operators look like this:\n",
    "\n",
    "<img src=\"../pictures/jw_3.png\">\n",
    "\n",
    "\n",
    "\n",
    "\n",
    "Here, the string of Z operators recovers the exchange phase factor: \n",
    "<br><br><br>\n",
    "$$ (-1)^{\\sum_{i=0}^{p-1} f_i}$$\n",
    "\n",
    "<br>\n",
    "\n",
    "Using the Jordan-Wigner encoding, the Hamiltonian for the second quantised fermion is mapped to a linear combination of products of single-qubit Pauli operators.\n",
    "\n",
    "<img src=\"../pictures/jw_4.png\">\n",
    "\n",
    "where $h_j$ is a real valued scalar coefficient, $ \\sigma_i^j $ represents one of ```I```,```X```,```Y``` or ```Z```, ```i``` denotes which qubit the operator acts on, and j denotes teh term in the Hamiltonian.\n",
    "Each term <i>$P_j$</i> in the Hamiltonian is typicaly referred to as a <b>Pauli string</b> and the number of non-identity single-qubit Pauli operators in a given string is called its <b>Pauli weight</b>.\n",
    "\n",
    "<br>\n",
    "\n",
    "The primary advantage of the JW encoding is its simplicity.However, while the occupation of a spin-orbital is stored locally, the parity is stored non-locally. The string of Z operators means that a fermionic operator mapped to qubits generally has a weight of O(M) Pauli operators, each acting on a different qubit."
   ]
  },
  {
   "cell_type": "markdown",
   "id": "6370e5b1",
   "metadata": {},
   "source": [
    "#### Bravyi-Kitaev Encoding\n",
    "\n",
    "This encoding technique is part of second quantised basis set encoding methods, and acts like a bridge between Jordan-Wigner and Parity encoding methods by storing occupation numbers and parity information locally.\n",
    "\n",
    "The\n",
    "orbitals store partial sums of occupation numbers. Theoccupation numbers included in each partial sum are defined by the BK matrix, $\\beta_{pq}$.\n",
    "\n",
    "$$\\ket{f_{M-1},f_{M-2},...,f_0}\\rightarrow~\\ket{q_{M-1},q_{M-2},...,q_0}$$\n",
    "\n",
    "where $$ q_p=[\\sum_{q=0}^p \\beta_{pq}f_q]~~(mod 2)$$\n",
    "\n",
    "The content of $\\beta$ is defined recursively,\n",
    "\n",
    "$$\\beta_1=[1]$$\n",
    "\n",
    "and $$\\beta_{2^{x+1}}=\n",
    "\\begin{pmatrix}\n",
    "\\beta_{2^{x}} & \\textbf{0}\\\\\n",
    "\\textbf{A} & \\beta_{2^x}\n",
    "\\end{pmatrix}\n",
    "$$"
   ]
  },
  {
   "cell_type": "markdown",
   "id": "3f4e36bc",
   "metadata": {},
   "source": [
    "where $\\textbf{A}$ is an $(2^x *~2^x)$ matrix of zeros, with the bottom row filled with ones.For example:\n",
    "\n",
    "$$\n",
    "\\textbf{A} = \n",
    "\\begin{pmatrix}\n",
    "0 & 0 & \\cdots & 0 \\\\\n",
    "0 & 0 & \\cdots & 0 \\\\\n",
    "\\vdots  & \\vdots  & \\ddots & \\vdots  \\\\\n",
    "1 & 1 & \\cdots & 1 \n",
    "\\end{pmatrix}\n",
    "$$\n",
    "\n",
    "and $\\textbf{0}$  is a $(2^x *~2^x)$ matrix of zeros.\n",
    "\n",
    "let's take an example, M=4 therefore, $\\ket{f_3,f_2,f_1,f_0}\\rightarrow~\\ket{q_3,q_2,q_1,q_0}$\n",
    "\n",
    "as M=4, and M=$2^{x+1}$, the value of x=1, and the matrix $\\beta_{pq}$ is\n",
    "\n",
    "$$\n",
    "\\beta_4=\n",
    "\\begin{pmatrix}\n",
    "1 & 0 & 0 & 0 \\\\\n",
    "1 & 1 & 0 & 0 \\\\\n",
    "0 & 0 & 1 & 0 \\\\\n",
    "1 & 1 & 1 & 1\n",
    "\\end{pmatrix}\n",
    "$$\n",
    "\n",
    "<i>```However, when the number of qubits is not a power of two, the BK encoding is carried out by creating the BK matrix for the next largest power of two, and only using the first M rows.```</i>\n",
    "\n",
    "Applying the BK mapping to a fermionic operator results in a qubit operator with a Pauli weight of $O(log2M)$.\n",
    "\n",
    "The following table represents the mappings from fermionic state and its fermionic operators to the corresponding qubit state, and qubit operators.\n",
    "\n",
    "<img src=\"../pictures/encoding_table.png\">\n",
    "\n",
    "\n",
    "\n",
    "\n",
    "#### Comparison between BK and JW encoding methods\n",
    "The qubit operators for the BK encoding are considerably more complicated than those in the JW encoding.However, BK transform is at least as efficient, in general,as the JW transform when finding the ground states of the molecular systems and in many cases, using the BK transform made the calculations considerably efficient."
   ]
  },
  {
   "cell_type": "markdown",
   "id": "dde2bc85",
   "metadata": {},
   "source": [
    "<b>`IT IS RECOMMENDED NOT TO RUN THE FOLLOWING CODES IN ANY WINDOWS MACHINE, AS SOME LIBRARIES HAVE CONFLICTING FEATURES WITH WINDOWS OPERATING SYSTEM,(LINUX AND MACOS ARE FINE WITH THOSE TROUBLESOME LIBRARIES). HOWEVER, THE CODES CAN ALSO RUN PROPERLY IN THE` [IBM QUANTUM LAB](https://quantum-computing.ibm.com/lab).</b>"
   ]
  },
  {
   "cell_type": "markdown",
   "id": "2f46e515",
   "metadata": {},
   "source": [
    "### Implementation of Second Quantised Encoding Methods\n",
    "\n",
    "\n",
    "\n",
    "Chemistry problems are of particular interest as they are a natural simulation target for quantum computing, and to utilise the power of quantum computer, `Qiskit Nature` package is developed.<b>Qiskit Nature</b> is the application module dealing with problems in natural sciences. Its goal is to provide end-user oriented modules which enable the fast solution of problems in chemistry, physics and biology.\n",
    "\n",
    "\n",
    "Generally an application can be split into <b>Problem</b> and <b>Solvers</b>, which are then combined to take out the desired <b>Result</b>.\n",
    "<img src=\"../pictures/problem_solver_result.png\">\n",
    "\n",
    "\n",
    "the pseudo code would look more like this:`result = solver.solve(problem)`\n",
    "\n",
    "\n",
    "And the most interesting problem is electronic structure problem of a molecule in quantum chemistry which takes `Driver` as an input to the problem and the `Driver` holds a significant number of information about the molecule's physical and electronic properties.\n",
    "\n",
    "\n",
    "<b>Drivers</b> in quantum chemistry provides capabilities to facilitate interoperability across multiple quantum chemistry software packages via Application Programming Interface(API).\n",
    "\n",
    "\n",
    "As an example, we will be using generic `Molecule` based interface, and tell the interface to use `pySCF` as the classical computational backend.(`PYSCF`, `PSI4`, `PYQUANTE`, `GAUSSIAN` are available in qiskit nature package up until now).\n",
    "\n"
   ]
  },
  {
   "cell_type": "code",
   "execution_count": 1,
   "id": "2297c028",
   "metadata": {},
   "outputs": [],
   "source": [
    "from qiskit_nature.drivers import Molecule\n",
    "\n",
    "# PSPCz molecule\n",
    "geometry = [[\"Li\",[0,0,0]],\n",
    "            [\"H\",[0,0,1.5949]],\n",
    "           ]\n",
    "\n",
    "molecule=Molecule(geometry=geometry,\n",
    "                 multiplicity=1, #multiplicity=2*spin +1\n",
    "                 charge=0)\n"
   ]
  },
  {
   "cell_type": "code",
   "execution_count": 2,
   "id": "bd66f9cb",
   "metadata": {},
   "outputs": [],
   "source": [
    "from qiskit_nature.drivers.second_quantization import ElectronicStructureMoleculeDriver, ElectronicStructureDriverType\n",
    "\n",
    "\n",
    "driver = ElectronicStructureMoleculeDriver(molecule=molecule, \n",
    "                                           basis='sto3g', \n",
    "                                           driver_type=ElectronicStructureDriverType.PYSCF)"
   ]
  },
  {
   "cell_type": "code",
   "execution_count": null,
   "id": "3400bf96",
   "metadata": {},
   "outputs": [],
   "source": []
  },
  {
   "cell_type": "markdown",
   "id": "bd29b47d",
   "metadata": {},
   "source": [
    "The created driver can run manually by running `driver.run()`, however, it is recommended to wrap the driver with `ElectronicStructureProblem` (because further properties can be showed as output with ElectronicStructureProble) which can be solved later."
   ]
  },
  {
   "cell_type": "code",
   "execution_count": null,
   "id": "32e93647",
   "metadata": {},
   "outputs": [],
   "source": [
    "from qiskit_nature.problems.second_quantization.electronic import ElectronicStructureProblem\n",
    "\n",
    "problem = ElectronicStructureProblem(driver=driver)"
   ]
  },
  {
   "cell_type": "markdown",
   "id": "ca30ba4c",
   "metadata": {},
   "source": [
    "let's run the `second_q_ops()` function of ElectronicStructureProblem to run the driver internally and inspect the Hamiltonian of the system regarding the molecule."
   ]
  },
  {
   "cell_type": "code",
   "execution_count": null,
   "id": "afa670a6",
   "metadata": {},
   "outputs": [],
   "source": [
    "second_q_op = problem.second_q_ops()\n",
    "print(second_q_op[0])"
   ]
  },
  {
   "cell_type": "markdown",
   "id": "24e8837f",
   "metadata": {},
   "source": [
    "It is recommended to truncate the output string, as the output can be of large value and we can retrieve only the necessary ones.`set_truncation()` works on FermionicOp to truncate the output string upto a specific number of characters. \n",
    "\n",
    "\n",
    "If `set_truncation(0)` is set, then no output would be showed regarding the fermionic operators."
   ]
  },
  {
   "cell_type": "code",
   "execution_count": null,
   "id": "0f0b8d31",
   "metadata": {},
   "outputs": [],
   "source": [
    "from qiskit_nature.operators.second_quantization import FermionicOp\n",
    "\n",
    "# we increase the truncation value of the FermionicOp applied while printing\n",
    "FermionicOp.set_truncation(500)"
   ]
  },
  {
   "cell_type": "code",
   "execution_count": null,
   "id": "ce70e800",
   "metadata": {},
   "outputs": [],
   "source": [
    "Hamiltonian=second_q_op[0]\n",
    "print(Hamiltonian)"
   ]
  },
  {
   "cell_type": "markdown",
   "id": "f120a7a9",
   "metadata": {},
   "source": [
    "To solve problem regarding Quantum Chemistry via Quantum Computer, first the second quantised Hamiltonian has to be mapped to a qubit operator.And the mapping is implemented with the help of <b>`QubitConverter`</b> and <b>`QubitMapper`</b>(any of the three maps for second quantised encoding method).\n",
    "\n",
    "\n",
    "Initially, <b>Mapper</b> is wrapped by <b>Converter</b> and then the converter is implemented upon the Hamiltonian."
   ]
  },
  {
   "cell_type": "code",
   "execution_count": null,
   "id": "61a05b9c",
   "metadata": {},
   "outputs": [],
   "source": [
    "from qiskit_nature.converters.second_quantization import QubitConverter\n",
    "from qiskit_nature.mappers.second_quantization import JordanWignerMapper\n",
    "\n",
    "jw_mapper = JordanWignerMapper()\n",
    "jw_converter = QubitConverter(jw_mapper)\n",
    "qubit_op_jw = jw_converter.convert(Hamiltonian)\n",
    "print(qubit_op_jw)"
   ]
  },
  {
   "cell_type": "markdown",
   "id": "2ef15617",
   "metadata": {},
   "source": [
    "However, the size of the Hamiltonian can be reduced with the help of <b>`ActiveSpaceTransformer`</b>.\n",
    "\n",
    "Another interesting mapping is called <b>ParityMapping</b>.`ParityMapping` lets us have a Hamiltonian reduction by 2 qubits, with the help of particle conserving properties of electronic structure problem which makes it a little better than <b>`JordanWignerMapping`</b>."
   ]
  },
  {
   "cell_type": "code",
   "execution_count": null,
   "id": "e3a31a3f",
   "metadata": {},
   "outputs": [],
   "source": [
    "from qiskit_nature.mappers.second_quantization import ParityMapper\n",
    "\n",
    "parity_mapper = ParityMapper()\n",
    "parity_converter = QubitConverter(parity_mapper, two_qubit_reduction=True)\n",
    "qubit_op_parity = parity_converter.convert(Hamiltonian, num_particles=problem.num_particles)\n",
    "print(qubit_op_parity)"
   ]
  },
  {
   "cell_type": "markdown",
   "id": "461d29b2",
   "metadata": {},
   "source": [
    "#### References:\n",
    "\n",
    "\n",
    "\n",
    "- https://qiskit.org/documentation/nature/\n",
    "\n",
    "- https://github.com/Qiskit/qiskit-nature\n",
    "\n",
    "- https://onlinelibrary.wiley.com/doi/book/10.1002/9781119019572\n",
    "\n",
    "- https://github.com/qiskit-community/ibm-quantum-challenge-fall-2021#challenge-solution-examples\n",
    "\n",
    "- https://arxiv.org/abs/2111.09967#:~:text=A%20flagship%20feature%20in%20PennyLane,coordinates%20and%20basis%20set%20parameters\n"
   ]
  }
 ],
 "metadata": {
  "kernelspec": {
   "display_name": "Python 3",
   "language": "python",
   "name": "python3"
  },
  "language_info": {
   "codemirror_mode": {
    "name": "ipython",
    "version": 3
   },
   "file_extension": ".py",
   "mimetype": "text/x-python",
   "name": "python",
   "nbconvert_exporter": "python",
   "pygments_lexer": "ipython3",
   "version": "3.8.8"
  }
 },
 "nbformat": 4,
 "nbformat_minor": 5
}
