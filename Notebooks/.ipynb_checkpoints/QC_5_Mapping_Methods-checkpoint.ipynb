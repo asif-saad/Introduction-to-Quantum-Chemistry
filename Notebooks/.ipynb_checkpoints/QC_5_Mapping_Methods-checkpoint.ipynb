{
 "cells": [
  {
   "cell_type": "markdown",
   "id": "b6c2471f",
   "metadata": {},
   "source": [
    "<a href=\"https://qworld.net\" target=\"_blank\" align=\"left\"><img src=\"../qworld/images/header.jpg\"  align=\"left\"></a>\n",
    "_prepared by Asif Saad_"
   ]
  },
  {
   "cell_type": "markdown",
   "id": "ca5a6768",
   "metadata": {},
   "source": [
    "### Jordan-Wigner Encoding\n",
    "\n",
    "This encoding is part of second quantised grid based encoding method.\n",
    "\n",
    "\n",
    "This encoding method utilises the annihilation and creation operators. The operators are to change the occupation status of spin orbitals and embed them into qubits. Additionally, introduce phase factors to each qubit. Thereby, the job is to transform the fermionic state into qubits.\n",
    "\n",
    "<img src=\"../pictures/jw_1.png\">\n",
    "\n",
    "\n",
    "\n",
    "where\n",
    "<img src=\"../pictures/jw_2.png\">\n",
    "\n",
    "The fermionic creation and annihilation operators look like this:\n",
    "\n",
    "<img src=\"../pictures/jw_3.png\">\n",
    "\n",
    "$U_f$\n",
    "\n",
    "\n",
    "Here, the string of Z operators recovers the exchange phase factor "
   ]
  }
 ],
 "metadata": {
  "kernelspec": {
   "display_name": "Python 3",
   "language": "python",
   "name": "python3"
  },
  "language_info": {
   "codemirror_mode": {
    "name": "ipython",
    "version": 3
   },
   "file_extension": ".py",
   "mimetype": "text/x-python",
   "name": "python",
   "nbconvert_exporter": "python",
   "pygments_lexer": "ipython3",
   "version": "3.8.8"
  }
 },
 "nbformat": 4,
 "nbformat_minor": 5
}
