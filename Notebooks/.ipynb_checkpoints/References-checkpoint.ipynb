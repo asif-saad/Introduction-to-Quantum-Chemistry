{
 "cells": [
  {
   "cell_type": "markdown",
   "id": "b6c2471f",
   "metadata": {},
   "source": [
    "<a href=\"https://qworld.net\" target=\"_blank\" align=\"left\"><img src=\"../qworld/images/header.jpg\"  align=\"left\"></a>\n"
   ]
  },
  {
   "cell_type": "markdown",
   "id": "a678863a",
   "metadata": {},
   "source": [
    "## References "
   ]
  },
  {
   "cell_type": "markdown",
   "id": "02eb9828",
   "metadata": {},
   "source": [
    "<b> Qiskit Nature Documentation: <b> <i> https://qiskit.org/documentation/nature/ <i>\n",
    " \n",
    "<b> Qiskit Textbook: <b> <i> https://qiskit.org/textbook/preface.html <i>\n",
    "    \n",
    "<b> Qiskit Youtube Channel: <b> <i> https://www.youtube.com/c/qiskit <i>\n",
    "    \n",
    "<b> Quantum Computational Chemistry: <b> <i> https://arxiv.org/pdf/1808.10402.pdf <i>\n",
    "    \n",
    "<b> Quantum Chemistry in the Age of Quantum Computing: <b> <i> https://arxiv.org/pdf/1812.09976.pdf <i>\n",
    "    \n",
    "<b> Quantum algorithm for quantum chemistry and quantum material science: <b> <i> https://arxiv.org/pdf/2001.03685.pdf <i>"
   ]
  }
 ],
 "metadata": {
  "kernelspec": {
   "display_name": "Python 3",
   "language": "python",
   "name": "python3"
  },
  "language_info": {
   "codemirror_mode": {
    "name": "ipython",
    "version": 3
   },
   "file_extension": ".py",
   "mimetype": "text/x-python",
   "name": "python",
   "nbconvert_exporter": "python",
   "pygments_lexer": "ipython3",
   "version": "3.8.8"
  }
 },
 "nbformat": 4,
 "nbformat_minor": 5
}
