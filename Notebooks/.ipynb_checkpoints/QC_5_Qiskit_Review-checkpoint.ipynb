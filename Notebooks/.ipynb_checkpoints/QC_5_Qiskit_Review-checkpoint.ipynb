{
 "cells": [
  {
   "cell_type": "markdown",
   "id": "b6c2471f",
   "metadata": {},
   "source": [
    "<a href=\"https://qworld.net\" target=\"_blank\" align=\"left\"><img src=\"../qworld/images/header.jpg\"  align=\"left\"></a>\n",
    "_prepared by Asif Saad and Buvan Prajwal_"
   ]
  },
  {
   "cell_type": "markdown",
   "id": "4d9d933d",
   "metadata": {},
   "source": [
    "# Introduction"
   ]
  },
  {
   "cell_type": "markdown",
   "id": "73fd553d",
   "metadata": {},
   "source": [
    "# Quantum Register"
   ]
  },
  {
   "cell_type": "markdown",
   "id": "d8b555b5",
   "metadata": {},
   "source": [
    "# Classical Register"
   ]
  },
  {
   "cell_type": "code",
   "execution_count": null,
   "id": "33810a30",
   "metadata": {},
   "outputs": [],
   "source": [
    "# Circuit Creation"
   ]
  },
  {
   "cell_type": "code",
   "execution_count": null,
   "id": "0eda6a48",
   "metadata": {},
   "outputs": [],
   "source": [
    "# Quantum Gates"
   ]
  },
  {
   "cell_type": "code",
   "execution_count": null,
   "id": "f57864b4",
   "metadata": {},
   "outputs": [],
   "source": [
    "# Qunatum Simulator"
   ]
  },
  {
   "cell_type": "code",
   "execution_count": null,
   "id": "b7d5223e",
   "metadata": {},
   "outputs": [],
   "source": []
  },
  {
   "cell_type": "code",
   "execution_count": null,
   "id": "c09c046c",
   "metadata": {},
   "outputs": [],
   "source": []
  },
  {
   "cell_type": "code",
   "execution_count": null,
   "id": "a7b1ef78",
   "metadata": {},
   "outputs": [],
   "source": []
  }
 ],
 "metadata": {
  "kernelspec": {
   "display_name": "Python 3",
   "language": "python",
   "name": "python3"
  },
  "language_info": {
   "codemirror_mode": {
    "name": "ipython",
    "version": 3
   },
   "file_extension": ".py",
   "mimetype": "text/x-python",
   "name": "python",
   "nbconvert_exporter": "python",
   "pygments_lexer": "ipython3",
   "version": "3.8.8"
  }
 },
 "nbformat": 4,
 "nbformat_minor": 5
}
