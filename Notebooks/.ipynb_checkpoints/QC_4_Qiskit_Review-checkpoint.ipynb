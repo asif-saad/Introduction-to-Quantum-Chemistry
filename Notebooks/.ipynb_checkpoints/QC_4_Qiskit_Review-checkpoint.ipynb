{
 "cells": [
  {
   "cell_type": "markdown",
   "id": "b6c2471f",
   "metadata": {},
   "source": [
    "<a href=\"https://qworld.net\" target=\"_blank\" align=\"left\"><img src=\"../qworld/images/header.jpg\"  align=\"left\"></a>\n",
    "_prepared by Asif Saad and Buvan Prajwal_"
   ]
  },
  {
   "cell_type": "markdown",
   "id": "abf2b82d",
   "metadata": {},
   "source": [
    "# Introduction"
   ]
  },
  {
   "cell_type": "markdown",
   "id": "2387131b",
   "metadata": {},
   "source": [
    "Qiskit is an open-source SDK for working with quantum computers at the level of circuits, algorithms, and application modules.\n",
    "\n",
    "It is made up of elements that work together to enable quantum computing. This is a simple meta-package to install the elements of Qiskit altogether. \n",
    "\n",
    "As a python library, the features and contents of it could be changing from time to time, therefore, to remain updated, it is recommended to keep upgrading the qiskit packages.\n",
    "\n",
    "```pip install qiskit --upgrade```\n",
    "\n",
    "\n",
    "**Remainder: Always import qiskit from your pc's local packages storage, if do so, only then you can access all the functions and objects under the qiskit library**\n"
   ]
  },
  {
   "cell_type": "code",
   "execution_count": 2,
   "id": "b619fca5",
   "metadata": {},
   "outputs": [],
   "source": [
    "import qiskit"
   ]
  },
  {
   "cell_type": "markdown",
   "id": "45ed6892",
   "metadata": {},
   "source": [
    "# Quantum Register"
   ]
  },
  {
   "cell_type": "markdown",
   "id": "a93cf231",
   "metadata": {},
   "source": [
    "Among all others elements, in this notebook we will only be implementing qiskit Aer, as it preferred due to the fact that it being a high-performance simulator framework for studying quantum computing algorithms and applications in the noisy intermediate scale quantum (NISQ) regime.\n",
    "The ```QunatumCircuit``` , ```QuantumRegister``` , ```ClassicalRegister``` are the main objectives for Qiskit Aer.\n",
    "<br>\n",
    "\n",
    "The job of QuantumRegister is to hold all the qubits and the corresponding implemented operators and measuring gates.\n",
    "The number of qubits and the name of that particular quantum register can be defined by setting them as ```QuantumRegister()``` parameters.\n",
    "\n",
    "However, everytime the ```QuantumRegister()``` has to be imported from the qiskit library."
   ]
  },
  {
   "cell_type": "code",
   "execution_count": 7,
   "id": "a52ce936",
   "metadata": {},
   "outputs": [],
   "source": [
    "from qiskit import QuantumRegister"
   ]
  },
  {
   "cell_type": "code",
   "execution_count": 7,
   "id": "7644645b",
   "metadata": {},
   "outputs": [],
   "source": [
    "q0=QuantumRegister(2,'first Quantum Register')"
   ]
  },
  {
   "cell_type": "code",
   "execution_count": 14,
   "id": "bbe0485f",
   "metadata": {
    "collapsed": true
   },
   "outputs": [
    {
     "name": "stdout",
     "output_type": "stream",
     "text": [
      "QuantumRegister(2, 'first Quantum Register') \n",
      "\n",
      "No of qubits in q0:  2\n",
      "\n",
      "Assigned name of the qiskit:  first Quantum Register\n"
     ]
    }
   ],
   "source": [
    "print(q0,\"\\n\")\n",
    "print(\"No of qubits in q0: \",q0.size)\n",
    "print(\"\\nAssigned name of the q0: \",q0.name)"
   ]
  },
  {
   "cell_type": "markdown",
   "id": "3fdd5ae9",
   "metadata": {},
   "source": [
    "However, the second parameter is not required, only the first parameter is necessary to initiate a quantum register."
   ]
  },
  {
   "cell_type": "code",
   "execution_count": 17,
   "id": "985d2b08",
   "metadata": {
    "collapsed": true
   },
   "outputs": [
    {
     "name": "stdout",
     "output_type": "stream",
     "text": [
      "QuantumRegister(2, 'q2') \n",
      "\n",
      "No of qubits in q1:  2\n",
      "\n",
      "Assigned name of the qtest:  q2\n"
     ]
    }
   ],
   "source": [
    "qtest=QuantumRegister(2)\n",
    "print(qtest,\"\\n\")\n",
    "print(\"No of qubits in q1: \",qtest.size)\n",
    "print(\"\\nAssigned name of the qtest: \",qtest.name)\n",
    "# here the variable in which the QuantumRegister is stored, has been assigned the name of that quantum reigster"
   ]
  },
  {
   "cell_type": "markdown",
   "id": "a658c29e",
   "metadata": {},
   "source": [
    "It is even possible to test whether 2 Quantum Register are same or not"
   ]
  },
  {
   "cell_type": "code",
   "execution_count": 18,
   "id": "075079b0",
   "metadata": {},
   "outputs": [
    {
     "data": {
      "text/plain": [
       "True"
      ]
     },
     "execution_count": 18,
     "metadata": {},
     "output_type": "execute_result"
    }
   ],
   "source": [
    "q0==q0"
   ]
  },
  {
   "cell_type": "code",
   "execution_count": 19,
   "id": "9a666a90",
   "metadata": {},
   "outputs": [
    {
     "data": {
      "text/plain": [
       "False"
      ]
     },
     "execution_count": 19,
     "metadata": {},
     "output_type": "execute_result"
    }
   ],
   "source": [
    "q0==qtest"
   ]
  },
  {
   "cell_type": "markdown",
   "id": "05c6ae63",
   "metadata": {},
   "source": [
    "# Classical Register"
   ]
  },
  {
   "cell_type": "markdown",
   "id": "8e4504b0",
   "metadata": {},
   "source": [
    "Unlike Quantum Register, Classical Register is only to hold the classical data that can be retrieved by measuring the Quantum Register via the measuring gates on any conventional basis(generally on Z-axis).\n",
    "\n",
    "A Quantum Circuit can even be built and run without using any Classical Register, but no output can be taken from the circuit.\n",
    "\n",
    "Just like Quantum Register, Classical Register has to be imported from the qiskit library."
   ]
  },
  {
   "cell_type": "code",
   "execution_count": 3,
   "id": "709ca3d0",
   "metadata": {},
   "outputs": [],
   "source": [
    "from qiskit import ClassicalRegister"
   ]
  },
  {
   "cell_type": "markdown",
   "id": "a1292f4b",
   "metadata": {},
   "source": [
    "Classical Register can work only if there is any Quantum Register implemented beforehand, otherwise, if any classical register initialised, there would be no quantum circuit map to measure.\n",
    "\n",
    "Like Quantum Register, ```ClassicalRegister(no_of_bits_being_measured,name_of_the_register)``` can take 2 arguments, first: number of bits, second: name of the classical register. However, the classical register function can take only 1 argument."
   ]
  },
  {
   "cell_type": "code",
   "execution_count": 9,
   "id": "812a9667",
   "metadata": {},
   "outputs": [
    {
     "data": {
      "image/png": "[encoded data removed]",
      "text/plain": [
       "<Figure size 159.778x204.68 with 1 Axes>"
      ]
     },
     "execution_count": 9,
     "metadata": {},
     "output_type": "execute_result"
    }
   ],
   "source": [
    "from qiskit import QuantumCircuit\n",
    "q0=QuantumRegister(2)\n",
    "c0=ClassicalRegister(2)\n",
    "circuit=QuantumCircuit(q0,c0)\n",
    "circuit.x(q0[0])\n",
    "circuit.draw(output='mpl')"
   ]
  },
  {
   "cell_type": "markdown",
   "id": "fe79b1c7",
   "metadata": {},
   "source": [
    "# Quantum Circuit Creation"
   ]
  },
  {
   "cell_type": "code",
   "execution_count": null,
   "id": "c01f64b3",
   "metadata": {},
   "outputs": [],
   "source": []
  },
  {
   "cell_type": "markdown",
   "id": "2cd18a1e",
   "metadata": {},
   "source": [
    "# Quantum Gates"
   ]
  },
  {
   "cell_type": "markdown",
   "id": "b5d31e2f",
   "metadata": {},
   "source": [
    "# Qunatum Simulator"
   ]
  },
  {
   "cell_type": "markdown",
   "id": "86ea717c",
   "metadata": {},
   "source": [
    "## Qasm Simulator"
   ]
  },
  {
   "cell_type": "markdown",
   "id": "defeff27",
   "metadata": {},
   "source": [
    "## Statevector"
   ]
  },
  {
   "cell_type": "markdown",
   "id": "42cc538e",
   "metadata": {},
   "source": [
    "## Unitary Simulator"
   ]
  }
 ],
 "metadata": {
  "kernelspec": {
   "display_name": "Python 3",
   "language": "python",
   "name": "python3"
  },
  "language_info": {
   "codemirror_mode": {
    "name": "ipython",
    "version": 3
   },
   "file_extension": ".py",
   "mimetype": "text/x-python",
   "name": "python",
   "nbconvert_exporter": "python",
   "pygments_lexer": "ipython3",
   "version": "3.8.8"
  }
 },
 "nbformat": 4,
 "nbformat_minor": 5
}
