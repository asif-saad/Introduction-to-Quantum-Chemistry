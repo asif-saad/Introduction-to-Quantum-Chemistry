{
 "cells": [
  {
   "cell_type": "markdown",
   "id": "b6c2471f",
   "metadata": {},
   "source": [
    "\n",
    "<a href=\"https://qworld.net\" target=\"_blank\" align=\"left\"><img src=\"../qworld/images/header.jpg\"  align=\"left\"></a>\n",
    "_prepared by Malihe Yadavar and Buvan Prajwal_"
   ]
  },
  {
   "cell_type": "markdown",
   "id": "110c9a7b",
   "metadata": {},
   "source": [
    "<table width=\"100%\"><tr><td style=\"color:#bbbbbb;background-color:#ffffff;font-size:11px;font-style:italic;text-align:right;\"> macros </td></tr></table>\n",
    "$ \\newcommand{\\bra}[1]{\\langle #1|} $\n",
    "$ \\newcommand{\\ket}[1]{|#1\\rangle} $\n",
    "$ \\newcommand{\\braket}[2]{\\langle #1|#2\\rangle} $\n",
    "$ \\newcommand{\\dot}[2]{ #1 \\cdot #2} $\n",
    "$ \\newcommand{\\biginner}[2]{\\left\\langle #1,#2\\right\\rangle} $\n",
    "$ \\newcommand{\\mymatrix}[2]{\\left( \\begin{array}{#1} #2\\end{array} \\right)} $\n",
    "$ \\newcommand{\\myvector}[1]{\\mymatrix{c}{#1}} $\n",
    "$ \\newcommand{\\myrvector}[1]{\\mymatrix{r}{#1}} $\n",
    "$ \\newcommand{\\mypar}[1]{\\left( #1 \\right)} $\n",
    "$ \\newcommand{\\mybigpar}[1]{ \\Big( #1 \\Big)} $\n",
    "$ \\newcommand{\\sqrttwo}{\\frac{1}{\\sqrt{2}}} $\n",
    "$ \\newcommand{\\dsqrttwo}{\\dfrac{1}{\\sqrt{2}}} $\n",
    "$ \\newcommand{\\onehalf}{\\frac{1}{2}} $\n",
    "$ \\newcommand{\\donehalf}{\\dfrac{1}{2}} $\n",
    "$ \\newcommand{\\hadamard}{ \\mymatrix{rr}{ \\sqrttwo & \\sqrttwo \\\\ \\sqrttwo & -\\sqrttwo }} $\n",
    "$ \\newcommand{\\vzero}{\\myvector{1\\\\0}} $\n",
    "$ \\newcommand{\\vone}{\\myvector{0\\\\1}} $\n",
    "$ \\newcommand{\\stateplus}{\\myvector{ \\sqrttwo \\\\  \\sqrttwo } } $\n",
    "$ \\newcommand{\\stateminus}{ \\myrvector{ \\sqrttwo \\\\ -\\sqrttwo } } $\n",
    "$ \\newcommand{\\myarray}[2]{ \\begin{array}{#1}#2\\end{array}} $\n",
    "$ \\newcommand{\\X}{ \\mymatrix{cc}{0 & 1 \\\\ 1 & 0}  } $\n",
    "$ \\newcommand{\\Z}{ \\mymatrix{rr}{1 & 0 \\\\ 0 & -1}  } $\n",
    "$ \\newcommand{\\Htwo}{ \\mymatrix{rrrr}{ \\frac{1}{2} & \\frac{1}{2} & \\frac{1}{2} & \\frac{1}{2} \\\\ \\frac{1}{2} & -\\frac{1}{2} & \\frac{1}{2} & -\\frac{1}{2} \\\\ \\frac{1}{2} & \\frac{1}{2} & -\\frac{1}{2} & -\\frac{1}{2} \\\\ \\frac{1}{2} & -\\frac{1}{2} & -\\frac{1}{2} & \\frac{1}{2} } } $\n",
    "$ \\newcommand{\\CNOT}{ \\mymatrix{cccc}{1 & 0 & 0 & 0 \\\\ 0 & 1 & 0 & 0 \\\\ 0 & 0 & 0 & 1 \\\\ 0 & 0 & 1 & 0} } $\n",
    "$ \\newcommand{\\norm}[1]{ \\left\\lVert #1 \\right\\rVert } $\n",
    "$ \\newcommand{\\pstate}[1]{ \\lceil \\mspace{-1mu} #1 \\mspace{-1.5mu} \\rfloor } $"
   ]
  },
  {
   "cell_type": "markdown",
   "id": "3c92992b",
   "metadata": {},
   "source": [
    "## Variational Quantum Eigensolver(VQE)\n",
    "\n",
    "Variational quantum eigensolver is one of the very first examples of variational quantum algorithms. Where these kinds of algorithms are often called hybrid algorithms, as it is integrated of both quantum computers and classical computers.\n",
    "\n",
    "Here in the VQE algorithm, we use quantum computers to operate on given variable parameters (computes the energy) and classical computers to perform the optimization of the results and then update the resultant values to the parameters and repeat until the find an optimal result.\n",
    "\n",
    "VQE uses the quantum computer for a state preparation (red box) and measurement subroutine (blue box), and the classical computer to process the measurement results and update the parameters of the quantum computer by optimization algorithm (green box)."
   ]
  },
  {
   "cell_type": "markdown",
   "id": "ba9c23a6",
   "metadata": {},
   "source": [
    "<img src='../pictures/VQE_1.png' width=\"50%\" align=\"center\">"
   ]
  },
  {
   "cell_type": "markdown",
   "id": "06c988a7",
   "metadata": {},
   "source": [
    "## Schrödinger equation\n",
    "\n",
    "We use VQE algrithm to solve Schrödinger equation. This equation is:\n",
    "\n",
    "$H\\ket{\\psi(\\overrightarrow{\\theta})} = E\\ket{\\psi(\\overrightarrow{\\theta})}$\n",
    "<br>\n",
    "<br>In this equation:\n",
    "<ul>\n",
    "    <li>$E$ is energy and $E_{0}$ is the lowest energy and also eigenvalue of H</li>\n",
    "    <li>$ \\psi(\\overrightarrow{\\theta})$ is wavefunction and eigenstate of H </li>\n",
    "    <li>H is the Hamiltonian and an operator</li>\n",
    "    <li>$\\overrightarrow{\\theta}$ is a vector of independent parameters and $\\overrightarrow{\\theta}=$ {($\\theta_{1},...,\\theta_{n} $)}$^{T}$.</li>    \n",
    "</ul>\n",
    "\n",
    "The lowest answer for this equation is the ground state ($E_{0}$).\n",
    "\n",
    "$ \\bra{\\psi(\\overrightarrow{\\theta})}H\\ket{\\psi(\\overrightarrow{\\theta})} \\geq E_{0}$ <br>"
   ]
  },
  {
   "cell_type": "markdown",
   "id": "f8f1df0b",
   "metadata": {},
   "source": [
    "## Why VQE? And Why on Quantum computer?\n",
    "Through VQE, we can simulate the resultant/product yield energy of a reaction of two or more elements/molecules. If we have a high-energy molecule reacting with another molecule we expect the end product to yield a lower energy state, and only if the end product yields a lower energy state then the reaction takes place, this can be simulated using VQE.\n",
    "\n",
    "We use Quantum computers because every time we add a particle or molecule to the system the computational cost grows exponentially. Add this why we use quantum computers, as every time we add qubit to the system our computational spaces doubles.\n",
    "\n",
    "We can estimate the ground state energy of a system, by its wave function, which represents the molecule. We then vary our wave function until we get a minimum value of the ground state energy, given our model of the Hamiltonian. A Hamiltonian is just a mathematical description of the total energy of a system.\n",
    "\n",
    "A simple use case of the VQE is to compute the interatomic distance of elements of a molecule. So, we can change the interatomic distance and use the VQE to compute the lowest energy at each distance. Then the distance that gives the lowest energy, yields the actual interatomic distance.\n",
    "\n",
    "So, a variation of circuits consists of the following process.\n",
    "\n",
    "<ul>\n",
    "  <li>The first thing we want to do is prepare some initial state psi and as usual, this is often a ground state or a zero state or \n",
    "some fixed reference state.</li>\n",
    "  <li>Then we execute parametrized unitary transformation which breaks down to a sequence of gates.</li>\n",
    "  <li>So, the architecture of the circuit is fixed but the parameters fed to the gates are not fixed, and then to convert \n",
    "quantum information back to classical information we want to measure some particular observables.</li>\n",
    "  <li>Then, we use the classical computers to optimize the results and then feedback the results into the variable parameters \n",
    "and compute with present values. Repeat the process until we find the optimal result.</li>\n",
    "</ul>"
   ]
  },
  {
   "cell_type": "markdown",
   "id": "f59a76bb",
   "metadata": {},
   "source": [
    "## VQE Circuit\n",
    "\n",
    "The circuit in Quantum Computer consists of three parts.\n",
    "\n",
    "<ol>\n",
    "  <li>The first step in preparation</li>\n",
    "  <li>The second step is Ansätze</li>\n",
    "  <li>The third step is the measurement</li>\n",
    "</ol>\n",
    "\n"
   ]
  },
  {
   "cell_type": "markdown",
   "id": "2c5c2074",
   "metadata": {},
   "source": [
    "<img src='../pictures/VQE_2.png' width=\"50%\" align=\"center\">"
   ]
  },
  {
   "cell_type": "markdown",
   "id": "2f75789a",
   "metadata": {},
   "source": [
    "#### 1-Preparation part\n",
    "The qubit register is initialized in the zero state $\\ket{\\bar0} $. (in This Circuit from $\\ket{000} $)<br>\n",
    "\n",
    "$ \\ket{\\psi_{ref}}=U_{prep}\\ket{\\bar0} $ <br><br>\n",
    "$U_{prep}$ is consists of a non-parameterized set of gates to generate mean-field or multi-reference state $\\ket{\\psi_{ref}}$. This state is in the first barrier."
   ]
  },
  {
   "cell_type": "markdown",
   "id": "12ee33a3",
   "metadata": {},
   "source": [
    "#### 2- Ansätze part\n",
    "$ \\ket{\\psi(\\theta)} = U(\\theta)\\ket{\\psi_{ref}} $ <br><br>\n",
    "$U(\\theta)$ contains a series of parametrized gates. \n",
    "$ \\ket{\\psi(\\theta)} $  state is in the second barrier. We call $\\ket{\\psi(\\theta)}$ ansatz state and $U(\\theta)$ ansatz circuit, however, we can call both of them ansatz in brief.\n",
    "\n",
    "\"ansatz space\" is The set of all possible states that can be created by the circuit $U(\\theta)$.\n"
   ]
  },
  {
   "cell_type": "markdown",
   "id": "b3e5db45",
   "metadata": {},
   "source": [
    "#### 3- measurement part\n",
    "Whenever we generate an ansatz, we should measure?? the Hamiltonian $(H)$. \n",
    "H is a linear combination of Pauli operators $(I, X, Y or Z)$\n",
    "\n",
    "$$  H = \\sum_{j}{h_{j}P_{j}} = \\sum_{j}{h_{j} \\prod_{i} \\sigma_{i}^{j}} $$\n",
    "In this equation, $H$ is Hamiltonian $\\sigma_{i}^{j}$ is Pauli gates. \n",
    "Then we can measure the energy in this step $ E(\\theta_{k})$ by this equation:\n",
    "\n",
    "$$ E(\\theta_{k}) = \\sum_{j}^{N}{h_{j}\\bra{\\psi(\\theta_{k})}\\prod_{i} \\sigma_{i}^{j}\\ket{\\psi(\\theta_{k})}} $$"
   ]
  },
  {
   "cell_type": "markdown",
   "id": "11dbdbd3",
   "metadata": {},
   "source": [
    "## Classical Optimisation\n",
    "\n",
    "Classical optimization is one of the main processes of VQE, as we cannot optimize the Hamiltonian values without Classical \n",
    "optimization algorithms. Classical optimization algorithms are mainly divided into two parts:\n",
    "<ol>\n",
    "  <li>Direct search method</li>\n",
    "  <li>Gradient based method</li>\n",
    "</ol>\n",
    "\n",
    "\n",
    "Direct search algorithms require more function evaluations but are considered more robust to noise than gradient \n",
    "based methods."
   ]
  },
  {
   "cell_type": "markdown",
   "id": "f21c28a5",
   "metadata": {},
   "source": [
    "## VQE iterations\n",
    "\n",
    "After getting the result from the circuit, we will use the classical computer to update parameters $\\theta_{k+1}$. So we can prepare a new ansatz $\\ket{\\psi(\\theta_{k+1})}$. In every iteration, we will get lower energy. We will repeat the iteration until the result will converge to a minimum.\n"
   ]
  },
  {
   "cell_type": "markdown",
   "id": "995aa043",
   "metadata": {},
   "source": [
    "## Example\n"
   ]
  },
  {
   "cell_type": "code",
   "execution_count": null,
   "id": "fb32e3cd",
   "metadata": {},
   "outputs": [],
   "source": []
  }
 ],
 "metadata": {
  "kernelspec": {
   "display_name": "Python 3 (ipykernel)",
   "language": "python",
   "name": "python3"
  },
  "language_info": {
   "codemirror_mode": {
    "name": "ipython",
    "version": 3
   },
   "file_extension": ".py",
   "mimetype": "text/x-python",
   "name": "python",
   "nbconvert_exporter": "python",
   "pygments_lexer": "ipython3",
   "version": "3.8.11"
  }
 },
 "nbformat": 4,
 "nbformat_minor": 5
}
