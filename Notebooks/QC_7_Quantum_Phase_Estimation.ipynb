{
 "cells": [
  {
   "cell_type": "markdown",
   "id": "b6c2471f",
   "metadata": {},
   "source": [
    "<a href=\"https://qworld.net\" target=\"_blank\" align=\"left\"><img src=\"../qworld/images/header.jpg\"  align=\"left\"></a>\n",
    "_prepared by Fazal Abbas_"
   ]
  },
  {
   "cell_type": "markdown",
   "id": "ea2f8d6b",
   "metadata": {},
   "source": [
    "<table width=\"100%\"><tr><td style=\"color:#bbbbbb;background-color:#ffffff;font-size:11px;font-style:italic;text-align:right;\">This cell contains some macros. If there is a problem with displaying mathematical formulas, please run this cell to load these macros. </td></tr></table>\n",
    "$ \\newcommand{\\bra}[1]{\\langle #1|} $\n",
    "$ \\newcommand{\\ket}[1]{|#1\\rangle} $\n",
    "$ \\newcommand{\\braket}[2]{\\langle #1|#2\\rangle} $\n",
    "$ \\newcommand{\\dot}[2]{ #1 \\cdot #2} $\n",
    "$ \\newcommand{\\biginner}[2]{\\left\\langle #1,#2\\right\\rangle} $\n",
    "$ \\newcommand{\\mymatrix}[2]{\\left( \\begin{array}{#1} #2\\end{array} \\right)} $\n",
    "$ \\newcommand{\\myvector}[1]{\\mymatrix{c}{#1}} $\n",
    "$ \\newcommand{\\myrvector}[1]{\\mymatrix{r}{#1}} $\n",
    "$ \\newcommand{\\mypar}[1]{\\left( #1 \\right)} $\n",
    "$ \\newcommand{\\mybigpar}[1]{ \\Big( #1 \\Big)} $\n",
    "$ \\newcommand{\\sqrttwo}{\\frac{1}{\\sqrt{2}}} $\n",
    "$ \\newcommand{\\dsqrttwo}{\\dfrac{1}{\\sqrt{2}}} $\n",
    "$ \\newcommand{\\onehalf}{\\frac{1}{2}} $\n",
    "$ \\newcommand{\\donehalf}{\\dfrac{1}{2}} $\n",
    "$ \\newcommand{\\hadamard}{ \\mymatrix{rr}{ \\sqrttwo & \\sqrttwo \\\\ \\sqrttwo & -\\sqrttwo }} $\n",
    "$ \\newcommand{\\vzero}{\\myvector{1\\\\0}} $\n",
    "$ \\newcommand{\\vone}{\\myvector{0\\\\1}} $\n",
    "$ \\newcommand{\\stateplus}{\\myvector{ \\sqrttwo \\\\  \\sqrttwo } } $\n",
    "$ \\newcommand{\\stateminus}{ \\myrvector{ \\sqrttwo \\\\ -\\sqrttwo } } $\n",
    "$ \\newcommand{\\myarray}[2]{ \\begin{array}{#1}#2\\end{array}} $\n",
    "$ \\newcommand{\\X}{ \\mymatrix{cc}{0 & 1 \\\\ 1 & 0}  } $\n",
    "$ \\newcommand{\\Z}{ \\mymatrix{rr}{1 & 0 \\\\ 0 & -1}  } $\n",
    "$ \\newcommand{\\Htwo}{ \\mymatrix{rrrr}{ \\frac{1}{2} & \\frac{1}{2} & \\frac{1}{2} & \\frac{1}{2} \\\\ \\frac{1}{2} & -\\frac{1}{2} & \\frac{1}{2} & -\\frac{1}{2} \\\\ \\frac{1}{2} & \\frac{1}{2} & -\\frac{1}{2} & -\\frac{1}{2} \\\\ \\frac{1}{2} & -\\frac{1}{2} & -\\frac{1}{2} & \\frac{1}{2} } } $\n",
    "$ \\newcommand{\\CNOT}{ \\mymatrix{cccc}{1 & 0 & 0 & 0 \\\\ 0 & 1 & 0 & 0 \\\\ 0 & 0 & 0 & 1 \\\\ 0 & 0 & 1 & 0} } $\n",
    "$ \\newcommand{\\norm}[1]{ \\left\\lVert #1 \\right\\rVert } $\n",
    "$ \\newcommand{\\pstate}[1]{ \\lceil \\mspace{-1mu} #1 \\mspace{-1.5mu} \\rfloor } $"
   ]
  },
  {
   "cell_type": "markdown",
   "id": "397e2788",
   "metadata": {},
   "source": [
    "\n"
   ]
  },
  {
   "cell_type": "markdown",
   "id": "54b24200",
   "metadata": {},
   "source": [
    "***\n",
    "<i><b>In the following notebook, the task is to develop and learn a quantum algorithm by using <u>Quantum Phase Estimation</u> to solve the <u>Schrodinger Equation</u> for a simple system such as <u>\"Hydrogen atom\"</u> and then generalize the algorithm to apply on more <u>complex chemical systems</u> (different atoms,molecules and ions). In this journey we are going to explore an essential goal and an important application of Quantum Computation that is to simulate the quantum systems using information which is quantum mechanical in nature (Richard Feyman 1982). Before going on to develop a quantum algorithm dealing with the Schrodinger Equation we will first explore the idea behind Quantum Phase Estimation in Quantum Information Science. </b></i>\n",
    "***\n"
   ]
  },
  {
   "cell_type": "markdown",
   "id": "0ad0046c",
   "metadata": {},
   "source": [
    "\n",
    "### <u>Quantum Fourier Transform and Quantum Phase Estimation:</u> \n",
    "\n",
    "In Quantum Computing, phase estimation is a quantum algorithm that can be used to estimate the eigen values of a Unitary Operator and by using this application of QPE, we can develop efficient quantum algorithms to tackle the most complex problems in Quantum Chemistry. Quantum Phase estimation algorithm was initially proposed by Alexei Yurievich Kitaev, a Russian–American professor of physics at the California Institute of Technology and permanent member of the Kavli Institute for Theoretical Physics.\n",
    "\n",
    "Let's Describe on a broader view the action of Quantum Phase Estimation Algorithm and then we will undergo a detailed explanation of Quantum Fourier Transform and how it leads to Quantum Phase estimation algorithm. Suppose we have a Unitory Operator $U$ such that,\n",
    ">$U \\ket{\\psi} = e^{2\\pi i \\phi}\\ket{\\psi}$ , the algorithm can estimate the value of $\\phi$ with certain high probability.<br>\n",
    "\n",
    "Often in many mathematical or physical problems we need to transform the problem from the original space (in which the problem lies and it's solution is more difficult) to a another space for which we can find out the solution more easily. Hence we indirectly find out the solution of the original problem and for the actual solution of the problem we just need to perform the reverse operation to get back to the original space. This strategy is more clearly depicted in the following diagram presented below.\n",
    "<img src='../pictures/f_t.png'>\n",
    "\n",
    "Quantum computers can perform computation of some transformations more efficiently than classical computers and this advantage has tremendous consequences for building up quantum algorithms with their no classical counterparts.\n",
    "\n",
    "<i><u><b>Discrete Fourier Transform:<i><u><b> <br>\n",
    "    \n",
    "    \n",
    "The mathematical form of the discrete fourier transform takes the form, <br>\n",
    "    $$ y_k  \\equiv  \\frac{1}{\\sqrt{N}}  \\sum_{j=0}^{N-1} x_j e^{\\frac{2\\pi ijk}{N}}\n",
    "    $$\n",
    "    \n",
    "where it takes the input a vector containing the complex entries $x0,x1,x2,...,xN−1$ and transform it to a vector of complex numbers $y0,y2,y3...,yN−1$.\n",
    "\n",
    "    \n",
    "<i><u><b>Quantum Fourier Transform:<i><u><b> <br>\n",
    "\n",
    "The Quantum Fourier Transform can be expressed mathematically as,\n",
    "    $$\\ket{j}\\Rightarrow \\frac{1}{\\sqrt{N}}  \\sum_{j=0}^{N-1}e^{\\frac{2\\pi ijk}{N}}\\ket{k} $$\n",
    "\n",
    "Above defined is the linear transformation of orthonormal basis state $\\ket{j}$ to another set of orthonormal basis state $\\ket{j}$.\n",
    "\n",
    "We can also define the same action of a Quantum Fourier Transform Operator on an arbitrary quantum state as,\n",
    "$$\\sum_{j=0}^{N-1}x_j\\ket{j}\\Rightarrow\\sum_{k=0}^{N-1}y_k\\ket{k}$$\n",
    "One thing we should realize is that quantum fourier transform is the Unitary operation that can also be proved mathematically.\n",
    "\n",
    "\n",
    "\n",
    "\n",
    "\n",
    "\n",
    "    \n",
    "\n",
    "    \n",
    "\n",
    "\n"
   ]
  },
  {
   "cell_type": "markdown",
   "id": "2768b7bc",
   "metadata": {},
   "source": [
    "\n",
    " "
   ]
  }
 ],
 "metadata": {
  "kernelspec": {
   "display_name": "Python 3 (ipykernel)",
   "language": "python",
   "name": "python3"
  },
  "language_info": {
   "codemirror_mode": {
    "name": "ipython",
    "version": 3
   },
   "file_extension": ".py",
   "mimetype": "text/x-python",
   "name": "python",
   "nbconvert_exporter": "python",
   "pygments_lexer": "ipython3",
   "version": "3.8.12"
  }
 },
 "nbformat": 4,
 "nbformat_minor": 5
}
