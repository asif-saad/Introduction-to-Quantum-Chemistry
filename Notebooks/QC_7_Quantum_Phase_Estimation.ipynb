{
 "cells": [
  {
   "cell_type": "markdown",
   "id": "b6c2471f",
   "metadata": {},
   "source": [
    "<a href=\"https://qworld.net\" target=\"_blank\" align=\"left\"><img src=\"../qworld/images/header.jpg\"  align=\"left\"></a>\n",
    "_prepared by Fazal Abbas_"
   ]
  },
  {
   "cell_type": "markdown",
   "id": "397e2788",
   "metadata": {},
   "source": [
    "\n"
   ]
  },
  {
   "cell_type": "markdown",
   "id": "54b24200",
   "metadata": {},
   "source": [
    "<i><b>In the following notebook, the task is to develop and learn a quantum algorithm by using <u>Quantum Phase Estimation</u> to solve the <u>Schrodinger Equation</u> for a simple system such as <u>\"Hydrogen atom\"</u> and then generalize the algorithm to apply on more <u>complex chemical systems</u> (different atoms,molecules and ions). In this journey we are going to explore an essential goal and an important application of Quantum Computation that is to simulate the quantum systems using information which is quantum mechanical in nature (Richard Feyman 1982). Before going on to develop a quantum algorithm dealing with the Schrodinger Equation we will first explore the idea behind Quantum Phase Estimation in Quantum Information Science. </b></i>\n"
   ]
  },
  {
   "cell_type": "markdown",
   "id": "0ad0046c",
   "metadata": {},
   "source": [
    "### <u>Quantum Fourier Transform and Quantum Phase Estimation:</u> "
   ]
  },
  {
   "cell_type": "code",
   "execution_count": null,
   "id": "4883cf88",
   "metadata": {},
   "outputs": [],
   "source": []
  }
 ],
 "metadata": {
  "kernelspec": {
   "display_name": "Python 3 (ipykernel)",
   "language": "python",
   "name": "python3"
  },
  "language_info": {
   "codemirror_mode": {
    "name": "ipython",
    "version": 3
   },
   "file_extension": ".py",
   "mimetype": "text/x-python",
   "name": "python",
   "nbconvert_exporter": "python",
   "pygments_lexer": "ipython3",
   "version": "3.8.12"
  }
 },
 "nbformat": 4,
 "nbformat_minor": 5
}
