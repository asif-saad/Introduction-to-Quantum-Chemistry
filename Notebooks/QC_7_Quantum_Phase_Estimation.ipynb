{
 "cells": [
  {
   "cell_type": "markdown",
   "id": "b6c2471f",
   "metadata": {},
   "source": [
    "<a href=\"https://qworld.net\" target=\"_blank\" align=\"left\"><img src=\"../qworld/images/header.jpg\"  align=\"left\"></a>\n",
    "_prepared by Fazal Abbas_"
   ]
  },
  {
   "cell_type": "markdown",
   "id": "ea2f8d6b",
   "metadata": {},
   "source": [
    "<table width=\"100%\"><tr><td style=\"color:#bbbbbb;background-color:#ffffff;font-size:11px;font-style:italic;text-align:right;\">This cell contains some macros. If there is a problem with displaying mathematical formulas, please run this cell to load these macros. </td></tr></table>\n",
    "$ \\newcommand{\\bra}[1]{\\langle #1|} $\n",
    "$ \\newcommand{\\ket}[1]{|#1\\rangle} $\n",
    "$ \\newcommand{\\braket}[2]{\\langle #1|#2\\rangle} $\n",
    "$ \\newcommand{\\dot}[2]{ #1 \\cdot #2} $\n",
    "$ \\newcommand{\\biginner}[2]{\\left\\langle #1,#2\\right\\rangle} $\n",
    "$ \\newcommand{\\mymatrix}[2]{\\left( \\begin{array}{#1} #2\\end{array} \\right)} $\n",
    "$ \\newcommand{\\myvector}[1]{\\mymatrix{c}{#1}} $\n",
    "$ \\newcommand{\\myrvector}[1]{\\mymatrix{r}{#1}} $\n",
    "$ \\newcommand{\\mypar}[1]{\\left( #1 \\right)} $\n",
    "$ \\newcommand{\\mybigpar}[1]{ \\Big( #1 \\Big)} $\n",
    "$ \\newcommand{\\sqrttwo}{\\frac{1}{\\sqrt{2}}} $\n",
    "$ \\newcommand{\\dsqrttwo}{\\dfrac{1}{\\sqrt{2}}} $\n",
    "$ \\newcommand{\\onehalf}{\\frac{1}{2}} $\n",
    "$ \\newcommand{\\donehalf}{\\dfrac{1}{2}} $\n",
    "$ \\newcommand{\\hadamard}{ \\mymatrix{rr}{ \\sqrttwo & \\sqrttwo \\\\ \\sqrttwo & -\\sqrttwo }} $\n",
    "$ \\newcommand{\\vzero}{\\myvector{1\\\\0}} $\n",
    "$ \\newcommand{\\vone}{\\myvector{0\\\\1}} $\n",
    "$ \\newcommand{\\stateplus}{\\myvector{ \\sqrttwo \\\\  \\sqrttwo } } $\n",
    "$ \\newcommand{\\stateminus}{ \\myrvector{ \\sqrttwo \\\\ -\\sqrttwo } } $\n",
    "$ \\newcommand{\\myarray}[2]{ \\begin{array}{#1}#2\\end{array}} $\n",
    "$ \\newcommand{\\X}{ \\mymatrix{cc}{0 & 1 \\\\ 1 & 0}  } $\n",
    "$ \\newcommand{\\Z}{ \\mymatrix{rr}{1 & 0 \\\\ 0 & -1}  } $\n",
    "$ \\newcommand{\\Htwo}{ \\mymatrix{rrrr}{ \\frac{1}{2} & \\frac{1}{2} & \\frac{1}{2} & \\frac{1}{2} \\\\ \\frac{1}{2} & -\\frac{1}{2} & \\frac{1}{2} & -\\frac{1}{2} \\\\ \\frac{1}{2} & \\frac{1}{2} & -\\frac{1}{2} & -\\frac{1}{2} \\\\ \\frac{1}{2} & -\\frac{1}{2} & -\\frac{1}{2} & \\frac{1}{2} } } $\n",
    "$ \\newcommand{\\CNOT}{ \\mymatrix{cccc}{1 & 0 & 0 & 0 \\\\ 0 & 1 & 0 & 0 \\\\ 0 & 0 & 0 & 1 \\\\ 0 & 0 & 1 & 0} } $\n",
    "$ \\newcommand{\\norm}[1]{ \\left\\lVert #1 \\right\\rVert } $\n",
    "$ \\newcommand{\\pstate}[1]{ \\lceil \\mspace{-1mu} #1 \\mspace{-1.5mu} \\rfloor } $"
   ]
  },
  {
   "cell_type": "markdown",
   "id": "397e2788",
   "metadata": {},
   "source": [
    "\n"
   ]
  },
  {
   "cell_type": "markdown",
   "id": "54b24200",
   "metadata": {},
   "source": [
    "***\n",
    "<i><b>In the following notebook, we aim to develop and learn a quantum algorithm by using <u><i>Quantum Phase Estimation and by using QPE try <i></u> to solve the <u><i>Schrodinger Equation<i></u> for a simple chemical system such as <u><i>\"Hydrogen atom\"</u><i> and then generalize the results to apply on more <u><i>complex chemical systems such as Lithiumhydride LiH<i></u> (different atoms,molecules and ions). In this journey we are going to explore an essential goal and an important application of Quantum Computation that is to simulate the quantum systems using information which is quantum mechanical in nature (Richard Feyman 1982). Before going on to develop a quantum algorithm dealing with the Schrodinger Equation we will first explore the idea behind Quantum Phase Estimation in Quantum Information Science. We will explore whether QPE is an ideal approach to find the solution of schrodinger equation for many complex molecules which is indeed a complex task analytically or some modification to the QPE algorithm is required. We will also explore whether some other techniques are required to fully simulate chemical problems on quantum computers efficiently with reliable results such as VQE. </b></i>\n",
    "***\n"
   ]
  },
  {
   "cell_type": "markdown",
   "id": "0ad0046c",
   "metadata": {},
   "source": [
    "\n",
    "### <u>Quantum Fourier Transform and Quantum Phase Estimation:</u> \n",
    "\n",
    "In Quantum Computing, phase estimation is a quantum algorithm that can be used to estimate the eigen values of a Unitary Operator and by using this application of QPE, we can develop efficient quantum algorithms to tackle the most complex problems in Quantum Chemistry. Quantum Phase estimation algorithm was initially proposed by Alexei Yurievich Kitaev, a Russian–American professor of physics at the California Institute of Technology and permanent member of the Kavli Institute for Theoretical Physics.\n",
    "\n",
    "Let's Describe on a broader view the action of Quantum Phase Estimation Algorithm and then we will undergo a detailed explanation of Quantum Fourier Transform and how it leads to Quantum Phase estimation algorithm. Suppose we have a Unitary Operator $\\hat{U}$ such that,\n",
    ">$\\hat{U} \\ket{\\psi} = e^{2\\pi i \\phi}\\ket{\\psi}$ , then the algorithm can estimate the value of $\\phi$ with certain high probability.<br>\n",
    "\n",
    "<b><i> Why Transformation is required is natural sciences complex problems?<b><i><br><br>\n",
    "Often in many mathematical or physical problems we need to transform the problem from the original space (in which the problem lies and it's solution is more difficult) to a another space for which we can find out the solution more easily. Hence we indirectly find out the solution of the original problem and for the actual solution of the problem we just need to perform the reverse operation to get back to the original space. This strategy is more clearly depicted in the following diagram presented below.\n",
    "<img src='../pictures/f_t.png'>\n",
    "\n",
    "Quantum computers can perform computation of same type of transformations more efficiently than classical computers and this advantage has tremendous consequences for building up quantum algorithms that have their no classical counterparts.\n",
    "\n",
    "<i><u><b>Discrete Fourier Transform<i><u><b> <br>\n",
    "    \n",
    "    \n",
    "The mathematical form of the discrete fourier transform takes the form, <br>\n",
    "    $$ y_k  \\equiv  \\frac{1}{\\sqrt{N}}  \\sum_{j=0}^{N-1} x_j e^{\\frac{2\\pi ijk}{N}}\n",
    "    $$\n",
    "    \n",
    "where it takes the input a vector containing the complex entries $x0,x1,x2,...,xN−1$ and transform it to a vector of complex numbers $y0,y2,y3...,yN−1$.\n",
    "\n",
    "    \n",
    "<i><u><b>Quantum Fourier Transform:<i><u><b> <br>\n",
    "\n",
    "The Quantum Fourier Transform can be expressed mathematically as the linear operator acting on the states transforming it as,\n",
    "    $$\\ket{j}\\Rightarrow \\frac{1}{\\sqrt{N}}  \\sum_{j=0}^{N-1}e^{\\frac{2\\pi ijk}{N}}\\ket{k} $$\n",
    "\n",
    "Above defined is the linear transformation of orthonormal basis state $\\ket{j}$ to another set of orthonormal basis state $\\ket{j}$.\n",
    "\n",
    "We can also define the same action of a Quantum Fourier Transform Operator on an arbitrary quantum state as,\n",
    "$$\\sum_{j=0}^{N-1}x_j\\ket{j}\\Rightarrow\\sum_{k=0}^{N-1}y_k\\ket{k}$$\n",
    "    \n",
    "\n",
    "We can understand the action of Quantum Fourier in the following way: \n",
    "    $$ \\ket{State-in-computational-basis} \\rightarrow \\ket{State-in-fourier-basis} $$\n",
    "    \n",
    "  $$ QFT \\ket{x} = \\ket{\\tilde{x}} $$\n",
    "    \n",
    "<i>QFT is actually a function that can perform transformation from one basis state (For example computational Basis) to another basis states (For example Fourier Basis)</i>.<br>\n",
    "    \n",
    "\n",
    "    \n",
    "   \n",
    "\n",
    "\n",
    "\n",
    "\n",
    "\n",
    "\n",
    "    \n",
    "\n",
    "    \n",
    "\n",
    "\n"
   ]
  },
  {
   "cell_type": "markdown",
   "id": "e7a441e3",
   "metadata": {},
   "source": [
    "<i><u><b>Mathematical treatment and Further illustration on QFT:<i><u><b> <br> <br>\n",
    "    \n",
    "Let's suppose that we have a general quantum state expressed in the basis 'j' (Computational basis) and we want to apply and see the action of QFT on it. The quantum state expressed in computational basis 'j' is , $$\\ket{\\psi}_j  =  \\sum_{j=0}^{N-1}x_{j}\\ket{j}$$\n",
    "    \n",
    "Then a linear operator QFT acted upon the state as, $\\hat{QFT}\\ket{\\psi}_j\\Rightarrow {} State?$<br> \n",
    "Quantum fourier transform transforms the given basis set to another basis set as explained mathematically below.<br>\n",
    "$$\\hat{QFT}\\ket{j} \\Rightarrow \\frac{1}{\\sqrt{N}}\\sum_{k=0}^{N-1} e^{\\frac{2\\pi ijk}{N}}\\ket{k}$$<br>\n",
    "Therefore, $$\\hat{QFT}\\ket{\\psi}_j =\\sum_{j=0}^{N-1}x_j \\left [ \\frac{1}{\\sqrt{N}}\\sum_{k=0}^{N-1}e\\frac{2\\pi ijk}{N}\\ket{k}\\right ] $$<br>\n",
    "$$ = \\sum_{k=0}^{N-1}\\left [\\frac{1}{\\sqrt{N}}\\sum_{j=0}^{N-1}x_j e\\frac{2\\pi ijk}{N}\\right] \\ket{k}$$\n",
    "The term is parenthesis is $y_k$ therefore,\n",
    "above expression computes to to $$=\\sum_{k=0}^{N-1} y_k \\ket{k}$$\n",
    "From this mathematical perspective we should emphasize that quantum fourier transform is the discrete fourier transform of the amplitudes of a quantum state.It transforms the quantum state between two basis, the computational (Z-basis) and the Fourier Basis. For example, an application of Hadamard gate in quantum algorithms is a single qubit QFT transformation that makes the quantum state transform from Z-Basis $\\ket{0}$ & $\\ket{1}$ to X-basis that is $\\ket{+}$ and $\\ket{-}$, creating a superposition of both computational basis (Z).\n"
   ]
  },
  {
   "cell_type": "markdown",
   "id": "ab2fd10c",
   "metadata": {},
   "source": [
    "<i><u><b>Quantum Fourier Transform circuit implementation using Qiskit :<i><u><b> <br> <br>\n",
    "<br>\n",
    "    \n",
    "Suppose we have n-qubits $q_n$ on which we perform the QFT operation\n",
    "$\\ket{q_1 q_2 q_3 ...q_N} = QFT \\ket{j_1 j_2 j_3...j_N}$. The implementation of QFT algorithm visualized as below.\n",
    "<img src='../pictures/QFT.png'>\n",
    "$$\\ket{q} = \\ket{q_1q_2q_3...q_N}$$\n",
    "$\\Rightarrow \\ket{q} = \\frac{1}{\\sqrt{N}}\\sum_{k=0}^{k=N-1}e\\frac{2\\pi ijk}{N}\\ket{k}$<br>\n",
    "If we write $\\ket{k}$ in binary representation as $\\ket{k} = k_{1} \\times 2^{n-1} + k_2 \\times 2^{n-2} ... k_{n-1}\\times 2^1+.. k_n \\times 2^0$ then,<br>\n",
    "    \n",
    "$$ \\ket{q} =  \\frac{1}{\\sqrt{N}}\\sum_{k=0}^{N-1}[e^{2\\pi ij \\frac{1}{2^n}\\sum_{l=1}^{N}k_l 2^{n-l}}]\\ket{k}$$<br>\n",
    "    \n",
    "$$=  \\frac{1}{\\sqrt{N}}\\sum_{k=0}^{N-1}[e^{2\\pi ij \\sum_{l=1}^{N}k_l 2^{-l}}]\\ket{k}$$<br>\n",
    "    \n",
    "The term is parenthesis that is the power of exponential can be expanded as, $$ \\bigl( e^{2\\pi ijk_12^{-1}+2\\pi ijk_2 2^{-2}}+...\\bigl)$$<br>\n",
    "    \n",
    "Therefore, $$ \\ket{q} = \\frac{1}{\\sqrt{N}}\\sum_{k=0}^{N-1}[e^{2\\pi ij\\sum_{l=0}^{N} 2^{-l}}] \\ket{k} $$<br>\n",
    "$$ =\\frac{1}{\\sqrt{N}}\\sum_{k=0}^{N-1}\\bigl(\\bigotimes_{l=1}^{N}e^{2\\pi ijk_l 2^{-l}}\\bigl) \\ket{k} $$<br>\n",
    "$$=\\frac{1}{\\sqrt{2^n}}\\sum_{k_1=0}^{1} \\sum_{k_2=0}^{1} \\sum_{k_3=0}^{1} ... \\sum_{k_n=0}^{1} \\bigl(\\bigotimes_{l=1}^{N}e^{2\\pi ijk_l2^{-l}}\\bigl) \\ket{k_1k_2k_3...k_n} $$ <br>\n",
    "$$ = \\bigl(\\frac{1}{\\sqrt{2}}\\bigl)^n \\bigotimes_{l=1}^{N} \\sum_{k_l=0}^{1} \\bigl(e^{2 \\pi ijk_l 2^{-l} \\ket{k_l}}\\bigl)$$\n",
    "$$ = \\bigl(\\frac{1}{\\sqrt{2}}\\bigl)^n \\bigl(\\sum_{k_1=0}^{1} e^{2 \\pi ijk_1 2^{-1}} \\ket{k_1}\\bigl) \\bigotimes\\bigl(\\sum_{k_2=0}^{1} e^{2 \\pi ijk_2 2^{-2}} \\ket{k_2}\\bigl) \\bigotimes \\bigl(\\sum_{k_3=0}^{1} e^{2 \\pi ijk_3 2^{-3}} \\ket{k_3}\\bigl) ....\\bigotimes\\bigl(\\sum_{k_n=0}^{1} e^{2 \\pi ijk_n 2^{-n}} \\ket{k_n}\\bigl) $$<br>\n",
    "$$q = \\bigl(\\frac{\\ket{0}+e^{2\\pi ij2^{-1}}\\ket{1}}{\\sqrt{2}}\\bigl)\\otimes \\bigl(\\frac{\\ket{0}+e^{2\\pi ij2^{-2}}\\ket{1}}{\\sqrt{2}}\\bigl)\\otimes \\bigl(\\frac{\\ket{0}+e^{2\\pi ij2^{-3}}\\ket{1}}{\\sqrt{2}}\\bigl)\\otimes ....\\otimes \\bigl(\\frac{\\ket{0}+e^{2\\pi ij2^{-n}}\\ket{1}}{\\sqrt{2}}\\bigl) $$<br>\n",
    "where, $$\\ket{q} = \\ket{q_1 q_2 a_3 ...q_n}$$<br>\n",
    "<b><i>Evaluating $q_1$<b><i>:<br>\n",
    "$$\\ket{q_1} = \\frac{\\ket{0}+e^{2\\pi i \\frac{j}{2}}\\ket{1}}{\\sqrt{2}}$$<br>\n",
    "$$ e^{2\\pi i\\frac{j}{2}} = e^{2\\pi i \\frac{j_1 \\times 2^{n-1}}{2}}$$\n",
    "    "
   ]
  },
  {
   "cell_type": "markdown",
   "id": "2768b7bc",
   "metadata": {},
   "source": [
    "\n",
    " "
   ]
  }
 ],
 "metadata": {
  "kernelspec": {
   "display_name": "Python 3 (ipykernel)",
   "language": "python",
   "name": "python3"
  },
  "language_info": {
   "codemirror_mode": {
    "name": "ipython",
    "version": 3
   },
   "file_extension": ".py",
   "mimetype": "text/x-python",
   "name": "python",
   "nbconvert_exporter": "python",
   "pygments_lexer": "ipython3",
   "version": "3.8.12"
  }
 },
 "nbformat": 4,
 "nbformat_minor": 5
}
