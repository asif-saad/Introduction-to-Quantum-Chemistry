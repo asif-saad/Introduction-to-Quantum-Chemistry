{
 "cells": [
  {
   "cell_type": "markdown",
   "id": "b6c2471f",
   "metadata": {},
   "source": [
    "<a href=\"https://qworld.net\" target=\"_blank\" align=\"left\"><img src=\"../qworld/images/header.jpg\"  align=\"left\"></a>\n",
    "_prepared by Asif Saad and Buvan Prajwal_"
   ]
  },
  {
   "cell_type": "markdown",
   "id": "4ab78f01",
   "metadata": {},
   "source": [
    "# Introduction"
   ]
  },
  {
   "cell_type": "markdown",
   "id": "b73040a7",
   "metadata": {},
   "source": [
    "Qiskit is an open-source SDK for working with quantum computers at the level of circuits, algorithms, and application modules.\n",
    "\n",
    "It is made up of elements that work together to enable quantum computing. This is a simple meta-package to install the elements of Qiskit altogether. \n",
    "\n",
    "As a python library, the features and contents of it could be changing from time to time, therefore, to remain updated, it is recommended to keep upgrading the qiskit packages.\n",
    "\n",
    "```pip install qiskit --upgrade```\n",
    "\n"
   ]
  },
  {
   "cell_type": "code",
   "execution_count": 5,
   "id": "b51a019d",
   "metadata": {},
   "outputs": [],
   "source": [
    "import qiskit"
   ]
  },
  {
   "cell_type": "markdown",
   "id": "6ee16016",
   "metadata": {},
   "source": [
    "# Quantum Register"
   ]
  },
  {
   "cell_type": "markdown",
   "id": "cfed837e",
   "metadata": {},
   "source": [
    "Among all others elements, in this notebook we will only be implementing qiskit Aer, as it preferred due to the fact that it being a high-performance simulator framework for studying quantum computing algorithms and applications in the noisy intermediate scale quantum (NISQ) regime.\n",
    "\n",
    "The ```QunatumCircuit``` , ```QuantumRegister``` , ```ClassicalRegister``` are the main objectives for Qiskit Aer.\n",
    "\n",
    "<br>\n",
    "\n",
    "The job of QuantumRegister is to hold all the qubits and the corresponding implemented operators and measuring gates.\n",
    "The number of qubits and the name of that particular quantum register can be defined by setting them as ```QuantumRegister()``` parameters.\n",
    "\n",
    "However, everytime the ```QuantumRegister()``` has to be imported from the qiskit library."
   ]
  },
  {
   "cell_type": "code",
   "execution_count": 6,
   "id": "752d364b",
   "metadata": {},
   "outputs": [],
   "source": [
    "from qiskit import QuantumRegister"
   ]
  },
  {
   "cell_type": "code",
   "execution_count": 7,
   "id": "76d476cf",
   "metadata": {},
   "outputs": [],
   "source": [
    "q0=QuantumRegister(2,'first Quantum Register')"
   ]
  },
  {
   "cell_type": "code",
   "execution_count": 14,
   "id": "b32d3fc8",
   "metadata": {},
   "outputs": [
    {
     "name": "stdout",
     "output_type": "stream",
     "text": [
      "QuantumRegister(2, 'first Quantum Register') \n",
      "\n",
      "No of qubits in q0:  2\n",
      "\n",
      "Assigned name of the qiskit:  first Quantum Register\n"
     ]
    }
   ],
   "source": [
    "print(q0,\"\\n\")\n",
    "print(\"No of qubits in q0: \",q0.size)\n",
    "print(\"\\nAssigned name of the q0: \",q0.name)"
   ]
  },
  {
   "cell_type": "markdown",
   "id": "941d69b4",
   "metadata": {},
   "source": [
    "However, the second parameter is not required, only the first parameter is necessary to initiate a quantum register."
   ]
  },
  {
   "cell_type": "code",
   "execution_count": 17,
   "id": "49eabd27",
   "metadata": {},
   "outputs": [
    {
     "name": "stdout",
     "output_type": "stream",
     "text": [
      "QuantumRegister(2, 'q2') \n",
      "\n",
      "No of qubits in q1:  2\n",
      "\n",
      "Assigned name of the qtest:  q2\n"
     ]
    }
   ],
   "source": [
    "qtest=QuantumRegister(2)\n",
    "print(qtest,\"\\n\")\n",
    "print(\"No of qubits in q1: \",qtest.size)\n",
    "print(\"\\nAssigned name of the qtest: \",qtest.name)\n",
    "# here the variable in which the QuantumRegister is stored, has been assigned the name of that quantum reigster"
   ]
  },
  {
   "cell_type": "code",
   "execution_count": null,
   "id": "e86acf5d",
   "metadata": {},
   "outputs": [],
   "source": []
  },
  {
   "cell_type": "code",
   "execution_count": null,
   "id": "60e275f8",
   "metadata": {},
   "outputs": [],
   "source": []
  },
  {
   "cell_type": "code",
   "execution_count": null,
   "id": "39df67e1",
   "metadata": {},
   "outputs": [],
   "source": []
  },
  {
   "cell_type": "markdown",
   "id": "c125ac00",
   "metadata": {},
   "source": [
    "# Classical Register"
   ]
  },
  {
   "cell_type": "markdown",
   "id": "fe020b05",
   "metadata": {},
   "source": [
    "# Circuit Creation"
   ]
  },
  {
   "cell_type": "markdown",
   "id": "be4038d2",
   "metadata": {},
   "source": [
    "# Quantum Gates"
   ]
  },
  {
   "cell_type": "markdown",
   "id": "63cff696",
   "metadata": {},
   "source": [
    "# Qunatum Simulator"
   ]
  },
  {
   "cell_type": "markdown",
   "id": "a04316be",
   "metadata": {},
   "source": [
    "## Qasm Simulator"
   ]
  },
  {
   "cell_type": "markdown",
   "id": "07f9317f",
   "metadata": {},
   "source": [
    "## Statevector"
   ]
  },
  {
   "cell_type": "markdown",
   "id": "cf79a659",
   "metadata": {},
   "source": [
    "## Unitary Simulator"
   ]
  }
 ],
 "metadata": {
  "kernelspec": {
   "display_name": "Python 3",
   "language": "python",
   "name": "python3"
  },
  "language_info": {
   "codemirror_mode": {
    "name": "ipython",
    "version": 3
   },
   "file_extension": ".py",
   "mimetype": "text/x-python",
   "name": "python",
   "nbconvert_exporter": "python",
   "pygments_lexer": "ipython3",
   "version": "3.8.8"
  }
 },
 "nbformat": 4,
 "nbformat_minor": 5
}
