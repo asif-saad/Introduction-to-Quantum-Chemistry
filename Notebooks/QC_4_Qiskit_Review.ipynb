{
 "cells": [
  {
   "cell_type": "markdown",
   "id": "b6c2471f",
   "metadata": {},
   "source": [
    "<a href=\"https://qworld.net\" target=\"_blank\" align=\"left\"><img src=\"../qworld/images/header.jpg\"  align=\"left\"></a>\n",
    "_prepared by Asif Saad and Buvan Prajwal_"
   ]
  },
  {
   "cell_type": "markdown",
   "id": "abf2b82d",
   "metadata": {},
   "source": [
    "# Introduction"
   ]
  },
  {
   "cell_type": "markdown",
   "id": "2387131b",
   "metadata": {},
   "source": [
    "Qiskit is an open-source SDK for working with quantum computers at the level of circuits, algorithms, and application modules.\n",
    "\n",
    "It is made up of elements that work together to enable quantum computing. This is a simple meta-package to install the elements of Qiskit altogether. \n",
    "\n",
    "As a python library, the features and contents of it could be changing from time to time, therefore, to remain updated, it is recommended to keep upgrading the qiskit packages.\n",
    "\n",
    "```pip install qiskit --upgrade```\n",
    "\n"
   ]
  },
  {
   "cell_type": "code",
   "execution_count": 5,
   "id": "b619fca5",
   "metadata": {},
   "outputs": [],
   "source": [
    "import qiskit"
   ]
  },
  {
   "cell_type": "markdown",
   "id": "45ed6892",
   "metadata": {},
   "source": [
    "# Quantum Register"
   ]
  },
  {
   "cell_type": "markdown",
   "id": "a93cf231",
   "metadata": {},
   "source": [
    "Among all others elements, in this notebook we will only be implementing qiskit Aer, as it preferred due to the fact that it being a high-performance simulator framework for studying quantum computing algorithms and applications in the noisy intermediate scale quantum (NISQ) regime.\n",
    "\n",
    "The ```QunatumCircuit``` , ```QuantumRegister``` , ```ClassicalRegister``` are the main objectives for Qiskit Aer.\n",
    "\n",
    "<br>\n",
    "\n",
    "The job of QuantumRegister is to hold all the qubits and the corresponding implemented operators and measuring gates.\n",
    "The number of qubits and the name of that particular quantum register can be defined by setting them as ```QuantumRegister()``` parameters.\n",
    "\n",
    "However, everytime the ```QuantumRegister()``` has to be imported from the qiskit library."
   ]
  },
  {
   "cell_type": "code",
   "execution_count": 6,
   "id": "a52ce936",
   "metadata": {},
   "outputs": [],
   "source": [
    "from qiskit import QuantumRegister"
   ]
  },
  {
   "cell_type": "code",
   "execution_count": 7,
   "id": "7644645b",
   "metadata": {},
   "outputs": [],
   "source": [
    "q0=QuantumRegister(2,'first Quantum Register')"
   ]
  },
  {
   "cell_type": "code",
   "execution_count": 14,
   "id": "bbe0485f",
   "metadata": {},
   "outputs": [
    {
     "name": "stdout",
     "output_type": "stream",
     "text": [
      "QuantumRegister(2, 'first Quantum Register') \n",
      "\n",
      "No of qubits in q0:  2\n",
      "\n",
      "Assigned name of the qiskit:  first Quantum Register\n"
     ]
    }
   ],
   "source": [
    "print(q0,\"\\n\")\n",
    "print(\"No of qubits in q0: \",q0.size)\n",
    "print(\"\\nAssigned name of the q0: \",q0.name)"
   ]
  },
  {
   "cell_type": "markdown",
   "id": "3fdd5ae9",
   "metadata": {},
   "source": [
    "However, the second parameter is not required, only the first parameter is necessary to initiate a quantum register."
   ]
  },
  {
   "cell_type": "code",
   "execution_count": 17,
   "id": "985d2b08",
   "metadata": {},
   "outputs": [
    {
     "name": "stdout",
     "output_type": "stream",
     "text": [
      "QuantumRegister(2, 'q2') \n",
      "\n",
      "No of qubits in q1:  2\n",
      "\n",
      "Assigned name of the qtest:  q2\n"
     ]
    }
   ],
   "source": [
    "qtest=QuantumRegister(2)\n",
    "print(qtest,\"\\n\")\n",
    "print(\"No of qubits in q1: \",qtest.size)\n",
    "print(\"\\nAssigned name of the qtest: \",qtest.name)\n",
    "# here the variable in which the QuantumRegister is stored, has been assigned the name of that quantum reigster"
   ]
  },
  {
   "cell_type": "markdown",
   "id": "a658c29e",
   "metadata": {},
   "source": [
    "It is even possible to test whether 2 Quantum Register are same or not"
   ]
  },
  {
   "cell_type": "code",
   "execution_count": 18,
   "id": "075079b0",
   "metadata": {},
   "outputs": [
    {
     "data": {
      "text/plain": [
       "True"
      ]
     },
     "execution_count": 18,
     "metadata": {},
     "output_type": "execute_result"
    }
   ],
   "source": [
    "q0==q0"
   ]
  },
  {
   "cell_type": "code",
   "execution_count": 19,
   "id": "9a666a90",
   "metadata": {},
   "outputs": [
    {
     "data": {
      "text/plain": [
       "False"
      ]
     },
     "execution_count": 19,
     "metadata": {},
     "output_type": "execute_result"
    }
   ],
   "source": [
    "q0==qtest"
   ]
  },
  {
   "cell_type": "markdown",
   "id": "05c6ae63",
   "metadata": {},
   "source": [
    "# Classical Register"
   ]
  },
  {
   "cell_type": "markdown",
   "id": "fe79b1c7",
   "metadata": {},
   "source": [
    "# Circuit Creation"
   ]
  },
  {
   "cell_type": "markdown",
   "id": "2cd18a1e",
   "metadata": {},
   "source": [
    "# Quantum Gates"
   ]
  },
  {
   "cell_type": "markdown",
   "id": "b5d31e2f",
   "metadata": {},
   "source": [
    "# Qunatum Simulator"
   ]
  },
  {
   "cell_type": "markdown",
   "id": "86ea717c",
   "metadata": {},
   "source": [
    "## Qasm Simulator"
   ]
  },
  {
   "cell_type": "markdown",
   "id": "defeff27",
   "metadata": {},
   "source": [
    "## Statevector"
   ]
  },
  {
   "cell_type": "markdown",
   "id": "42cc538e",
   "metadata": {},
   "source": [
    "## Unitary Simulator"
   ]
  }
 ],
 "metadata": {
  "kernelspec": {
   "display_name": "Python 3",
   "language": "python",
   "name": "python3"
  },
  "language_info": {
   "codemirror_mode": {
    "name": "ipython",
    "version": 3
   },
   "file_extension": ".py",
   "mimetype": "text/x-python",
   "name": "python",
   "nbconvert_exporter": "python",
   "pygments_lexer": "ipython3",
   "version": "3.8.8"
  }
 },
 "nbformat": 4,
 "nbformat_minor": 5
}
