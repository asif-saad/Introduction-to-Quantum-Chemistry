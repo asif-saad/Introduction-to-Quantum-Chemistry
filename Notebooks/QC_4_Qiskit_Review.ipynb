{
 "cells": [
  {
   "cell_type": "markdown",
   "id": "b6c2471f",
   "metadata": {},
   "source": [
    "<a href=\"https://qworld.net\" target=\"_blank\" align=\"left\"><img src=\"../qworld/images/header.jpg\"  align=\"left\"></a>\n",
    "_prepared by Asif Saad and Buvan Prajwal_"
   ]
  },
  {
   "cell_type": "markdown",
   "id": "abf2b82d",
   "metadata": {},
   "source": [
    "# Introduction"
   ]
  },
  {
   "cell_type": "markdown",
   "id": "2387131b",
   "metadata": {},
   "source": [
    "Qiskit is an open-source SDK for working with quantum computers at the level of circuits, algorithms, and application modules.\n",
    "\n",
    "It is made up of elements that work together to enable quantum computing. This is a simple meta-package to install the elements of Qiskit altogether. \n",
    "\n",
    "As a python library, the features and contents of it could be changing from time to time, therefore, to remain updated, it is recommended to keep upgrading the qiskit packages.\n",
    "\n",
    "```pip install qiskit --upgrade```\n",
    "\n",
    "\n",
    "**Remainder: Always import qiskit from your pc's local packages storage, if do so, only then you can access all the functions and objects under the qiskit library**\n"
   ]
  },
  {
   "cell_type": "code",
   "execution_count": 1,
   "id": "b619fca5",
   "metadata": {},
   "outputs": [],
   "source": [
    "import qiskit"
   ]
  },
  {
   "cell_type": "markdown",
   "id": "45ed6892",
   "metadata": {},
   "source": [
    "# Quantum Register"
   ]
  },
  {
   "cell_type": "markdown",
   "id": "a93cf231",
   "metadata": {},
   "source": [
    "Among all others elements, in this notebook we will only be implementing qiskit Aer, as it preferred due to the fact that it being a high-performance simulator framework for studying quantum computing algorithms and applications in the noisy intermediate scale quantum (NISQ) regime.\n",
    "The ```QunatumCircuit``` , ```QuantumRegister``` , ```ClassicalRegister``` are the main objectives for Qiskit Aer.\n",
    "<br>\n",
    "\n",
    "The job of QuantumRegister is to hold all the qubits and the corresponding implemented operators and measuring gates.\n",
    "The number of qubits and the name of that particular quantum register can be defined by setting them as ```QuantumRegister()``` parameters.\n",
    "\n",
    "However, everytime the ```QuantumRegister()``` has to be imported from the qiskit library."
   ]
  },
  {
   "cell_type": "code",
   "execution_count": 2,
   "id": "a52ce936",
   "metadata": {},
   "outputs": [],
   "source": [
    "from qiskit import QuantumRegister"
   ]
  },
  {
   "cell_type": "code",
   "execution_count": 3,
   "id": "7644645b",
   "metadata": {},
   "outputs": [],
   "source": [
    "q0=QuantumRegister(2,'first Quantum Register')"
   ]
  },
  {
   "cell_type": "code",
   "execution_count": 4,
   "id": "bbe0485f",
   "metadata": {},
   "outputs": [
    {
     "name": "stdout",
     "output_type": "stream",
     "text": [
      "QuantumRegister(2, 'first Quantum Register') \n",
      "\n",
      "No of qubits in q0:  2\n",
      "\n",
      "Assigned name of the q0:  first Quantum Register\n"
     ]
    }
   ],
   "source": [
    "print(q0,\"\\n\")\n",
    "print(\"No of qubits in q0: \",q0.size)\n",
    "print(\"\\nAssigned name of the q0: \",q0.name)"
   ]
  },
  {
   "cell_type": "markdown",
   "id": "3fdd5ae9",
   "metadata": {},
   "source": [
    "However, the second parameter is not required, only the first parameter is necessary to initiate a quantum register."
   ]
  },
  {
   "cell_type": "code",
   "execution_count": 5,
   "id": "985d2b08",
   "metadata": {},
   "outputs": [
    {
     "name": "stdout",
     "output_type": "stream",
     "text": [
      "QuantumRegister(2, 'q0') \n",
      "\n",
      "No of qubits in q1:  2\n",
      "\n",
      "Assigned name of the qtest:  q0\n"
     ]
    }
   ],
   "source": [
    "qtest=QuantumRegister(2)\n",
    "print(qtest,\"\\n\")\n",
    "print(\"No of qubits in q1: \",qtest.size)\n",
    "print(\"\\nAssigned name of the qtest: \",qtest.name)\n",
    "# here the variable in which the QuantumRegister is stored, has been assigned the name of that quantum reigster"
   ]
  },
  {
   "cell_type": "markdown",
   "id": "a658c29e",
   "metadata": {},
   "source": [
    "It is even possible to test whether 2 Quantum Register are same or not"
   ]
  },
  {
   "cell_type": "code",
   "execution_count": 6,
   "id": "075079b0",
   "metadata": {},
   "outputs": [
    {
     "data": {
      "text/plain": [
       "True"
      ]
     },
     "execution_count": 6,
     "metadata": {},
     "output_type": "execute_result"
    }
   ],
   "source": [
    "q0==q0"
   ]
  },
  {
   "cell_type": "code",
   "execution_count": 7,
   "id": "9a666a90",
   "metadata": {},
   "outputs": [
    {
     "data": {
      "text/plain": [
       "False"
      ]
     },
     "execution_count": 7,
     "metadata": {},
     "output_type": "execute_result"
    }
   ],
   "source": [
    "q0==qtest"
   ]
  },
  {
   "cell_type": "markdown",
   "id": "05c6ae63",
   "metadata": {},
   "source": [
    "# Classical Register"
   ]
  },
  {
   "cell_type": "markdown",
   "id": "1ba74bb7",
   "metadata": {},
   "source": [
    "Unlike Quantum Register, Classical Register is only to hold the classical data that can be retrieved by measuring the Quantum Register via the measuring gates on any conventional basis(generally on Z-axis).\n",
    "\n",
    "A Quantum Circuit can even be built and run without using any Classical Register, but no output can be taken from the circuit.\n",
    "\n",
    "Just like Quantum Register, Classical Register has to be imported from the qiskit library."
   ]
  },
  {
   "cell_type": "code",
   "execution_count": 8,
   "id": "1aaa1ec0",
   "metadata": {},
   "outputs": [],
   "source": [
    "from qiskit import ClassicalRegister"
   ]
  },
  {
   "cell_type": "markdown",
   "id": "40f6b67f",
   "metadata": {},
   "source": [
    "Classical Register can work only if there is any Quantum Register implemented beforehand, otherwise, if any classical register initialised, there would be no quantum circuit map to measure.\n",
    "\n",
    "Like Quantum Register, ```ClassicalRegister(no_of_bits_being_measured,name_of_the_register)``` can take 2 arguments, first: number of bits, second: name of the classical register. However, the classical register function can take only 1 argument."
   ]
  },
  {
   "cell_type": "code",
   "execution_count": 9,
   "id": "adc08285",
   "metadata": {},
   "outputs": [
    {
     "data": {
      "image/png": "[encoded data removed]",
      "text/plain": [
       "<Figure size 159.778x204.68 with 1 Axes>"
      ]
     },
     "execution_count": 9,
     "metadata": {},
     "output_type": "execute_result"
    }
   ],
   "source": [
    "from qiskit import QuantumCircuit\n",
    "q0=QuantumRegister(2)\n",
    "c0=ClassicalRegister(2)\n",
    "circuit=QuantumCircuit(q0,c0)\n",
    "circuit.x(q0[0])\n",
    "circuit.draw(output='mpl')"
   ]
  },
  {
   "cell_type": "markdown",
   "id": "fe79b1c7",
   "metadata": {},
   "source": [
    "# Quantum Circuit"
   ]
  },
  {
   "cell_type": "markdown",
   "id": "51b5c8f9",
   "metadata": {},
   "source": [
    "A quantum circuit is a computational routine consisting of coherent quantum operations on quantum data, such as qubits, and concurrent real-time classical computation. It is an ordered sequence of quantum gates, measurements and resets, all of which may be conditioned on and use data from the real-time classical computation.\n",
    "\n",
    "In simple words, it binds together quantum register and classical register and then yields the quantum computation.\n",
    "\n",
    "```QuantumCircuit()``` also has to be imported from the qiskit library and it takes 2 arguments in minimum, however, more than 2 arguments, can be passed to the function as per required(only when multiple classical and quantum registers are present)"
   ]
  },
  {
   "cell_type": "code",
   "execution_count": 10,
   "id": "fba0a92d",
   "metadata": {},
   "outputs": [
    {
     "data": {
      "image/png": "[encoded data removed]",
      "text/plain": [
       "<Figure size 146.652x204.68 with 1 Axes>"
      ]
     },
     "execution_count": 10,
     "metadata": {},
     "output_type": "execute_result"
    }
   ],
   "source": [
    "from qiskit import QuantumCircuit\n",
    "circuit=QuantumCircuit(2,2)\n",
    "circuit.x(0)\n",
    "circuit.draw(output='mpl')"
   ]
  },
  {
   "cell_type": "markdown",
   "id": "3e8e3b5e",
   "metadata": {},
   "source": [
    "```QuantumCircuit()``` can take arguments in form of registers, or it can be done as numerical values, like done above."
   ]
  },
  {
   "cell_type": "markdown",
   "id": "2cd18a1e",
   "metadata": {},
   "source": [
    "# Quantum Gates"
   ]
  },
  {
   "cell_type": "markdown",
   "id": "c8561795",
   "metadata": {},
   "source": [
    "The gates can be various types, some are single qubit based, some are multiple qubits based, and some are conditional gates."
   ]
  },
  {
   "cell_type": "markdown",
   "id": "078ff79d",
   "metadata": {},
   "source": [
    "### Single Qubit Gates\n",
    "\n",
    "#### Pauli X Gate\n",
    "The X-gate is represented by the Pauli-X matrix:\n",
    "<img src=\"../pictures/pauli_X.png\">"
   ]
  },
  {
   "cell_type": "code",
   "execution_count": 11,
   "id": "2504abb6",
   "metadata": {},
   "outputs": [
    {
     "data": {
      "image/png": "[encoded data removed]",
      "text/plain": [
       "<Figure size 133.526x84.28 with 1 Axes>"
      ]
     },
     "execution_count": 11,
     "metadata": {},
     "output_type": "execute_result"
    }
   ],
   "source": [
    "qc = QuantumCircuit(1)\n",
    "qc.x(0)\n",
    "qc.draw(output='mpl')"
   ]
  },
  {
   "cell_type": "markdown",
   "id": "5601e8b6",
   "metadata": {},
   "source": [
    "#### Pauli Y, Pauli Z Gate\n",
    "Similarly to the X-gate, the Y & Z Pauli matrices also act as the Y & Z-gates in our quantum circuits:\n",
    "<img src='../pictures/pauli_Y_Z.png'>"
   ]
  },
  {
   "cell_type": "code",
   "execution_count": 12,
   "id": "bafe743f",
   "metadata": {},
   "outputs": [
    {
     "data": {
      "image/png": "[encoded data removed]",
      "text/plain": [
       "<Figure size 146.652x144.48 with 1 Axes>"
      ]
     },
     "execution_count": 12,
     "metadata": {},
     "output_type": "execute_result"
    }
   ],
   "source": [
    "qc = QuantumCircuit(2)\n",
    "qc.y(0)\n",
    "qc.z(1)\n",
    "qc.draw(output='mpl')"
   ]
  },
  {
   "cell_type": "markdown",
   "id": "206a8972",
   "metadata": {},
   "source": [
    "#### Hadamard Gate\n",
    "The Hadamard gate (H-gate) is a fundamental quantum gate. It allows us to move away from the poles of the Bloch sphere and create a superposition of  |\n",
    "0\n",
    "⟩\n",
    "  and  |\n",
    "1\n",
    "⟩\n",
    " . It has the matrix:\n",
    " <img src='../pictures/hadamard_gate.png'>"
   ]
  },
  {
   "cell_type": "code",
   "execution_count": 13,
   "id": "373e0ba2",
   "metadata": {},
   "outputs": [
    {
     "data": {
      "image/png": "[encoded data removed]",
      "text/plain": [
       "<Figure size 133.526x84.28 with 1 Axes>"
      ]
     },
     "execution_count": 13,
     "metadata": {},
     "output_type": "execute_result"
    }
   ],
   "source": [
    "qc = QuantumCircuit(1)\n",
    "qc.h(0)\n",
    "qc.draw(output='mpl')"
   ]
  },
  {
   "cell_type": "markdown",
   "id": "ea653efd",
   "metadata": {},
   "source": [
    "#### Phase Gate\n",
    "The P-gate (phase gate) is parametrised, that is, it needs a number ( \n",
    "ϕ\n",
    " ) to tell it exactly what to do. The P-gate performs a rotation of  ϕ\n",
    "  around the Z-axis direction. It has the matrix form:\n",
    "  <img src='../pictures/p_gate.png'>"
   ]
  },
  {
   "cell_type": "code",
   "execution_count": 14,
   "id": "85b47d50",
   "metadata": {},
   "outputs": [
    {
     "data": {
      "image/png": "[encoded data removed]",
      "text/plain": [
       "<Figure size 133.526x84.28 with 1 Axes>"
      ]
     },
     "execution_count": 14,
     "metadata": {},
     "output_type": "execute_result"
    }
   ],
   "source": [
    "import math\n",
    "from math import pi\n",
    "qc = QuantumCircuit(1)\n",
    "qc.p(pi/4, 0)\n",
    "qc.draw(output='mpl')"
   ]
  },
  {
   "cell_type": "markdown",
   "id": "66f6812c",
   "metadata": {},
   "source": [
    "#### Identity Gate\n",
    "I-gate is simply a gate that does nothing. Its matrix is the identity matrix:\n",
    "<img src='../pictures/identity.png'>\n",
    "\n",
    "Applying the identity gate anywhere in your circuit should have no effect on the qubit state, so it’s interesting this is even considered a gate. There are two main reasons behind this, one is that it is often used in calculations, for example: proving the X-gate is its own inverse:\n",
    "<img src='../pictures/identity_relation.png'>\n",
    "The second, is that it is often useful when considering real hardware to specify a ‘do-nothing’ or ‘none’ operation"
   ]
  },
  {
   "cell_type": "code",
   "execution_count": 15,
   "id": "ab29c6c4",
   "metadata": {},
   "outputs": [
    {
     "data": {
      "image/png": "[encoded data removed]",
      "text/plain": [
       "<Figure size 133.526x84.28 with 1 Axes>"
      ]
     },
     "execution_count": 15,
     "metadata": {},
     "output_type": "execute_result"
    }
   ],
   "source": [
    "qc = QuantumCircuit(1)\n",
    "qc.i(0)\n",
    "qc.draw(output='mpl')"
   ]
  },
  {
   "cell_type": "markdown",
   "id": "c6042e78",
   "metadata": {},
   "source": [
    "#### S gate\n",
    "S-gate (sometimes known as the √\n",
    "Z\n",
    " -gate), is a P-gate with  ϕ\n",
    "=\n",
    "π\n",
    "/\n",
    "2\n",
    " . It does a quarter-turn around the Bloch sphere. It is important to note that unlike every gate introduced in this chapter so far, the S-gate is not its own inverse! As a result, you will often see the S†-gate, (also “S-dagger”, “Sdg” or √\n",
    "Z\n",
    "†\n",
    " -gate). The S†-gate is clearly an P-gate with  ϕ\n",
    "=\n",
    "−\n",
    "π\n",
    "/\n",
    "2\n",
    " :\n",
    " <img src='../pictures/s_gate.png'>\n",
    " The name \" \n",
    "√\n",
    "Z\n",
    " -gate\" is due to the fact that two successively applied S-gates has the same effect as one Z-gate:\n",
    " \n",
    " <img src='../pictures/ss_z.png'>"
   ]
  },
  {
   "cell_type": "code",
   "execution_count": 16,
   "id": "a5102888",
   "metadata": {},
   "outputs": [
    {
     "data": {
      "image/png": "[encoded data removed]",
      "text/plain": [
       "<Figure size 193.726x84.28 with 1 Axes>"
      ]
     },
     "execution_count": 16,
     "metadata": {},
     "output_type": "execute_result"
    }
   ],
   "source": [
    "qc = QuantumCircuit(1)\n",
    "qc.s(0)\n",
    "qc.sdg(0)\n",
    "qc.draw(output='mpl')"
   ]
  },
  {
   "cell_type": "markdown",
   "id": "55769001",
   "metadata": {},
   "source": [
    "#### T Gate\n",
    "The T-gate is a very commonly used gate, it is an P-gate with  \n",
    " ϕ\n",
    "=\n",
    "π\n",
    "/\n",
    "4\n",
    " :\n",
    " <img src='../pictures/t_gate.png'>\n",
    " As with the S-gate, the T-gate is sometimes also known as the  4√Z -gate."
   ]
  },
  {
   "cell_type": "code",
   "execution_count": 17,
   "id": "dd8d20dd",
   "metadata": {},
   "outputs": [
    {
     "data": {
      "image/png": "[encoded data removed]",
      "text/plain": [
       "<Figure size 193.726x84.28 with 1 Axes>"
      ]
     },
     "execution_count": 17,
     "metadata": {},
     "output_type": "execute_result"
    }
   ],
   "source": [
    "qc = QuantumCircuit(1)\n",
    "qc.t(0)\n",
    "qc.tdg(0)\n",
    "qc.draw(output='mpl')"
   ]
  },
  {
   "cell_type": "markdown",
   "id": "b5d31e2f",
   "metadata": {},
   "source": [
    "# Qunatum Simulator"
   ]
  },
  {
   "cell_type": "markdown",
   "id": "86ea717c",
   "metadata": {},
   "source": [
    "## Qasm Simulator"
   ]
  },
  {
   "cell_type": "markdown",
   "id": "6153a60f",
   "metadata": {},
   "source": [
    "As there has been multiple number of simulators as per required, qasm simulator has been developed to mimic the noisy quantum computer features and show the outputs like an actual quantum computer, but it is being run locally in your pc.\n",
    "More can be found from [here about execute() function](https://sooluthomas.github.io/testTranslation/autodoc/qiskit.execute.html) and about the [qasm simulator](https://www.youtube.com/watch?v=V4CwN4rEtVQ) and how to utiltise and visualise the outcome."
   ]
  },
  {
   "cell_type": "code",
   "execution_count": 33,
   "id": "ffbe07f9",
   "metadata": {},
   "outputs": [
    {
     "name": "stdout",
     "output_type": "stream",
     "text": [
      "{'011': 497, '010': 503}\n"
     ]
    }
   ],
   "source": [
    "from qiskit import execute,Aer\n",
    "q0=QuantumRegister(3)\n",
    "c0=ClassicalRegister(3)\n",
    "qc=QuantumCircuit(q0,c0)\n",
    "qc.h(q0[0])\n",
    "qc.x(q0[1])\n",
    "qc.measure(q0,c0)\n",
    "job = execute(qc,Aer.get_backend('qasm_simulator'),shots=1000)\n",
    "counts = job.result().get_counts(qc)   \n",
    "print(counts)"
   ]
  },
  {
   "cell_type": "markdown",
   "id": "defeff27",
   "metadata": {},
   "source": [
    "## Statevector Simulator"
   ]
  },
  {
   "cell_type": "markdown",
   "id": "bf58351b",
   "metadata": {},
   "source": [
    "The backend \"statevector_simulator\" of Qiskit reads the quantum state of the circuit at that point. It is a classical simulator, and, if any measurement operator is defined, it implements this measurement operator and continues by following one of the possible outcomes. \n",
    "\n",
    "We can read the current state of a circuit as follows:\n",
    "\n",
    "    job = execute(quantum_circuit,Aer.get_backend('statevector_simulator'),optimization_level=0)\n",
    "    current_quantum_state = job.result().get_statevector(quantum_circuit)\n",
    "    \n",
    "\"current_quantum_state\" is the list of amplitudes, which are complex numbers. For example, the real part of the amplitide of the first state is printed as follows:\n",
    "\n",
    "    print(current_quantum_state[0].real)\n",
    "    "
   ]
  },
  {
   "cell_type": "code",
   "execution_count": 23,
   "id": "9d8dfb3b",
   "metadata": {},
   "outputs": [
    {
     "name": "stdout",
     "output_type": "stream",
     "text": [
      "[0.+0.j 1.+0.j]\n"
     ]
    }
   ],
   "source": [
    "from qiskit import execute,Aer\n",
    "q0=QuantumRegister(1)\n",
    "c0=ClassicalRegister(1)\n",
    "circuit=QuantumCircuit(q0,c0)\n",
    "circuit.h(q0[0])\n",
    "circuit.measure(q0,c0)\n",
    "job=execute(circuit,Aer.get_backend('statevector_simulator'),optimization_level=0)\n",
    "current_quantum_state=job.result().get_statevector(circuit)\n",
    "circuit.draw(output='mpl')\n",
    "print(current_quantum_state)\n"
   ]
  },
  {
   "cell_type": "markdown",
   "id": "42cc538e",
   "metadata": {},
   "source": [
    "## Unitary Simulator"
   ]
  },
  {
   "cell_type": "markdown",
   "id": "650203ff",
   "metadata": {},
   "source": [
    "The UnitarySimulator constructs the unitary matrix for a Qiskit QuantumCircuit by applying each gate matrix to an identity matrix. The circuit may only contain gates, if it contains resets or measure operations an exception will be raised.\n"
   ]
  },
  {
   "cell_type": "code",
   "execution_count": 28,
   "id": "597b94e6",
   "metadata": {
    "collapsed": true
   },
   "outputs": [
    {
     "name": "stdout",
     "output_type": "stream",
     "text": [
      "0.0 0.0 0.707 0.707 0.0 0.0 0.0 0.0 \n",
      "0.0 0.0 0.707 -0.707 0.0 0.0 0.0 0.0 \n",
      "0.707 0.707 0.0 0.0 0.0 0.0 0.0 0.0 \n",
      "0.707 -0.707 0.0 0.0 0.0 0.0 0.0 0.0 \n",
      "0.0 0.0 0.0 0.0 0.0 0.0 0.707 0.707 \n",
      "0.0 0.0 0.0 0.0 0.0 0.0 0.707 -0.707 \n",
      "0.0 0.0 0.0 0.0 0.707 0.707 0.0 0.0 \n",
      "0.0 0.0 0.0 0.0 0.707 -0.707 0.0 0.0 \n"
     ]
    }
   ],
   "source": [
    "from qiskit import execute,Aer\n",
    "q0=QuantumRegister(3)\n",
    "c0=ClassicalRegister(3)\n",
    "qc=QuantumCircuit(q0,c0)\n",
    "qc.h(q0[0])\n",
    "qc.x(q0[1])\n",
    "job = execute(qc, Aer.get_backend('unitary_simulator'),shots=1,optimization_level=0)\n",
    "current_unitary = job.result().get_unitary(qc, decimals=3)\n",
    "for row in current_unitary:\n",
    "    column = \"\"\n",
    "    for entry in row:\n",
    "        column = column + str(entry.real) + \" \"\n",
    "    print(column)"
   ]
  }
 ],
 "metadata": {
  "kernelspec": {
   "display_name": "Python 3",
   "language": "python",
   "name": "python3"
  },
  "language_info": {
   "codemirror_mode": {
    "name": "ipython",
    "version": 3
   },
   "file_extension": ".py",
   "mimetype": "text/x-python",
   "name": "python",
   "nbconvert_exporter": "python",
   "pygments_lexer": "ipython3",
   "version": "3.8.8"
  }
 },
 "nbformat": 4,
 "nbformat_minor": 5
}
