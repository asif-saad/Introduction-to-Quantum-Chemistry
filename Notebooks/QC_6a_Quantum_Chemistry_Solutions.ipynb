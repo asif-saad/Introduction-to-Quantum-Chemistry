{
 "cells": [
  {
   "cell_type": "markdown",
   "id": "0f9839a7",
   "metadata": {},
   "source": [
    "<a href=\"https://qworld.net\" target=\"_blank\" align=\"left\"><img src=\"../qworld/images/header.jpg\"  align=\"left\"></a>\n",
    "_prepared by Vardaan Sahgal_"
   ]
  },
  {
   "cell_type": "markdown",
   "id": "271be53c",
   "metadata": {},
   "source": [
    "> `Solution to Practice Question 1`"
   ]
  },
  {
   "cell_type": "code",
   "execution_count": 5,
   "id": "2c4d7976",
   "metadata": {},
   "outputs": [],
   "source": [
    "from scipy import *\n",
    "from scipy import integrate\n",
    "from scipy import optimize\n",
    "\n",
    "def Schroed_deriv(y,r,l,En):\n",
    "    \"Given y=[u,u'] returns dy/dr=[u',u''] \"\n",
    "    (u,up) = y\n",
    "    return array([up, (l*(l+1)/r**2-2/r-En)*u])\n",
    "\n",
    "def SolveSchroedinger(En,l,R):\n",
    "    Rb=R[::-1]\n",
    "    du0=-1e-5\n",
    "    urb=integrate.odeint(Schroed_deriv, [0.0,du0], Rb, args=(l,En))\n",
    "    ur=urb[:,0][::-1]\n",
    "    norm=integrate.simps(ur**2,x=R)\n",
    "    ur *= 1./sqrt(norm)\n",
    "    return ur"
   ]
  },
  {
   "cell_type": "code",
   "execution_count": 6,
   "id": "bce7419c",
   "metadata": {
    "scrolled": true
   },
   "outputs": [
    {
     "name": "stderr",
     "output_type": "stream",
     "text": [
      "<ipython-input-6-e964b1177c0e>:7: DeprecationWarning: scipy.linspace is deprecated and will be removed in SciPy 2.0.0, use numpy.linspace instead\n",
      "  Ri = linspace(1e-6,20,500)   # linear mesh already fails for this case\n",
      "<ipython-input-5-5ba7aff8d5e6>:8: DeprecationWarning: scipy.array is deprecated and will be removed in SciPy 2.0.0, use numpy.array instead\n",
      "  return array([up, (l*(l+1)/r**2-2/r-En)*u])\n",
      "<ipython-input-5-5ba7aff8d5e6>:16: DeprecationWarning: scipy.sqrt is deprecated and will be removed in SciPy 2.0.0, use numpy.lib.scimath.sqrt instead\n",
      "  ur *= 1./sqrt(norm)\n",
      "<ipython-input-6-e964b1177c0e>:11: DeprecationWarning: scipy.logspace is deprecated and will be removed in SciPy 2.0.0, use numpy.logspace instead\n",
      "  R = logspace(-5,2.,500)\n"
     ]
    },
    {
     "data": {
      "text/plain": [
       "(0.0, 20.0)"
      ]
     },
     "execution_count": 6,
     "metadata": {},
     "output_type": "execute_result"
    },
    {
     "data": {
      "image/png": "[encoded data removed]",
      "text/plain": [
       "<Figure size 432x288 with 1 Axes>"
      ]
     },
     "metadata": {
      "needs_background": "light"
     },
     "output_type": "display_data"
    }
   ],
   "source": [
    "l=1\n",
    "En=-1./(2**2)  # 2p orbital\n",
    "\n",
    "l=1\n",
    "En = -0.25\n",
    "\n",
    "Ri = linspace(1e-6,20,500)\n",
    "ui = SolveSchroedinger(En,l,Ri)\n",
    "\n",
    "\n",
    "R = logspace(-5,2.,500)\n",
    "ur = SolveSchroedinger(En,l,R)\n",
    "\n",
    "from pylab import *\n",
    "%matplotlib inline\n",
    "\n",
    "plot(R,ur,'o-')\n",
    "xlim([0,20])"
   ]
  },
  {
   "cell_type": "markdown",
   "id": "a0b99093",
   "metadata": {},
   "source": [
    "***"
   ]
  }
 ],
 "metadata": {
  "kernelspec": {
   "display_name": "Python 3",
   "language": "python",
   "name": "python3"
  },
  "language_info": {
   "codemirror_mode": {
    "name": "ipython",
    "version": 3
   },
   "file_extension": ".py",
   "mimetype": "text/x-python",
   "name": "python",
   "nbconvert_exporter": "python",
   "pygments_lexer": "ipython3",
   "version": "3.8.10"
  }
 },
 "nbformat": 4,
 "nbformat_minor": 5
}
